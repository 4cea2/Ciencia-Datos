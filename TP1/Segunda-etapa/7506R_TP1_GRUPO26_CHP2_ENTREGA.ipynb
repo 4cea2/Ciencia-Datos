{
  "nbformat": 4,
  "nbformat_minor": 0,
  "metadata": {
    "colab": {
      "provenance": [],
      "include_colab_link": true
    },
    "kernelspec": {
      "name": "python3",
      "display_name": "Python 3"
    },
    "language_info": {
      "name": "python"
    }
  },
  "cells": [
    {
      "cell_type": "markdown",
      "metadata": {
        "id": "view-in-github",
        "colab_type": "text"
      },
      "source": [
        "<a href=\"https://colab.research.google.com/github/4cea2/7506R-2C2023-GRUPO26/blob/main/7506R_TP1_GRUPO26_CHP2_ENTREGA.ipynb\" target=\"_parent\"><img src=\"https://colab.research.google.com/assets/colab-badge.svg\" alt=\"Open In Colab\"/></a>"
      ]
    },
    {
      "cell_type": "markdown",
      "source": [
        "# **Trabajo practico 1 - Checkpoint 2**\n",
        "**Grupo**: 26\n",
        "\n",
        "**Integrantes**:\n",
        "\n",
        "Garcia, Nicolas\n",
        "\n",
        "Vallcorba, Agustin\n",
        "\n",
        "Carbajal Robles, Kevin Emir"
      ],
      "metadata": {
        "id": "OH0dQxsYMTVR"
      }
    },
    {
      "cell_type": "markdown",
      "source": [
        "## **Librerias y carga del data set**"
      ],
      "metadata": {
        "id": "HMR17Uglqd2I"
      }
    },
    {
      "cell_type": "code",
      "source": [
        "!pip install 'dtreeviz'"
      ],
      "metadata": {
        "colab": {
          "base_uri": "https://localhost:8080/"
        },
        "id": "jMkXyFv6jqb_",
        "outputId": "22e3d26c-08c4-405d-b127-e8be66670158"
      },
      "execution_count": null,
      "outputs": [
        {
          "output_type": "stream",
          "name": "stdout",
          "text": [
            "Requirement already satisfied: dtreeviz in /usr/local/lib/python3.10/dist-packages (2.2.2)\n",
            "Requirement already satisfied: graphviz>=0.9 in /usr/local/lib/python3.10/dist-packages (from dtreeviz) (0.20.1)\n",
            "Requirement already satisfied: pandas in /usr/local/lib/python3.10/dist-packages (from dtreeviz) (1.5.3)\n",
            "Requirement already satisfied: numpy in /usr/local/lib/python3.10/dist-packages (from dtreeviz) (1.23.5)\n",
            "Requirement already satisfied: scikit-learn in /usr/local/lib/python3.10/dist-packages (from dtreeviz) (1.2.2)\n",
            "Requirement already satisfied: matplotlib in /usr/local/lib/python3.10/dist-packages (from dtreeviz) (3.7.1)\n",
            "Requirement already satisfied: colour in /usr/local/lib/python3.10/dist-packages (from dtreeviz) (0.1.5)\n",
            "Requirement already satisfied: pytest in /usr/local/lib/python3.10/dist-packages (from dtreeviz) (7.4.2)\n",
            "Requirement already satisfied: contourpy>=1.0.1 in /usr/local/lib/python3.10/dist-packages (from matplotlib->dtreeviz) (1.1.1)\n",
            "Requirement already satisfied: cycler>=0.10 in /usr/local/lib/python3.10/dist-packages (from matplotlib->dtreeviz) (0.12.0)\n",
            "Requirement already satisfied: fonttools>=4.22.0 in /usr/local/lib/python3.10/dist-packages (from matplotlib->dtreeviz) (4.43.0)\n",
            "Requirement already satisfied: kiwisolver>=1.0.1 in /usr/local/lib/python3.10/dist-packages (from matplotlib->dtreeviz) (1.4.5)\n",
            "Requirement already satisfied: packaging>=20.0 in /usr/local/lib/python3.10/dist-packages (from matplotlib->dtreeviz) (23.2)\n",
            "Requirement already satisfied: pillow>=6.2.0 in /usr/local/lib/python3.10/dist-packages (from matplotlib->dtreeviz) (9.4.0)\n",
            "Requirement already satisfied: pyparsing>=2.3.1 in /usr/local/lib/python3.10/dist-packages (from matplotlib->dtreeviz) (3.1.1)\n",
            "Requirement already satisfied: python-dateutil>=2.7 in /usr/local/lib/python3.10/dist-packages (from matplotlib->dtreeviz) (2.8.2)\n",
            "Requirement already satisfied: pytz>=2020.1 in /usr/local/lib/python3.10/dist-packages (from pandas->dtreeviz) (2023.3.post1)\n",
            "Requirement already satisfied: iniconfig in /usr/local/lib/python3.10/dist-packages (from pytest->dtreeviz) (2.0.0)\n",
            "Requirement already satisfied: pluggy<2.0,>=0.12 in /usr/local/lib/python3.10/dist-packages (from pytest->dtreeviz) (1.3.0)\n",
            "Requirement already satisfied: exceptiongroup>=1.0.0rc8 in /usr/local/lib/python3.10/dist-packages (from pytest->dtreeviz) (1.1.3)\n",
            "Requirement already satisfied: tomli>=1.0.0 in /usr/local/lib/python3.10/dist-packages (from pytest->dtreeviz) (2.0.1)\n",
            "Requirement already satisfied: scipy>=1.3.2 in /usr/local/lib/python3.10/dist-packages (from scikit-learn->dtreeviz) (1.11.3)\n",
            "Requirement already satisfied: joblib>=1.1.1 in /usr/local/lib/python3.10/dist-packages (from scikit-learn->dtreeviz) (1.3.2)\n",
            "Requirement already satisfied: threadpoolctl>=2.0.0 in /usr/local/lib/python3.10/dist-packages (from scikit-learn->dtreeviz) (3.2.0)\n",
            "Requirement already satisfied: six>=1.5 in /usr/local/lib/python3.10/dist-packages (from python-dateutil>=2.7->matplotlib->dtreeviz) (1.16.0)\n"
          ]
        }
      ]
    },
    {
      "cell_type": "code",
      "source": [
        "import pandas as pd\n",
        "import numpy as np\n",
        "\n",
        "#Visualización\n",
        "import matplotlib.pyplot as plt\n",
        "import seaborn as sns\n",
        "import dtreeviz\n",
        "\n",
        "#modelos y métricas\n",
        "from sklearn import tree\n",
        "from sklearn.model_selection import train_test_split\n",
        "from sklearn.metrics import precision_score, recall_score, accuracy_score,f1_score#, precision_recall_curve, roc_curve,\n",
        "from sklearn.metrics import confusion_matrix, classification_report\n",
        "from sklearn.model_selection import cross_validate, StratifiedKFold\n",
        "from sklearn.metrics import make_scorer, f1_score\n",
        "from sklearn.model_selection import GridSearchCV\n",
        "from sklearn.model_selection import StratifiedKFold, KFold,RandomizedSearchCV\n",
        "from sklearn.tree import DecisionTreeClassifier\n",
        "from sklearn.tree import export_text\n",
        "from sklearn.tree import plot_tree\n",
        "import matplotlib.pyplot as plt\n",
        "\n",
        "#preprocesamiento\n",
        "from sklearn.preprocessing import MinMaxScaler\n",
        "\n",
        "#configuración warnings\n",
        "import warnings\n",
        "warnings.simplefilter(action='ignore', category=FutureWarning)\n",
        "warnings.simplefilter(action='ignore', category=UserWarning)\n",
        "\n",
        "#\n",
        "from sklearn.preprocessing import (\n",
        "    KBinsDiscretizer,\n",
        "    LabelEncoder,\n",
        "    MinMaxScaler,\n",
        "    Normalizer,\n",
        "    OneHotEncoder,\n",
        "    OrdinalEncoder,\n",
        "    PowerTransformer,\n",
        "    RobustScaler,\n",
        "    StandardScaler,\n",
        ")"
      ],
      "metadata": {
        "id": "Z8RfiDmslZ4D"
      },
      "execution_count": null,
      "outputs": []
    },
    {
      "cell_type": "markdown",
      "source": [
        "Cargamos el dataset de entrenamiento, que es el que obtuvimos en el checkpoint 1.\n",
        "\n",
        "De igual manera lo haremos para el dataset de test y el de train original."
      ],
      "metadata": {
        "id": "OY2QQDN3NMal"
      }
    },
    {
      "cell_type": "code",
      "source": [
        "#Dataset de entrenamiento\n",
        "ds_train = pd.read_csv('sample_data/dataset_final.csv')\n",
        "\n",
        "#Dataset de test\n",
        "ds_test = pd.read_csv(\"https://drive.google.com/u/1/uc?id=1ruDne6JVJTwK0TbDNQEUfUtoxA6gVTiy&export=download\")\n",
        "\n",
        "#Copia\n",
        "ds_test_copia = ds_test.copy()\n",
        "\n",
        "#Dataset de entrenamiento original\n",
        "df = pd.read_csv(\"https://drive.google.com/u/0/uc?id=1tjlunFxE63XIpYjWk8SPm2XPxixu8SW4&export=download\")"
      ],
      "metadata": {
        "id": "QlfnWaJmNCJ3"
      },
      "execution_count": null,
      "outputs": []
    },
    {
      "cell_type": "markdown",
      "source": [
        "## **Limpieza de los dataset**"
      ],
      "metadata": {
        "id": "hhUntkg27FF2"
      }
    },
    {
      "cell_type": "markdown",
      "source": [
        "Para entrenar los modelos, tenemos que verificar que ambos dataset (train y test) cuenten con las mismas columnas.\n",
        "\n",
        "Por ende, haremos las mismas transformaciones que hicimos en el train al test."
      ],
      "metadata": {
        "id": "TpoHxtb07Hj3"
      }
    },
    {
      "cell_type": "code",
      "source": [
        "ds_train.dtypes"
      ],
      "metadata": {
        "colab": {
          "base_uri": "https://localhost:8080/"
        },
        "id": "dSlAQR1wl9PT",
        "outputId": "e9132938-4710-4073-dea6-be9032afa7ea"
      },
      "execution_count": null,
      "outputs": [
        {
          "output_type": "execute_result",
          "data": {
            "text/plain": [
              "hotel                           object\n",
              "lead_time                        int64\n",
              "arrival_date_year                int64\n",
              "arrival_date_month              object\n",
              "arrival_date_day_of_month        int64\n",
              "adults                           int64\n",
              "children                         int64\n",
              "babies                           int64\n",
              "meal                            object\n",
              "country                         object\n",
              "market_segment                  object\n",
              "distribution_channel            object\n",
              "is_repeated_guest                int64\n",
              "reserved_room_type              object\n",
              "assigned_room_type              object\n",
              "booking_changes                  int64\n",
              "deposit_type                    object\n",
              "agent                          float64\n",
              "company                        float64\n",
              "days_in_waiting_list             int64\n",
              "customer_type                   object\n",
              "adr                            float64\n",
              "required_car_parking_spaces      int64\n",
              "total_of_special_requests        int64\n",
              "id                              object\n",
              "is_canceled                      int64\n",
              "nights_of_stay                   int64\n",
              "reservations                     int64\n",
              "dtype: object"
            ]
          },
          "metadata": {},
          "execution_count": 410
        }
      ]
    },
    {
      "cell_type": "code",
      "source": [
        "ds_test_copia.dtypes"
      ],
      "metadata": {
        "colab": {
          "base_uri": "https://localhost:8080/"
        },
        "id": "Rh3RMHzS7K2S",
        "outputId": "c8f29b20-562d-423b-82a5-801ecff3b158"
      },
      "execution_count": null,
      "outputs": [
        {
          "output_type": "execute_result",
          "data": {
            "text/plain": [
              "hotel                              object\n",
              "lead_time                           int64\n",
              "arrival_date_year                   int64\n",
              "arrival_date_month                 object\n",
              "arrival_date_week_number            int64\n",
              "arrival_date_day_of_month           int64\n",
              "stays_in_weekend_nights             int64\n",
              "stays_in_week_nights                int64\n",
              "adults                              int64\n",
              "children                          float64\n",
              "babies                              int64\n",
              "meal                               object\n",
              "country                            object\n",
              "market_segment                     object\n",
              "distribution_channel               object\n",
              "is_repeated_guest                   int64\n",
              "previous_cancellations              int64\n",
              "previous_bookings_not_canceled      int64\n",
              "reserved_room_type                 object\n",
              "assigned_room_type                 object\n",
              "booking_changes                     int64\n",
              "deposit_type                       object\n",
              "agent                             float64\n",
              "company                           float64\n",
              "days_in_waiting_list                int64\n",
              "customer_type                      object\n",
              "adr                               float64\n",
              "required_car_parking_spaces         int64\n",
              "total_of_special_requests           int64\n",
              "reservation_status_date            object\n",
              "id                                 object\n",
              "dtype: object"
            ]
          },
          "metadata": {},
          "execution_count": 411
        }
      ]
    },
    {
      "cell_type": "markdown",
      "source": [
        "Observamos el porcentaje de sus valores nulos en funcion de la columna misma."
      ],
      "metadata": {
        "id": "Mqa1Ce1E7RBZ"
      }
    },
    {
      "cell_type": "code",
      "source": [
        "filas_totales=ds_test_copia.shape[0]\n",
        "print(ds_test_copia.isna().sum()/filas_totales*100)\n",
        "print(ds_test_copia.shape)"
      ],
      "metadata": {
        "colab": {
          "base_uri": "https://localhost:8080/"
        },
        "id": "9u9hVQM87SyH",
        "outputId": "61ef4b6c-6f8c-47da-8ca2-820ecbddc2d6"
      },
      "execution_count": null,
      "outputs": [
        {
          "output_type": "stream",
          "name": "stdout",
          "text": [
            "hotel                              0.000000\n",
            "lead_time                          0.000000\n",
            "arrival_date_year                  0.000000\n",
            "arrival_date_month                 0.000000\n",
            "arrival_date_week_number           0.000000\n",
            "arrival_date_day_of_month          0.000000\n",
            "stays_in_weekend_nights            0.000000\n",
            "stays_in_week_nights               0.000000\n",
            "adults                             0.000000\n",
            "children                           0.000000\n",
            "babies                             0.000000\n",
            "meal                               0.000000\n",
            "country                            0.358018\n",
            "market_segment                     0.000000\n",
            "distribution_channel               0.000000\n",
            "is_repeated_guest                  0.000000\n",
            "previous_cancellations             0.000000\n",
            "previous_bookings_not_canceled     0.000000\n",
            "reserved_room_type                 0.000000\n",
            "assigned_room_type                 0.000000\n",
            "booking_changes                    0.000000\n",
            "deposit_type                       0.000000\n",
            "agent                             12.673827\n",
            "company                           95.036744\n",
            "days_in_waiting_list               0.000000\n",
            "customer_type                      0.000000\n",
            "adr                                0.000000\n",
            "required_car_parking_spaces        0.000000\n",
            "total_of_special_requests          0.000000\n",
            "reservation_status_date            0.000000\n",
            "id                                 0.000000\n",
            "dtype: float64\n",
            "(26535, 31)\n"
          ]
        }
      ]
    },
    {
      "cell_type": "markdown",
      "source": [
        "Apliquemos las transformaciones y eliminaciones de columnas."
      ],
      "metadata": {
        "id": "QfNo3NXarYWl"
      }
    },
    {
      "cell_type": "code",
      "source": [
        "#En el DataFrame que comenzamos a filtrar, unimos el valor de las dos columnas en uno solo\n",
        "ds_test_copia[\"nights_of_stay\"] = ds_test_copia['stays_in_week_nights'] + ds_test_copia['stays_in_weekend_nights']\n",
        "ds_test_copia[\"reservations\"] = ds_test_copia['previous_cancellations'] + ds_test_copia['previous_bookings_not_canceled']\n",
        "\n",
        "#Eliminamos ambas columnas de nuestro DataFrame\n",
        "ds_test_copia = ds_test_copia.drop('stays_in_week_nights', axis=1)\n",
        "ds_test_copia = ds_test_copia.drop('stays_in_weekend_nights', axis=1)\n",
        "ds_test_copia = ds_test_copia.drop('previous_cancellations', axis=1)\n",
        "ds_test_copia = ds_test_copia.drop('previous_bookings_not_canceled', axis=1)\n",
        "\n",
        "#Eliminamos columnas innecesarias\n",
        "ds_test_copia = ds_test_copia.drop('arrival_date_week_number', axis=1)\n",
        "ds_test_copia = ds_test_copia.drop('id', axis=1)\n",
        "ds_test_copia = ds_test_copia.drop('reservation_status_date', axis=1)"
      ],
      "metadata": {
        "id": "dwNKlTfc7YJg"
      },
      "execution_count": null,
      "outputs": []
    },
    {
      "cell_type": "code",
      "source": [
        "#Reemplazamos valores NaNs por 0\n",
        "columnas_a_reemplazar = ['company', 'agent']\n",
        "ds_test_copia[columnas_a_reemplazar] = ds_test_copia[columnas_a_reemplazar].fillna(0)"
      ],
      "metadata": {
        "id": "hUm5Tldq7Z3R"
      },
      "execution_count": null,
      "outputs": []
    },
    {
      "cell_type": "code",
      "source": [
        "#Mediana de children\n",
        "mediana = ds_test_copia['children'].median()\n",
        "\n",
        "# Convertir la columna \"children\" de float a enteros y reemplazar NaN con la mediana\n",
        "ds_test_copia[\"children\"] = pd.to_numeric(ds_test_copia[\"children\"], downcast=\"integer\", errors=\"coerce\").fillna(mediana).astype(int)"
      ],
      "metadata": {
        "id": "3OX5jtXf7bLp"
      },
      "execution_count": null,
      "outputs": []
    },
    {
      "cell_type": "markdown",
      "source": [
        "En el train, decidimos eliminar los registros donde la variable **country** tomaba valores nulos, pero en el test no podemos hacer esto.\n",
        "\n",
        "Reemplazaremos los valores nulos por la moda, asi podemos trabajar con estos registros."
      ],
      "metadata": {
        "id": "xgTEqjZsE6HJ"
      }
    },
    {
      "cell_type": "code",
      "source": [
        "#Moda de country\n",
        "moda = ds_test_copia['country'].mode()[0]\n",
        "\n",
        "#Reemplazar los NaN por la moda\n",
        "ds_test_copia['country'].fillna(moda, inplace=True)"
      ],
      "metadata": {
        "id": "T49gU0T6FIOl"
      },
      "execution_count": null,
      "outputs": []
    },
    {
      "cell_type": "markdown",
      "source": [
        "Ahora, tenemos que tener cuidado con las columnas de tipo object, ya que al entrenar los modelos, necesitamos que las columnas sean si o si numericas."
      ],
      "metadata": {
        "id": "c-UpNNj1s9Ss"
      }
    },
    {
      "cell_type": "code",
      "source": [
        "#Columnas object del train\n",
        "columnas_train_object = ds_train.select_dtypes(include=['object'])\n",
        "\n",
        "columnas_train_object.columns.tolist()"
      ],
      "metadata": {
        "id": "aWpJfi-Zs83k",
        "colab": {
          "base_uri": "https://localhost:8080/"
        },
        "outputId": "1c09ac44-69b1-4892-80c7-c2ebd630ae52"
      },
      "execution_count": null,
      "outputs": [
        {
          "output_type": "execute_result",
          "data": {
            "text/plain": [
              "['hotel',\n",
              " 'arrival_date_month',\n",
              " 'meal',\n",
              " 'country',\n",
              " 'market_segment',\n",
              " 'distribution_channel',\n",
              " 'reserved_room_type',\n",
              " 'assigned_room_type',\n",
              " 'deposit_type',\n",
              " 'customer_type',\n",
              " 'id']"
            ]
          },
          "metadata": {},
          "execution_count": 417
        }
      ]
    },
    {
      "cell_type": "code",
      "source": [
        "#Columnas object del test\n",
        "columnas_test_object = ds_test_copia.select_dtypes(include=['object'])\n",
        "\n",
        "columnas_test_object.columns.tolist()"
      ],
      "metadata": {
        "colab": {
          "base_uri": "https://localhost:8080/"
        },
        "id": "F8uQ7qDI8F2s",
        "outputId": "37a0ed8a-2244-4ac2-d00f-a3dbe1963690"
      },
      "execution_count": null,
      "outputs": [
        {
          "output_type": "execute_result",
          "data": {
            "text/plain": [
              "['hotel',\n",
              " 'arrival_date_month',\n",
              " 'meal',\n",
              " 'country',\n",
              " 'market_segment',\n",
              " 'distribution_channel',\n",
              " 'reserved_room_type',\n",
              " 'assigned_room_type',\n",
              " 'deposit_type',\n",
              " 'customer_type']"
            ]
          },
          "metadata": {},
          "execution_count": 418
        }
      ]
    },
    {
      "cell_type": "markdown",
      "source": [
        "Eliminaremos tambien la columna id del dataset de train, ya que no sera necesaria cuando entrenemos los modelos."
      ],
      "metadata": {
        "id": "lTEOCTdFBwNW"
      }
    },
    {
      "cell_type": "code",
      "source": [
        "ds_train = ds_train.drop('id', axis=1)"
      ],
      "metadata": {
        "id": "o6iUDah275II"
      },
      "execution_count": null,
      "outputs": []
    },
    {
      "cell_type": "markdown",
      "source": [
        "### **Conversiones**"
      ],
      "metadata": {
        "id": "aA1_aCgcFSIT"
      }
    },
    {
      "cell_type": "markdown",
      "source": [
        "Una vez identificadas estas columnas categoricas, tenemos que aplicar una conversion de variables categoricas.\n",
        "\n",
        "Para esto, usaremos las conversiones principales **One Hot Encoding (dummies)** y **Ordinal Encoder**."
      ],
      "metadata": {
        "id": "LjYbaVNa8Kp7"
      }
    },
    {
      "cell_type": "markdown",
      "source": [
        "Dependiendo si los valores que puedan tomar estas columnas son las mismas que tomaron en el train, aplicaremos una o otra conversion."
      ],
      "metadata": {
        "id": "maC6UNP58PJy"
      }
    },
    {
      "cell_type": "code",
      "source": [
        "#hotel\n",
        "ds_test_copia['hotel'].value_counts()"
      ],
      "metadata": {
        "colab": {
          "base_uri": "https://localhost:8080/"
        },
        "id": "t8hF7TJM8SDW",
        "outputId": "1f7e29a9-bd1d-44f1-a2b6-bcbb08b8c9d6"
      },
      "execution_count": null,
      "outputs": [
        {
          "output_type": "execute_result",
          "data": {
            "text/plain": [
              "City Hotel      18295\n",
              "Resort Hotel     8240\n",
              "Name: hotel, dtype: int64"
            ]
          },
          "metadata": {},
          "execution_count": 420
        }
      ]
    },
    {
      "cell_type": "code",
      "source": [
        "#arrival_date_month\n",
        "ds_test_copia['arrival_date_month'].value_counts()"
      ],
      "metadata": {
        "colab": {
          "base_uri": "https://localhost:8080/"
        },
        "id": "-dDOgKgk8S-z",
        "outputId": "aaebba39-4127-4c7a-9084-8afa3516cf6b"
      },
      "execution_count": null,
      "outputs": [
        {
          "output_type": "execute_result",
          "data": {
            "text/plain": [
              "August       3115\n",
              "July         2780\n",
              "May          2656\n",
              "April        2591\n",
              "June         2526\n",
              "October      2487\n",
              "September    2347\n",
              "March        2109\n",
              "February     1698\n",
              "November     1481\n",
              "December     1467\n",
              "January      1278\n",
              "Name: arrival_date_month, dtype: int64"
            ]
          },
          "metadata": {},
          "execution_count": 421
        }
      ]
    },
    {
      "cell_type": "code",
      "source": [
        "#meal\n",
        "ds_test_copia['meal'].value_counts()"
      ],
      "metadata": {
        "colab": {
          "base_uri": "https://localhost:8080/"
        },
        "id": "RZTWXo7m8T02",
        "outputId": "56cd58bc-02a0-47b9-a6b7-17bc1e500766"
      },
      "execution_count": null,
      "outputs": [
        {
          "output_type": "execute_result",
          "data": {
            "text/plain": [
              "BB           20629\n",
              "HB            3094\n",
              "SC            2369\n",
              "Undefined      238\n",
              "FB             205\n",
              "Name: meal, dtype: int64"
            ]
          },
          "metadata": {},
          "execution_count": 422
        }
      ]
    },
    {
      "cell_type": "code",
      "source": [
        "#deposit_type\n",
        "ds_test_copia['deposit_type'].value_counts()"
      ],
      "metadata": {
        "colab": {
          "base_uri": "https://localhost:8080/"
        },
        "id": "H-129-fH8UEJ",
        "outputId": "f229086e-3ce7-4579-bd8a-06673ba79766"
      },
      "execution_count": null,
      "outputs": [
        {
          "output_type": "execute_result",
          "data": {
            "text/plain": [
              "No Deposit    22112\n",
              "Non Refund     4396\n",
              "Refundable       27\n",
              "Name: deposit_type, dtype: int64"
            ]
          },
          "metadata": {},
          "execution_count": 423
        }
      ]
    },
    {
      "cell_type": "code",
      "source": [
        "#customer_type\n",
        "ds_test_copia['customer_type'].value_counts()"
      ],
      "metadata": {
        "colab": {
          "base_uri": "https://localhost:8080/"
        },
        "id": "KrxIN63Q8UUq",
        "outputId": "e3289a4a-3634-4085-dfa6-8580b5f4dd7f"
      },
      "execution_count": null,
      "outputs": [
        {
          "output_type": "execute_result",
          "data": {
            "text/plain": [
              "Transient          20310\n",
              "Transient-Party     5248\n",
              "Contract             886\n",
              "Group                 91\n",
              "Name: customer_type, dtype: int64"
            ]
          },
          "metadata": {},
          "execution_count": 424
        }
      ]
    },
    {
      "cell_type": "code",
      "source": [
        "#reserved_room_type\n",
        "ds_test_copia['reserved_room_type'].value_counts()"
      ],
      "metadata": {
        "colab": {
          "base_uri": "https://localhost:8080/"
        },
        "id": "inelqkHp8W3D",
        "outputId": "2a3587d7-1efc-448f-d93b-db1eb3d38d7c"
      },
      "execution_count": null,
      "outputs": [
        {
          "output_type": "execute_result",
          "data": {
            "text/plain": [
              "A    19366\n",
              "D     4176\n",
              "E     1352\n",
              "F      630\n",
              "G      442\n",
              "B      241\n",
              "C      202\n",
              "H      118\n",
              "P        5\n",
              "L        3\n",
              "Name: reserved_room_type, dtype: int64"
            ]
          },
          "metadata": {},
          "execution_count": 425
        }
      ]
    },
    {
      "cell_type": "markdown",
      "source": [
        "El valor P no estaba contemplado en el dataset de train."
      ],
      "metadata": {
        "id": "v2icRLmm8YMu"
      }
    },
    {
      "cell_type": "code",
      "source": [
        "#country\n",
        "ds_test_copia['country'].value_counts()"
      ],
      "metadata": {
        "colab": {
          "base_uri": "https://localhost:8080/"
        },
        "id": "NoafLFwW8f_q",
        "outputId": "3b6fdc02-abaf-4608-a335-17a8c9bffa98"
      },
      "execution_count": null,
      "outputs": [
        {
          "output_type": "execute_result",
          "data": {
            "text/plain": [
              "PRT    12124\n",
              "GBR     2387\n",
              "FRA     2118\n",
              "ESP     1757\n",
              "DEU     1405\n",
              "       ...  \n",
              "MLT        1\n",
              "ATF        1\n",
              "TZA        1\n",
              "PAK        1\n",
              "NIC        1\n",
              "Name: country, Length: 135, dtype: int64"
            ]
          },
          "metadata": {},
          "execution_count": 426
        }
      ]
    },
    {
      "cell_type": "markdown",
      "source": [
        "Hay mas paises a comparacion del dataset de train, capaz haya tambies paises del train que no aparezca en el test."
      ],
      "metadata": {
        "id": "XJ5pnK3C8jgE"
      }
    },
    {
      "cell_type": "code",
      "source": [
        "#assigned_room_type\n",
        "ds_test_copia['assigned_room_type'].value_counts()"
      ],
      "metadata": {
        "colab": {
          "base_uri": "https://localhost:8080/"
        },
        "id": "PdE01gG18f22",
        "outputId": "90ee23c8-0f71-4020-ef90-ad9c983a065c"
      },
      "execution_count": null,
      "outputs": [
        {
          "output_type": "execute_result",
          "data": {
            "text/plain": [
              "A    17218\n",
              "D     5316\n",
              "E     1576\n",
              "F      764\n",
              "G      517\n",
              "C      445\n",
              "B      439\n",
              "H      135\n",
              "I       66\n",
              "K       54\n",
              "P        5\n",
              "Name: assigned_room_type, dtype: int64"
            ]
          },
          "metadata": {},
          "execution_count": 427
        }
      ]
    },
    {
      "cell_type": "markdown",
      "source": [
        "El valor P no estaba contemplado en el dataset de train. Vemos que tampoco aparece el valor L, el cual si estaba contemplado."
      ],
      "metadata": {
        "id": "TQDfzk4n8mcR"
      }
    },
    {
      "cell_type": "code",
      "source": [
        "#distribution_channel\n",
        "ds_test_copia['distribution_channel'].value_counts()"
      ],
      "metadata": {
        "colab": {
          "base_uri": "https://localhost:8080/"
        },
        "id": "ut46e_xZ8xKX",
        "outputId": "f3d279af-dab0-44ca-bcae-07aedfd91da3"
      },
      "execution_count": null,
      "outputs": [
        {
          "output_type": "execute_result",
          "data": {
            "text/plain": [
              "TA/TO        22250\n",
              "Direct        2879\n",
              "Corporate     1368\n",
              "GDS             38\n",
              "Name: distribution_channel, dtype: int64"
            ]
          },
          "metadata": {},
          "execution_count": 428
        }
      ]
    },
    {
      "cell_type": "markdown",
      "source": [
        "El valor Undefined no esta contemplado en el dataset de test."
      ],
      "metadata": {
        "id": "jqHyMk2H8zgu"
      }
    },
    {
      "cell_type": "code",
      "source": [
        "#market_segment\n",
        "ds_test_copia['market_segment'].value_counts()"
      ],
      "metadata": {
        "colab": {
          "base_uri": "https://localhost:8080/"
        },
        "id": "Fm3hVX-b82cU",
        "outputId": "b3638a03-8002-433d-9cdd-0e6d15f7fee2"
      },
      "execution_count": null,
      "outputs": [
        {
          "output_type": "execute_result",
          "data": {
            "text/plain": [
              "Online TA        12462\n",
              "Offline TA/TO     5308\n",
              "Groups            5077\n",
              "Direct            2454\n",
              "Corporate         1064\n",
              "Complementary      123\n",
              "Aviation            47\n",
              "Name: market_segment, dtype: int64"
            ]
          },
          "metadata": {},
          "execution_count": 429
        }
      ]
    },
    {
      "cell_type": "markdown",
      "source": [
        "Aca observamos lo mismo, el valor Undefined no esta contemplado."
      ],
      "metadata": {
        "id": "dUX4OXHN82wL"
      }
    },
    {
      "cell_type": "markdown",
      "source": [
        "Las siguientes columnas presentan algunos valores diferentes a los que pueden tomar ambos datasets.\n",
        "\n",
        "*   reserved_room_type\n",
        "*   country\n",
        "*   assigned_room_type\n",
        "*   distribution_channel\n",
        "*   market_segment"
      ],
      "metadata": {
        "id": "4YTjp0Jd866q"
      }
    },
    {
      "cell_type": "markdown",
      "source": [
        "Para estas variables, aplicaremos la conversion **dummies**, ya que pueden tomar multiples categorias."
      ],
      "metadata": {
        "id": "t4jrNTdO8_8-"
      }
    },
    {
      "cell_type": "markdown",
      "source": [
        "Empezemos con la variable **reserved_room_type**."
      ],
      "metadata": {
        "id": "cyA0uTmQ9S96"
      }
    },
    {
      "cell_type": "code",
      "source": [
        "#Dummies en el test\n",
        "ds_test_copia = pd.get_dummies(ds_test_copia, columns=['reserved_room_type'])"
      ],
      "metadata": {
        "id": "PZj-AEHR9hU6"
      },
      "execution_count": null,
      "outputs": []
    },
    {
      "cell_type": "code",
      "source": [
        "#Dummies en el train\n",
        "ds_train = pd.get_dummies(ds_train, columns=['reserved_room_type'])\n",
        "\n",
        "#El valor P no aparece en el train, por ende lo agregamos\n",
        "ds_train[\"reserved_room_type_P\"] = 0"
      ],
      "metadata": {
        "id": "Tf9wO78T9oLX"
      },
      "execution_count": null,
      "outputs": []
    },
    {
      "cell_type": "markdown",
      "source": [
        "Seguimos con **country**.\n",
        "\n",
        "Para esta variable, vemos que en el dataset de train, toma valores que no estan en el dataset de test, y viceversa; hay valores del dataset de test que no aparece en el dataset de train."
      ],
      "metadata": {
        "id": "O5A6IKsG9-PK"
      }
    },
    {
      "cell_type": "markdown",
      "source": [
        "Encontremos esos valores que difieren."
      ],
      "metadata": {
        "id": "fDQ9ez8E_Cr-"
      }
    },
    {
      "cell_type": "code",
      "source": [
        "# Obtener los valores únicos de la columna country en ambos datasets\n",
        "valores_unicos_ds_test_copia = ds_test_copia['country'].unique()\n",
        "valores_unicos_ds_train = ds_train['country'].unique()\n",
        "\n",
        "# Valores de country que están en el test, pero no en el train\n",
        "diferentes_en_test = [valor for valor in valores_unicos_ds_test_copia if valor not in valores_unicos_ds_train]\n",
        "\n",
        "# Valores de country que están en el train, pero no en el test\n",
        "diferentes_en_train = [valor for valor in valores_unicos_ds_train if valor not in valores_unicos_ds_test_copia]\n",
        "\n",
        "# Mostramos los valores diferentes en el dataset de test\n",
        "print(\"Valores que estan en el test, pero no en el train:\")\n",
        "print(diferentes_en_test)\n",
        "\n",
        "# Mostraamos los valores diferentes en el dataset de train\n",
        "print(\"\\nValores que estan en el train, pero no en el test:\")\n",
        "print(diferentes_en_train)"
      ],
      "metadata": {
        "colab": {
          "base_uri": "https://localhost:8080/"
        },
        "id": "iLzpjtJn-VrM",
        "outputId": "4eac5e3c-627c-4be0-c30c-b3d4eb880b5b"
      },
      "execution_count": null,
      "outputs": [
        {
          "output_type": "stream",
          "name": "stdout",
          "text": [
            "Valores que estan en el test, pero no en el train:\n",
            "['ATF', 'UZB', 'SLV', 'DMA', 'ASM', 'DJI', 'TMP', 'SMR', 'BFA', 'MLI', 'KHM', 'NIC']\n",
            "\n",
            "Valores que estan en el train, pero no en el test:\n",
            "['MUS', 'FRO', 'ARM', 'MDG', 'AZE', 'VGB', 'ETH', 'COM', 'MYT', 'BEN', 'SYC', 'MNE', 'FJI', 'HND', 'PAN', 'KNA', 'KEN', 'UMI', 'PYF', 'CIV', 'ZMB', 'TGO', 'SYR', 'SDN', 'NAM', 'GTM']\n"
          ]
        }
      ]
    },
    {
      "cell_type": "markdown",
      "source": [
        "Ahora bien, estos valores que le faltan a ambos datasets los agregaremos manualmente y le asignaremos 0, ya que con dummies agregara columnas que solo esten en el dataset."
      ],
      "metadata": {
        "id": "NnZnJ3N3-TIO"
      }
    },
    {
      "cell_type": "code",
      "source": [
        "#Agrego las columnas en el test\n",
        "for columna in diferentes_en_train:\n",
        "  nueva_columna = 'country_' + str(columna)\n",
        "  ds_test_copia[nueva_columna]= 0\n",
        "\n",
        "#Agrego las columnas en el train\n",
        "for columna in diferentes_en_test:\n",
        "  nueva_columna = 'country_' + columna\n",
        "  ds_train[nueva_columna]= 0"
      ],
      "metadata": {
        "id": "w8G7vsHZ_uD3"
      },
      "execution_count": null,
      "outputs": []
    },
    {
      "cell_type": "markdown",
      "source": [
        "Agregamos los que faltan con dummies."
      ],
      "metadata": {
        "id": "KFHbpmol_-QY"
      }
    },
    {
      "cell_type": "code",
      "source": [
        "#Dummies en el test\n",
        "ds_test_copia = pd.get_dummies(ds_test_copia, columns=['country'])"
      ],
      "metadata": {
        "id": "huT0_PPS__vG"
      },
      "execution_count": null,
      "outputs": []
    },
    {
      "cell_type": "code",
      "source": [
        "#Dummies en el train\n",
        "ds_train = pd.get_dummies(ds_train, columns=['country'])"
      ],
      "metadata": {
        "id": "yinxPQqfADpn"
      },
      "execution_count": null,
      "outputs": []
    },
    {
      "cell_type": "markdown",
      "source": [
        "Seguimos con **assigned_room_type**."
      ],
      "metadata": {
        "id": "IYSLgua6AJDY"
      }
    },
    {
      "cell_type": "code",
      "source": [
        "#Dummies en el test\n",
        "ds_test_copia = pd.get_dummies(ds_test_copia, columns=['assigned_room_type'])\n",
        "\n",
        "#El valor L no aparece en el test, por ende lo agregamos\n",
        "ds_test_copia[\"assigned_room_type_L\"] = 0"
      ],
      "metadata": {
        "id": "cZ6PirlaAN0b"
      },
      "execution_count": null,
      "outputs": []
    },
    {
      "cell_type": "code",
      "source": [
        "#Dummies en el train\n",
        "ds_train = pd.get_dummies(ds_train, columns=['assigned_room_type'])\n",
        "\n",
        "#El valor P no aparece en el train, por ende lo agregamos\n",
        "ds_train[\"assigned_room_type_P\"] = 0"
      ],
      "metadata": {
        "id": "qEFW9I7OAc3a"
      },
      "execution_count": null,
      "outputs": []
    },
    {
      "cell_type": "markdown",
      "source": [
        "Seguimos con **distribution_channel**."
      ],
      "metadata": {
        "id": "2P5XwXrZAk3d"
      }
    },
    {
      "cell_type": "code",
      "source": [
        "#Dummies en el test\n",
        "ds_test_copia = pd.get_dummies(ds_test_copia, columns=['distribution_channel'])\n",
        "\n",
        "#El valor Undefined no aparece en el test, por ende lo agregamos\n",
        "ds_test_copia[\"distribution_channel_Undefined\"] = 0"
      ],
      "metadata": {
        "id": "QRQtNMjGAojO"
      },
      "execution_count": null,
      "outputs": []
    },
    {
      "cell_type": "code",
      "source": [
        "#Dummies en el train\n",
        "ds_train = pd.get_dummies(ds_train, columns=['distribution_channel'])"
      ],
      "metadata": {
        "id": "EyTnFwbVAqSj"
      },
      "execution_count": null,
      "outputs": []
    },
    {
      "cell_type": "markdown",
      "source": [
        "Por ultimo, **market_segment**."
      ],
      "metadata": {
        "id": "EVyHdTsUAzN0"
      }
    },
    {
      "cell_type": "code",
      "source": [
        "#Dummies en el test\n",
        "ds_test_copia = pd.get_dummies(ds_test_copia, columns=['market_segment'])\n",
        "\n",
        "#El valor Undefined no aparece en el test, por ende lo agregamos\n",
        "ds_test_copia[\"market_segment_Undefined\"] = 0"
      ],
      "metadata": {
        "id": "3k__PtzBA2P5"
      },
      "execution_count": null,
      "outputs": []
    },
    {
      "cell_type": "code",
      "source": [
        "#Dummies en el train\n",
        "ds_train = pd.get_dummies(ds_train, columns=['market_segment'])"
      ],
      "metadata": {
        "id": "CCdUXTifA8hT"
      },
      "execution_count": null,
      "outputs": []
    },
    {
      "cell_type": "markdown",
      "source": [
        "Las demas columnas categoricas adoptan los mismos valores, por lo cual aplicaremos la conversion **Ordinal Encoder**."
      ],
      "metadata": {
        "id": "HkviWaLqtLUG"
      }
    },
    {
      "cell_type": "code",
      "source": [
        "#Ordinal Encoder\n",
        "oe = OrdinalEncoder(dtype='int')\n",
        "\n",
        "#Test\n",
        "ds_test_copia[['hotel']] = oe.fit_transform( ds_test_copia[['hotel']] )\n",
        "ds_test_copia[['arrival_date_month']] = oe.fit_transform( ds_test_copia[['arrival_date_month']] )\n",
        "ds_test_copia[['meal']] = oe.fit_transform( ds_test_copia[['meal']] )\n",
        "ds_test_copia[['deposit_type']] = oe.fit_transform( ds_test_copia[['deposit_type']] )\n",
        "ds_test_copia[['customer_type']] = oe.fit_transform( ds_test_copia[['customer_type']] )"
      ],
      "metadata": {
        "id": "doW59iTotIQ1"
      },
      "execution_count": null,
      "outputs": []
    },
    {
      "cell_type": "code",
      "source": [
        "#Train\n",
        "ds_train[['hotel']] = oe.fit_transform( ds_train[['hotel']] )\n",
        "ds_train[['arrival_date_month']] = oe.fit_transform( ds_train[['arrival_date_month']] )\n",
        "ds_train['meal'].fillna(ds_train['meal'].mode()[0], inplace=True)\n",
        "ds_train[['meal']] = oe.fit_transform( ds_train[['meal']] )\n",
        "ds_train['deposit_type'].fillna(ds_train['deposit_type'].mode()[0], inplace=True)\n",
        "ds_train[['deposit_type']] = oe.fit_transform( ds_train[['deposit_type']] )\n",
        "ds_train['customer_type'].fillna(ds_train['customer_type'].mode()[0], inplace=True)\n",
        "ds_train[['customer_type']] = oe.fit_transform( ds_train[['customer_type']] )"
      ],
      "metadata": {
        "id": "0GmytXAeBcjN"
      },
      "execution_count": null,
      "outputs": []
    },
    {
      "cell_type": "markdown",
      "source": [
        "Ordenamos ambos dataset, ya que al momento de entrenar los modelos, necesitamos que el orden de las columnas coincidan."
      ],
      "metadata": {
        "id": "ja2cUd6mBhrA"
      }
    },
    {
      "cell_type": "code",
      "source": [
        "ds_train = ds_train.sort_index(axis=1)\n",
        "ds_test_copia = ds_test_copia.sort_index(axis=1)"
      ],
      "metadata": {
        "id": "imAdyc9cBoT1"
      },
      "execution_count": null,
      "outputs": []
    },
    {
      "cell_type": "markdown",
      "source": [
        "## **Entrenamiento de modelos**"
      ],
      "metadata": {
        "id": "Yh37-MXcBrjh"
      }
    },
    {
      "cell_type": "markdown",
      "source": [
        "Para entrenar cada modelo, haremos una division del dataset de train.\n",
        "\n",
        "Entrenaremos con un 70%, y dejaremos un 30% para testear."
      ],
      "metadata": {
        "id": "UXhHUpzVBytX"
      }
    },
    {
      "cell_type": "code",
      "source": [
        "#Creo un dataset con los features que voy a usar para clasificar\n",
        "ds_train_x=ds_train.drop(['is_canceled'], axis='columns', inplace=False)\n",
        "\n",
        "#Creo un dataset con la variable target\n",
        "ds_train_y = ds_train['is_canceled'].copy()\n",
        "\n",
        "#Genero los conjuntos de train y test\n",
        "x_train, x_test, y_train, y_test = train_test_split(ds_train_x,\n",
        "                                                    ds_train_y,\n",
        "                                                    test_size=0.3,  #proporcion 70/30\n",
        "                                                    random_state=2) #semilla"
      ],
      "metadata": {
        "id": "aC_dtJMWuXU6"
      },
      "execution_count": null,
      "outputs": []
    },
    {
      "cell_type": "markdown",
      "source": [
        "### **Metricas**"
      ],
      "metadata": {
        "id": "2igUEr_nXJYm"
      }
    },
    {
      "cell_type": "markdown",
      "source": [
        "¿Que metricas tenemos que elegir para evaluar los modelos?\n",
        "\n",
        "Tenemos 4 tipos, que son los que vimos en clases:\n",
        "\n",
        "* Exactitud (**Accuracy**): Mide la proporción de predicciones correctas en el conjunto de datos de prueba.\n",
        "\n",
        "* Precisión (**Precision**): Mide la proporción de predicciones positivas correctas entre todas las predicciones positivas.\n",
        "\n",
        "* Exhaustividad (**Recall**): Mide la proporción de muestras positivas correctas que se identificaron correctamente.\n",
        "\n",
        "* Puntaje F1 (**F1 Score**): Es una métrica que combina precisión y exhaustividad en un solo número.\n",
        "\n",
        "La elección de la métrica adecuada depende del problema que estemos abordando. En nuestro caso, estamos trabajando en un problema de detección de cancelaciones en reservas, por ende, la precisión y la exhaustividad pueden ser más importantes que las demas, en general.\n",
        "\n",
        "Entonces, todos estos modelos se centraran en mejorar la metrica **f1_score**.  No solo nos sirve porque combina precisión y exhaustividad en un solo número, sino que nos sirve para competir en la competencia de kaggle.\n",
        "\n",
        "De igual manera vamos a ir viendo las demas metricas, pero el foco estara en la metrica mencionada anteriormente."
      ],
      "metadata": {
        "id": "DwqQVW9R_Lg8"
      }
    },
    {
      "cell_type": "markdown",
      "source": [
        "### **Modelo 1**"
      ],
      "metadata": {
        "id": "YhpMhdprpCSH"
      }
    },
    {
      "cell_type": "markdown",
      "source": [
        "Este modelo trata de buscar la mejor combinacion de hiperparametros con el metodo **Randomized Search Cross Validation**.\n",
        "\n",
        "La cantidad de folds que usaremos sera de 10, ya que contamos con muchos registros."
      ],
      "metadata": {
        "id": "CMb_kiUpWcmu"
      }
    },
    {
      "cell_type": "markdown",
      "source": [
        "Estos seran los hiperparámetros que trataremos de buscar:\n",
        "\n",
        "* max_depth: criterio de parada (ej: máxima profundidad, osea, niveles/preguntas)\n",
        "* min_samples_leaf: cantidad minima de muestras para considerar un nodo como una hoja.\n",
        "* ccp_alpha: estrategia de poda\n",
        "* min_samples_split: cantidad de muestras que tiene que tener un nodo."
      ],
      "metadata": {
        "id": "j396vrWJpCSK"
      }
    },
    {
      "cell_type": "markdown",
      "source": [
        "Cada entrenamiento se centrara en buscar un solo hiperparametros de los ya mencionados. Cuando avancemos en los entrenamientos, usaremos los anteriores para mejorarlos."
      ],
      "metadata": {
        "id": "QEdPKC1NXLpv"
      }
    },
    {
      "cell_type": "markdown",
      "source": [
        "#### **Entrenamiento N1**"
      ],
      "metadata": {
        "id": "3oiRTUOXpCSL"
      }
    },
    {
      "cell_type": "markdown",
      "source": [
        "Este entrenamiento se centrara en buscar el mejor hiperparametro **max_depth**.\n",
        "\n",
        "Como es el primer entrenamiento, los demas hiperparametros fueron sacados de la practica, para tener una base por donde empezar."
      ],
      "metadata": {
        "id": "68NuMm3nXbKo"
      }
    },
    {
      "cell_type": "markdown",
      "source": [
        "Empezamos buscando un max_depth en el rango de 10-50, en donde los valores que tomaba mayormente era entre 10-30.\n",
        "\n",
        "A medida que fuimos achicando el rango, encontramos una tendencia de la variable, que toma el valor 16."
      ],
      "metadata": {
        "id": "Cxn2kRQCayHS"
      }
    },
    {
      "cell_type": "markdown",
      "source": [
        "Aplicamos el metodo de busqueda mencionado anteriormente."
      ],
      "metadata": {
        "id": "KyPtjcczpCSM"
      }
    },
    {
      "cell_type": "code",
      "source": [
        "#Cantidad de combinaciones de parametros que quiero probar\n",
        "n=10\n",
        "\n",
        "#Conjunto de parámetros que quiero usar\n",
        "params_grid = {'criterion':['entropy'],\n",
        "               'max_depth':list(range(10, 20)),\n",
        "               'min_samples_leaf':[10],\n",
        "               'ccp_alpha': [0.0001]\n",
        "               }\n",
        "\n",
        "\n",
        "#Cantidad de splits para el Cross Validation\n",
        "folds=10\n",
        "\n",
        "#Kfold estratificado - arma los folds\n",
        "kfoldcv = StratifiedKFold(n_splits=folds)\n",
        "\n",
        "#Clasificador\n",
        "base_tree = DecisionTreeClassifier()\n",
        "\n",
        "#Metrica que quiero optimizar F1 Score\n",
        "scorer_fn = make_scorer(f1_score)\n",
        "\n",
        "#Random Search Cross Validation\n",
        "randomcv = RandomizedSearchCV(estimator=base_tree,\n",
        "                              param_distributions = params_grid,\n",
        "                              scoring=scorer_fn,\n",
        "                              cv=kfoldcv,\n",
        "                              n_iter=n)\n",
        "\n",
        "#Busco los hiperparamtros que optimizan F1 Score\n",
        "randomcv.fit(x_train,y_train);"
      ],
      "metadata": {
        "id": "ktzxHd3vpCSN"
      },
      "execution_count": null,
      "outputs": []
    },
    {
      "cell_type": "markdown",
      "source": [
        "Observemos los parametros y el score que nos dio."
      ],
      "metadata": {
        "id": "LMdeyaNiai7_"
      }
    },
    {
      "cell_type": "code",
      "source": [
        "#Mejores hiperparametros del arbol\n",
        "print(randomcv.best_params_)\n",
        "#Mejor métrica\n",
        "print(randomcv.best_score_)"
      ],
      "metadata": {
        "colab": {
          "base_uri": "https://localhost:8080/"
        },
        "outputId": "00117243-263a-4f03-fd70-c9ea874e67ae",
        "id": "birSi2WlpCSO"
      },
      "execution_count": null,
      "outputs": [
        {
          "output_type": "stream",
          "name": "stdout",
          "text": [
            "{'min_samples_leaf': 10, 'max_depth': 16, 'criterion': 'entropy', 'ccp_alpha': 0.0001}\n",
            "0.8470399061100924\n"
          ]
        }
      ]
    },
    {
      "cell_type": "markdown",
      "source": [
        "Los scores obtenidos en las distintas combinaciones."
      ],
      "metadata": {
        "id": "X17_alDkbchC"
      }
    },
    {
      "cell_type": "code",
      "source": [
        "randomcv.cv_results_['mean_test_score']"
      ],
      "metadata": {
        "colab": {
          "base_uri": "https://localhost:8080/"
        },
        "outputId": "6e6b2d1e-bf58-4d90-d400-467094dd0978",
        "id": "5MUGoClJpCSO"
      },
      "execution_count": null,
      "outputs": [
        {
          "output_type": "execute_result",
          "data": {
            "text/plain": [
              "array([0.808887  , 0.83581444, 0.84083565, 0.84377537, 0.84482271,\n",
              "       0.84674689, 0.84703991, 0.84624453, 0.84633943, 0.8454977 ])"
            ]
          },
          "metadata": {},
          "execution_count": 448
        }
      ]
    },
    {
      "cell_type": "markdown",
      "source": [
        "Entrenamos."
      ],
      "metadata": {
        "id": "E5xXhNERpCSP"
      }
    },
    {
      "cell_type": "code",
      "source": [
        "arbol=DecisionTreeClassifier().set_params(**randomcv.best_params_)\n",
        "\n",
        "#Entreno el arbol en todo el set\n",
        "arbol.fit(x_train,y_train)"
      ],
      "metadata": {
        "colab": {
          "base_uri": "https://localhost:8080/",
          "height": 92
        },
        "outputId": "365161ca-d6f4-45a7-8f7e-a42f0285c86e",
        "id": "KnCc_gtdpCSP"
      },
      "execution_count": null,
      "outputs": [
        {
          "output_type": "execute_result",
          "data": {
            "text/plain": [
              "DecisionTreeClassifier(ccp_alpha=0.0001, criterion='entropy', max_depth=16,\n",
              "                       min_samples_leaf=10)"
            ],
            "text/html": [
              "<style>#sk-container-id-40 {color: black;background-color: white;}#sk-container-id-40 pre{padding: 0;}#sk-container-id-40 div.sk-toggleable {background-color: white;}#sk-container-id-40 label.sk-toggleable__label {cursor: pointer;display: block;width: 100%;margin-bottom: 0;padding: 0.3em;box-sizing: border-box;text-align: center;}#sk-container-id-40 label.sk-toggleable__label-arrow:before {content: \"▸\";float: left;margin-right: 0.25em;color: #696969;}#sk-container-id-40 label.sk-toggleable__label-arrow:hover:before {color: black;}#sk-container-id-40 div.sk-estimator:hover label.sk-toggleable__label-arrow:before {color: black;}#sk-container-id-40 div.sk-toggleable__content {max-height: 0;max-width: 0;overflow: hidden;text-align: left;background-color: #f0f8ff;}#sk-container-id-40 div.sk-toggleable__content pre {margin: 0.2em;color: black;border-radius: 0.25em;background-color: #f0f8ff;}#sk-container-id-40 input.sk-toggleable__control:checked~div.sk-toggleable__content {max-height: 200px;max-width: 100%;overflow: auto;}#sk-container-id-40 input.sk-toggleable__control:checked~label.sk-toggleable__label-arrow:before {content: \"▾\";}#sk-container-id-40 div.sk-estimator input.sk-toggleable__control:checked~label.sk-toggleable__label {background-color: #d4ebff;}#sk-container-id-40 div.sk-label input.sk-toggleable__control:checked~label.sk-toggleable__label {background-color: #d4ebff;}#sk-container-id-40 input.sk-hidden--visually {border: 0;clip: rect(1px 1px 1px 1px);clip: rect(1px, 1px, 1px, 1px);height: 1px;margin: -1px;overflow: hidden;padding: 0;position: absolute;width: 1px;}#sk-container-id-40 div.sk-estimator {font-family: monospace;background-color: #f0f8ff;border: 1px dotted black;border-radius: 0.25em;box-sizing: border-box;margin-bottom: 0.5em;}#sk-container-id-40 div.sk-estimator:hover {background-color: #d4ebff;}#sk-container-id-40 div.sk-parallel-item::after {content: \"\";width: 100%;border-bottom: 1px solid gray;flex-grow: 1;}#sk-container-id-40 div.sk-label:hover label.sk-toggleable__label {background-color: #d4ebff;}#sk-container-id-40 div.sk-serial::before {content: \"\";position: absolute;border-left: 1px solid gray;box-sizing: border-box;top: 0;bottom: 0;left: 50%;z-index: 0;}#sk-container-id-40 div.sk-serial {display: flex;flex-direction: column;align-items: center;background-color: white;padding-right: 0.2em;padding-left: 0.2em;position: relative;}#sk-container-id-40 div.sk-item {position: relative;z-index: 1;}#sk-container-id-40 div.sk-parallel {display: flex;align-items: stretch;justify-content: center;background-color: white;position: relative;}#sk-container-id-40 div.sk-item::before, #sk-container-id-40 div.sk-parallel-item::before {content: \"\";position: absolute;border-left: 1px solid gray;box-sizing: border-box;top: 0;bottom: 0;left: 50%;z-index: -1;}#sk-container-id-40 div.sk-parallel-item {display: flex;flex-direction: column;z-index: 1;position: relative;background-color: white;}#sk-container-id-40 div.sk-parallel-item:first-child::after {align-self: flex-end;width: 50%;}#sk-container-id-40 div.sk-parallel-item:last-child::after {align-self: flex-start;width: 50%;}#sk-container-id-40 div.sk-parallel-item:only-child::after {width: 0;}#sk-container-id-40 div.sk-dashed-wrapped {border: 1px dashed gray;margin: 0 0.4em 0.5em 0.4em;box-sizing: border-box;padding-bottom: 0.4em;background-color: white;}#sk-container-id-40 div.sk-label label {font-family: monospace;font-weight: bold;display: inline-block;line-height: 1.2em;}#sk-container-id-40 div.sk-label-container {text-align: center;}#sk-container-id-40 div.sk-container {/* jupyter's `normalize.less` sets `[hidden] { display: none; }` but bootstrap.min.css set `[hidden] { display: none !important; }` so we also need the `!important` here to be able to override the default hidden behavior on the sphinx rendered scikit-learn.org. See: https://github.com/scikit-learn/scikit-learn/issues/21755 */display: inline-block !important;position: relative;}#sk-container-id-40 div.sk-text-repr-fallback {display: none;}</style><div id=\"sk-container-id-40\" class=\"sk-top-container\"><div class=\"sk-text-repr-fallback\"><pre>DecisionTreeClassifier(ccp_alpha=0.0001, criterion=&#x27;entropy&#x27;, max_depth=16,\n",
              "                       min_samples_leaf=10)</pre><b>In a Jupyter environment, please rerun this cell to show the HTML representation or trust the notebook. <br />On GitHub, the HTML representation is unable to render, please try loading this page with nbviewer.org.</b></div><div class=\"sk-container\" hidden><div class=\"sk-item\"><div class=\"sk-estimator sk-toggleable\"><input class=\"sk-toggleable__control sk-hidden--visually\" id=\"sk-estimator-id-40\" type=\"checkbox\" checked><label for=\"sk-estimator-id-40\" class=\"sk-toggleable__label sk-toggleable__label-arrow\">DecisionTreeClassifier</label><div class=\"sk-toggleable__content\"><pre>DecisionTreeClassifier(ccp_alpha=0.0001, criterion=&#x27;entropy&#x27;, max_depth=16,\n",
              "                       min_samples_leaf=10)</pre></div></div></div></div></div>"
            ]
          },
          "metadata": {},
          "execution_count": 449
        }
      ]
    },
    {
      "cell_type": "markdown",
      "source": [
        "Predecimos."
      ],
      "metadata": {
        "id": "nQlk_5FSpCSQ"
      }
    },
    {
      "cell_type": "code",
      "source": [
        "y_pred = arbol.predict(x_test)"
      ],
      "metadata": {
        "id": "4r-wBykbpCSQ"
      },
      "execution_count": null,
      "outputs": []
    },
    {
      "cell_type": "markdown",
      "source": [
        "Metricas."
      ],
      "metadata": {
        "id": "EvmkEMzcpCSQ"
      }
    },
    {
      "cell_type": "code",
      "source": [
        "#Calculo las métricas en el conjunto de evaluación\n",
        "accuracy=accuracy_score(y_test,y_pred)\n",
        "recall=recall_score(y_test,y_pred)\n",
        "f1=f1_score(y_test,y_pred,)\n",
        "precision=precision_score(y_test,y_pred)\n",
        "\n",
        "print(\"Accuracy: \"+str(accuracy))\n",
        "print(\"Recall: \"+str(recall))\n",
        "print(\"Precision: \"+str(precision))\n",
        "print(\"f1 score: \"+str(f1))"
      ],
      "metadata": {
        "colab": {
          "base_uri": "https://localhost:8080/"
        },
        "outputId": "fcb77f6c-c65f-4357-9382-c6548d894279",
        "id": "XZpDmv88pCSQ"
      },
      "execution_count": null,
      "outputs": [
        {
          "output_type": "stream",
          "name": "stdout",
          "text": [
            "Accuracy: 0.848130081300813\n",
            "Recall: 0.8673066666666667\n",
            "Precision: 0.8391990917535349\n",
            "f1 score: 0.8530214015946286\n"
          ]
        }
      ]
    },
    {
      "cell_type": "markdown",
      "source": [
        "#### **Entrenamiento N2**"
      ],
      "metadata": {
        "id": "6Be-TiHvpCSR"
      }
    },
    {
      "cell_type": "markdown",
      "source": [
        "Seguimos entrenando el modelo, esta vez buscando el mejor hiperparametro de **min_samples_leaf**.\n",
        "\n",
        "Los demas parametros lo sacamos del entrenamiento anterior.\n",
        "\n",
        "Empezamos con un rango de 10-50, en donde encontramos una tendencia cercana a los valores de 10.\n",
        "\n",
        "Decidimos ahicar el rango a 1-10, en donde el valor mas frecuente que tomada era de 1"
      ],
      "metadata": {
        "id": "D0Ti_EvCpCSR"
      }
    },
    {
      "cell_type": "code",
      "source": [
        "#Cantidad de combinaciones de parametros que quiero probar\n",
        "n=10\n",
        "\n",
        "#Conjunto de parámetros que quiero usar\n",
        "params_grid = {'criterion':['entropy'],\n",
        "               'max_depth':[16],\n",
        "               'min_samples_leaf':list(range(1, 10)),\n",
        "               'ccp_alpha': [0.0001]\n",
        "               }\n",
        "\n",
        "#Cantidad de splits para el Cross Validation\n",
        "folds=10 #10, 15\n",
        "\n",
        "#Kfold estratificado - arma los folds\n",
        "kfoldcv = StratifiedKFold(n_splits=folds)\n",
        "\n",
        "#Clasificador\n",
        "base_tree = DecisionTreeClassifier()\n",
        "\n",
        "#Metrica que quiero optimizar F1 Score\n",
        "scorer_fn = make_scorer(f1_score)\n",
        "\n",
        "#Random Search Cross Validation\n",
        "randomcv = RandomizedSearchCV(estimator=base_tree,\n",
        "                              param_distributions = params_grid,\n",
        "                              scoring=scorer_fn,\n",
        "                              cv=kfoldcv,\n",
        "                              n_iter=n)\n",
        "\n",
        "#Busco los hiperparamtros que optimizan F1 Score\n",
        "randomcv.fit(x_train,y_train);"
      ],
      "metadata": {
        "id": "yaicRbdhpCSR"
      },
      "execution_count": null,
      "outputs": []
    },
    {
      "cell_type": "code",
      "source": [
        "#Mejores hiperparametros del arbol\n",
        "print(randomcv.best_params_)\n",
        "#Mejor métrica\n",
        "print(randomcv.best_score_)"
      ],
      "metadata": {
        "colab": {
          "base_uri": "https://localhost:8080/"
        },
        "outputId": "e7a04a7a-2b46-4cda-ffa8-e2498b9a4a2e",
        "id": "A_3mQzj1pCSR"
      },
      "execution_count": null,
      "outputs": [
        {
          "output_type": "stream",
          "name": "stdout",
          "text": [
            "{'min_samples_leaf': 2, 'max_depth': 16, 'criterion': 'entropy', 'ccp_alpha': 0.0001}\n",
            "0.848607325175738\n"
          ]
        }
      ]
    },
    {
      "cell_type": "code",
      "source": [
        "randomcv.cv_results_['mean_test_score']"
      ],
      "metadata": {
        "colab": {
          "base_uri": "https://localhost:8080/"
        },
        "outputId": "0095d7bd-9857-4b4b-f096-9eab2b2f1949",
        "id": "OSle-4XKpCSS"
      },
      "execution_count": null,
      "outputs": [
        {
          "output_type": "execute_result",
          "data": {
            "text/plain": [
              "array([0.84845587, 0.84860733, 0.84730028, 0.84688499, 0.84678411,\n",
              "       0.84710388, 0.84709059, 0.84661066, 0.84664419])"
            ]
          },
          "metadata": {},
          "execution_count": 454
        }
      ]
    },
    {
      "cell_type": "markdown",
      "source": [
        "Entrenamos."
      ],
      "metadata": {
        "id": "thHyBV5Xe9Ct"
      }
    },
    {
      "cell_type": "code",
      "source": [
        "#Creo el árbol con los mejores hiperparámetros\n",
        "from sklearn.tree import DecisionTreeClassifier\n",
        "from sklearn.tree import export_text\n",
        "\n",
        "arbol=DecisionTreeClassifier().set_params(**randomcv.best_params_)\n",
        "\n",
        "#Entreno el arbol en todo el set\n",
        "arbol.fit(x_train,y_train)"
      ],
      "metadata": {
        "colab": {
          "base_uri": "https://localhost:8080/",
          "height": 92
        },
        "outputId": "1f6b8a39-816d-4b99-9dbf-d987220cdb21",
        "id": "TLujj9xGpCSS"
      },
      "execution_count": null,
      "outputs": [
        {
          "output_type": "execute_result",
          "data": {
            "text/plain": [
              "DecisionTreeClassifier(ccp_alpha=0.0001, criterion='entropy', max_depth=16,\n",
              "                       min_samples_leaf=2)"
            ],
            "text/html": [
              "<style>#sk-container-id-41 {color: black;background-color: white;}#sk-container-id-41 pre{padding: 0;}#sk-container-id-41 div.sk-toggleable {background-color: white;}#sk-container-id-41 label.sk-toggleable__label {cursor: pointer;display: block;width: 100%;margin-bottom: 0;padding: 0.3em;box-sizing: border-box;text-align: center;}#sk-container-id-41 label.sk-toggleable__label-arrow:before {content: \"▸\";float: left;margin-right: 0.25em;color: #696969;}#sk-container-id-41 label.sk-toggleable__label-arrow:hover:before {color: black;}#sk-container-id-41 div.sk-estimator:hover label.sk-toggleable__label-arrow:before {color: black;}#sk-container-id-41 div.sk-toggleable__content {max-height: 0;max-width: 0;overflow: hidden;text-align: left;background-color: #f0f8ff;}#sk-container-id-41 div.sk-toggleable__content pre {margin: 0.2em;color: black;border-radius: 0.25em;background-color: #f0f8ff;}#sk-container-id-41 input.sk-toggleable__control:checked~div.sk-toggleable__content {max-height: 200px;max-width: 100%;overflow: auto;}#sk-container-id-41 input.sk-toggleable__control:checked~label.sk-toggleable__label-arrow:before {content: \"▾\";}#sk-container-id-41 div.sk-estimator input.sk-toggleable__control:checked~label.sk-toggleable__label {background-color: #d4ebff;}#sk-container-id-41 div.sk-label input.sk-toggleable__control:checked~label.sk-toggleable__label {background-color: #d4ebff;}#sk-container-id-41 input.sk-hidden--visually {border: 0;clip: rect(1px 1px 1px 1px);clip: rect(1px, 1px, 1px, 1px);height: 1px;margin: -1px;overflow: hidden;padding: 0;position: absolute;width: 1px;}#sk-container-id-41 div.sk-estimator {font-family: monospace;background-color: #f0f8ff;border: 1px dotted black;border-radius: 0.25em;box-sizing: border-box;margin-bottom: 0.5em;}#sk-container-id-41 div.sk-estimator:hover {background-color: #d4ebff;}#sk-container-id-41 div.sk-parallel-item::after {content: \"\";width: 100%;border-bottom: 1px solid gray;flex-grow: 1;}#sk-container-id-41 div.sk-label:hover label.sk-toggleable__label {background-color: #d4ebff;}#sk-container-id-41 div.sk-serial::before {content: \"\";position: absolute;border-left: 1px solid gray;box-sizing: border-box;top: 0;bottom: 0;left: 50%;z-index: 0;}#sk-container-id-41 div.sk-serial {display: flex;flex-direction: column;align-items: center;background-color: white;padding-right: 0.2em;padding-left: 0.2em;position: relative;}#sk-container-id-41 div.sk-item {position: relative;z-index: 1;}#sk-container-id-41 div.sk-parallel {display: flex;align-items: stretch;justify-content: center;background-color: white;position: relative;}#sk-container-id-41 div.sk-item::before, #sk-container-id-41 div.sk-parallel-item::before {content: \"\";position: absolute;border-left: 1px solid gray;box-sizing: border-box;top: 0;bottom: 0;left: 50%;z-index: -1;}#sk-container-id-41 div.sk-parallel-item {display: flex;flex-direction: column;z-index: 1;position: relative;background-color: white;}#sk-container-id-41 div.sk-parallel-item:first-child::after {align-self: flex-end;width: 50%;}#sk-container-id-41 div.sk-parallel-item:last-child::after {align-self: flex-start;width: 50%;}#sk-container-id-41 div.sk-parallel-item:only-child::after {width: 0;}#sk-container-id-41 div.sk-dashed-wrapped {border: 1px dashed gray;margin: 0 0.4em 0.5em 0.4em;box-sizing: border-box;padding-bottom: 0.4em;background-color: white;}#sk-container-id-41 div.sk-label label {font-family: monospace;font-weight: bold;display: inline-block;line-height: 1.2em;}#sk-container-id-41 div.sk-label-container {text-align: center;}#sk-container-id-41 div.sk-container {/* jupyter's `normalize.less` sets `[hidden] { display: none; }` but bootstrap.min.css set `[hidden] { display: none !important; }` so we also need the `!important` here to be able to override the default hidden behavior on the sphinx rendered scikit-learn.org. See: https://github.com/scikit-learn/scikit-learn/issues/21755 */display: inline-block !important;position: relative;}#sk-container-id-41 div.sk-text-repr-fallback {display: none;}</style><div id=\"sk-container-id-41\" class=\"sk-top-container\"><div class=\"sk-text-repr-fallback\"><pre>DecisionTreeClassifier(ccp_alpha=0.0001, criterion=&#x27;entropy&#x27;, max_depth=16,\n",
              "                       min_samples_leaf=2)</pre><b>In a Jupyter environment, please rerun this cell to show the HTML representation or trust the notebook. <br />On GitHub, the HTML representation is unable to render, please try loading this page with nbviewer.org.</b></div><div class=\"sk-container\" hidden><div class=\"sk-item\"><div class=\"sk-estimator sk-toggleable\"><input class=\"sk-toggleable__control sk-hidden--visually\" id=\"sk-estimator-id-41\" type=\"checkbox\" checked><label for=\"sk-estimator-id-41\" class=\"sk-toggleable__label sk-toggleable__label-arrow\">DecisionTreeClassifier</label><div class=\"sk-toggleable__content\"><pre>DecisionTreeClassifier(ccp_alpha=0.0001, criterion=&#x27;entropy&#x27;, max_depth=16,\n",
              "                       min_samples_leaf=2)</pre></div></div></div></div></div>"
            ]
          },
          "metadata": {},
          "execution_count": 455
        }
      ]
    },
    {
      "cell_type": "markdown",
      "source": [
        "Predecimos."
      ],
      "metadata": {
        "id": "HRFDm21ze6pE"
      }
    },
    {
      "cell_type": "code",
      "source": [
        "y_pred = arbol.predict(x_test)"
      ],
      "metadata": {
        "id": "WzzsW3IBpCST"
      },
      "execution_count": null,
      "outputs": []
    },
    {
      "cell_type": "markdown",
      "source": [
        "Metricas."
      ],
      "metadata": {
        "id": "cK2sxM37e5dv"
      }
    },
    {
      "cell_type": "code",
      "source": [
        "#Calculo las métricas en el conjunto de evaluación\n",
        "accuracy=accuracy_score(y_test,y_pred)\n",
        "recall=recall_score(y_test,y_pred)\n",
        "f1=f1_score(y_test,y_pred,)\n",
        "precision=precision_score(y_test,y_pred)\n",
        "\n",
        "print(\"Accuracy: \"+str(accuracy))\n",
        "print(\"Recall: \"+str(recall))\n",
        "print(\"Precision: \"+str(precision))\n",
        "print(\"f1 score: \"+str(f1))"
      ],
      "metadata": {
        "colab": {
          "base_uri": "https://localhost:8080/"
        },
        "outputId": "7795192a-92d9-4a3b-db2c-ad250f3648df",
        "id": "zg14YvsgpCSU"
      },
      "execution_count": null,
      "outputs": [
        {
          "output_type": "stream",
          "name": "stdout",
          "text": [
            "Accuracy: 0.8486178861788618\n",
            "Recall: 0.87168\n",
            "Precision: 0.8371235402581438\n",
            "f1 score: 0.8540523593039662\n"
          ]
        }
      ]
    },
    {
      "cell_type": "markdown",
      "source": [
        "#### **Entrenamiento N3**"
      ],
      "metadata": {
        "id": "FeQx01l-pCSU"
      }
    },
    {
      "cell_type": "markdown",
      "source": [
        "Seguimos entrenando el modelo, esta vez buscando el mejor hiperparametro de **ccp_alpha**.\n",
        "\n",
        "Los demas parametros lo sacamos del entrenamiento anterior.\n",
        "\n",
        "Empezamos con un rango de 0.1 a 0.09, en donde fuimos avanzando con 0.01-0.09, 0.001-0.009, 0.0001- 0.0009, 0.00001-0.00009.\n",
        "\n",
        "Observando los scores que nos daba cada rango, el de mayor fue el rango 0.0001-0.0009, por ende decidimos enfocarnos en este rango.\n",
        "\n",
        "El valor mas frecuente que tomaba estaba entgre 0.0001-0.0002, en donde era de 0.00013, aproximado."
      ],
      "metadata": {
        "id": "8Wg8S7zyf6l6"
      }
    },
    {
      "cell_type": "code",
      "source": [
        "#Cantidad de combinaciones de parametros que quiero probar\n",
        "n=20\n",
        "\n",
        "#Conjunto de parámetros que quiero usar\n",
        "params_grid = {'criterion':['entropy'],\n",
        "               'max_depth':[16],\n",
        "               'min_samples_leaf':[2],\n",
        "               'ccp_alpha': np.linspace(0.0001, 0.0002, 10)\n",
        "               }\n",
        "\n",
        "#Cantidad de splits para el Cross Validation\n",
        "folds=10\n",
        "\n",
        "#Kfold estratificado - arma los folds\n",
        "kfoldcv = StratifiedKFold(n_splits=folds)\n",
        "\n",
        "#Clasificador\n",
        "base_tree = DecisionTreeClassifier()\n",
        "\n",
        "#Metrica que quiero optimizar F1 Score\n",
        "scorer_fn = make_scorer(f1_score)\n",
        "\n",
        "#Random Search Cross Validation\n",
        "randomcv = RandomizedSearchCV(estimator=base_tree,\n",
        "                              param_distributions = params_grid,\n",
        "                              scoring=scorer_fn,\n",
        "                              cv=kfoldcv,\n",
        "                              n_iter=n)\n",
        "\n",
        "#Busco los hiperparamtros que optimizan F1 Score\n",
        "randomcv.fit(x_train,y_train);"
      ],
      "metadata": {
        "id": "gqiDp0YfpCSV"
      },
      "execution_count": null,
      "outputs": []
    },
    {
      "cell_type": "code",
      "source": [
        "#Mejores hiperparametros del arbol\n",
        "print(randomcv.best_params_)\n",
        "#Mejor métrica\n",
        "print(randomcv.best_score_)"
      ],
      "metadata": {
        "colab": {
          "base_uri": "https://localhost:8080/"
        },
        "outputId": "74ae938b-3c3c-4b17-e603-6362a1558b1b",
        "id": "W1rIQtoRpCSV"
      },
      "execution_count": null,
      "outputs": [
        {
          "output_type": "stream",
          "name": "stdout",
          "text": [
            "{'min_samples_leaf': 2, 'max_depth': 16, 'criterion': 'entropy', 'ccp_alpha': 0.00013333333333333334}\n",
            "0.8495764328301657\n"
          ]
        }
      ]
    },
    {
      "cell_type": "code",
      "source": [
        "randomcv.cv_results_['mean_test_score']"
      ],
      "metadata": {
        "colab": {
          "base_uri": "https://localhost:8080/"
        },
        "outputId": "88fdd18d-2f8d-4679-a911-22ea1fbc2b87",
        "id": "DsB_tYTEpCSV"
      },
      "execution_count": null,
      "outputs": [
        {
          "output_type": "execute_result",
          "data": {
            "text/plain": [
              "array([0.84856778, 0.84883595, 0.84950658, 0.84957643, 0.84934474,\n",
              "       0.84886251, 0.84820337, 0.84850711, 0.8487295 , 0.8479646 ])"
            ]
          },
          "metadata": {},
          "execution_count": 460
        }
      ]
    },
    {
      "cell_type": "code",
      "source": [
        "#Creo el árbol con los mejores hiperparámetros\n",
        "from sklearn.tree import DecisionTreeClassifier\n",
        "from sklearn.tree import export_text\n",
        "\n",
        "arbol=DecisionTreeClassifier().set_params(**randomcv.best_params_)\n",
        "\n",
        "#Entreno el arbol en todo el set\n",
        "arbol.fit(x_train,y_train)"
      ],
      "metadata": {
        "colab": {
          "base_uri": "https://localhost:8080/",
          "height": 92
        },
        "outputId": "64b73feb-a900-4fcc-8a50-5c206d52b13f",
        "id": "hr4hiUvLpCSV"
      },
      "execution_count": null,
      "outputs": [
        {
          "output_type": "execute_result",
          "data": {
            "text/plain": [
              "DecisionTreeClassifier(ccp_alpha=0.00013333333333333334, criterion='entropy',\n",
              "                       max_depth=16, min_samples_leaf=2)"
            ],
            "text/html": [
              "<style>#sk-container-id-42 {color: black;background-color: white;}#sk-container-id-42 pre{padding: 0;}#sk-container-id-42 div.sk-toggleable {background-color: white;}#sk-container-id-42 label.sk-toggleable__label {cursor: pointer;display: block;width: 100%;margin-bottom: 0;padding: 0.3em;box-sizing: border-box;text-align: center;}#sk-container-id-42 label.sk-toggleable__label-arrow:before {content: \"▸\";float: left;margin-right: 0.25em;color: #696969;}#sk-container-id-42 label.sk-toggleable__label-arrow:hover:before {color: black;}#sk-container-id-42 div.sk-estimator:hover label.sk-toggleable__label-arrow:before {color: black;}#sk-container-id-42 div.sk-toggleable__content {max-height: 0;max-width: 0;overflow: hidden;text-align: left;background-color: #f0f8ff;}#sk-container-id-42 div.sk-toggleable__content pre {margin: 0.2em;color: black;border-radius: 0.25em;background-color: #f0f8ff;}#sk-container-id-42 input.sk-toggleable__control:checked~div.sk-toggleable__content {max-height: 200px;max-width: 100%;overflow: auto;}#sk-container-id-42 input.sk-toggleable__control:checked~label.sk-toggleable__label-arrow:before {content: \"▾\";}#sk-container-id-42 div.sk-estimator input.sk-toggleable__control:checked~label.sk-toggleable__label {background-color: #d4ebff;}#sk-container-id-42 div.sk-label input.sk-toggleable__control:checked~label.sk-toggleable__label {background-color: #d4ebff;}#sk-container-id-42 input.sk-hidden--visually {border: 0;clip: rect(1px 1px 1px 1px);clip: rect(1px, 1px, 1px, 1px);height: 1px;margin: -1px;overflow: hidden;padding: 0;position: absolute;width: 1px;}#sk-container-id-42 div.sk-estimator {font-family: monospace;background-color: #f0f8ff;border: 1px dotted black;border-radius: 0.25em;box-sizing: border-box;margin-bottom: 0.5em;}#sk-container-id-42 div.sk-estimator:hover {background-color: #d4ebff;}#sk-container-id-42 div.sk-parallel-item::after {content: \"\";width: 100%;border-bottom: 1px solid gray;flex-grow: 1;}#sk-container-id-42 div.sk-label:hover label.sk-toggleable__label {background-color: #d4ebff;}#sk-container-id-42 div.sk-serial::before {content: \"\";position: absolute;border-left: 1px solid gray;box-sizing: border-box;top: 0;bottom: 0;left: 50%;z-index: 0;}#sk-container-id-42 div.sk-serial {display: flex;flex-direction: column;align-items: center;background-color: white;padding-right: 0.2em;padding-left: 0.2em;position: relative;}#sk-container-id-42 div.sk-item {position: relative;z-index: 1;}#sk-container-id-42 div.sk-parallel {display: flex;align-items: stretch;justify-content: center;background-color: white;position: relative;}#sk-container-id-42 div.sk-item::before, #sk-container-id-42 div.sk-parallel-item::before {content: \"\";position: absolute;border-left: 1px solid gray;box-sizing: border-box;top: 0;bottom: 0;left: 50%;z-index: -1;}#sk-container-id-42 div.sk-parallel-item {display: flex;flex-direction: column;z-index: 1;position: relative;background-color: white;}#sk-container-id-42 div.sk-parallel-item:first-child::after {align-self: flex-end;width: 50%;}#sk-container-id-42 div.sk-parallel-item:last-child::after {align-self: flex-start;width: 50%;}#sk-container-id-42 div.sk-parallel-item:only-child::after {width: 0;}#sk-container-id-42 div.sk-dashed-wrapped {border: 1px dashed gray;margin: 0 0.4em 0.5em 0.4em;box-sizing: border-box;padding-bottom: 0.4em;background-color: white;}#sk-container-id-42 div.sk-label label {font-family: monospace;font-weight: bold;display: inline-block;line-height: 1.2em;}#sk-container-id-42 div.sk-label-container {text-align: center;}#sk-container-id-42 div.sk-container {/* jupyter's `normalize.less` sets `[hidden] { display: none; }` but bootstrap.min.css set `[hidden] { display: none !important; }` so we also need the `!important` here to be able to override the default hidden behavior on the sphinx rendered scikit-learn.org. See: https://github.com/scikit-learn/scikit-learn/issues/21755 */display: inline-block !important;position: relative;}#sk-container-id-42 div.sk-text-repr-fallback {display: none;}</style><div id=\"sk-container-id-42\" class=\"sk-top-container\"><div class=\"sk-text-repr-fallback\"><pre>DecisionTreeClassifier(ccp_alpha=0.00013333333333333334, criterion=&#x27;entropy&#x27;,\n",
              "                       max_depth=16, min_samples_leaf=2)</pre><b>In a Jupyter environment, please rerun this cell to show the HTML representation or trust the notebook. <br />On GitHub, the HTML representation is unable to render, please try loading this page with nbviewer.org.</b></div><div class=\"sk-container\" hidden><div class=\"sk-item\"><div class=\"sk-estimator sk-toggleable\"><input class=\"sk-toggleable__control sk-hidden--visually\" id=\"sk-estimator-id-42\" type=\"checkbox\" checked><label for=\"sk-estimator-id-42\" class=\"sk-toggleable__label sk-toggleable__label-arrow\">DecisionTreeClassifier</label><div class=\"sk-toggleable__content\"><pre>DecisionTreeClassifier(ccp_alpha=0.00013333333333333334, criterion=&#x27;entropy&#x27;,\n",
              "                       max_depth=16, min_samples_leaf=2)</pre></div></div></div></div></div>"
            ]
          },
          "metadata": {},
          "execution_count": 461
        }
      ]
    },
    {
      "cell_type": "code",
      "source": [
        "y_pred = arbol.predict(x_test)"
      ],
      "metadata": {
        "id": "agib72ohpCSV"
      },
      "execution_count": null,
      "outputs": []
    },
    {
      "cell_type": "code",
      "source": [
        "#Calculo las métricas en el conjunto de evaluación\n",
        "accuracy=accuracy_score(y_test,y_pred)\n",
        "recall=recall_score(y_test,y_pred)\n",
        "f1=f1_score(y_test,y_pred,)\n",
        "precision=precision_score(y_test,y_pred)\n",
        "\n",
        "print(\"Accuracy: \"+str(accuracy))\n",
        "print(\"Recall: \"+str(recall))\n",
        "print(\"Precision: \"+str(precision))\n",
        "print(\"f1 score: \"+str(f1))"
      ],
      "metadata": {
        "colab": {
          "base_uri": "https://localhost:8080/"
        },
        "outputId": "24e1401a-c191-4363-fa17-3325ca6514e4",
        "id": "xDtdu1AUpCSV"
      },
      "execution_count": null,
      "outputs": [
        {
          "output_type": "stream",
          "name": "stdout",
          "text": [
            "Accuracy: 0.8501897018970189\n",
            "Recall: 0.8711466666666666\n",
            "Precision: 0.8399670883472179\n",
            "f1 score: 0.8552728034349146\n"
          ]
        }
      ]
    },
    {
      "cell_type": "markdown",
      "source": [
        "#### **Entrenamiento N4**"
      ],
      "metadata": {
        "id": "zC82CJxdpCSW"
      }
    },
    {
      "cell_type": "markdown",
      "source": [
        "Seguimos entrenando el modelo, esta vez buscando el mejor hiperparametro de **min_samples_split**.\n",
        "\n",
        "Los demas parametros lo sacamos del entrenamiento anterior.\n",
        "\n",
        "Empezamos con un rango de 1-100, en donde los valores mas frecuentes eran de 1-10.\n",
        "\n",
        "Trabajando con este rango nuevo, el valor que tendia esta variable era de 2."
      ],
      "metadata": {
        "id": "h0VqN0qhmPKf"
      }
    },
    {
      "cell_type": "code",
      "source": [
        "#Cantidad de combinaciones de parametros que quiero probar\n",
        "n=10\n",
        "\n",
        "#Conjunto de parámetros que quiero usar\n",
        "params_grid = {'criterion':['entropy'],\n",
        "               'max_depth':[16],\n",
        "               'min_samples_leaf':[2],\n",
        "               'ccp_alpha': [0.00013333333333333334],\n",
        "               'min_samples_split': list(range(1, 10))\n",
        "               }\n",
        "\n",
        "#Cantidad de splits para el Cross Validation\n",
        "folds=10\n",
        "\n",
        "#Kfold estratificado - arma los folds\n",
        "kfoldcv = StratifiedKFold(n_splits=folds)\n",
        "\n",
        "#Clasificador\n",
        "base_tree = DecisionTreeClassifier()\n",
        "\n",
        "#Metrica que quiero optimizar F1 Score\n",
        "scorer_fn = make_scorer(f1_score)\n",
        "\n",
        "#Random Search Cross Validation\n",
        "randomcv = RandomizedSearchCV(estimator=base_tree,\n",
        "                              param_distributions = params_grid,\n",
        "                              scoring=scorer_fn,\n",
        "                              cv=kfoldcv,\n",
        "                              n_iter=n)\n",
        "\n",
        "#Busco los hiperparamtros que optimizan F1 Score\n",
        "randomcv.fit(x_train,y_train);"
      ],
      "metadata": {
        "colab": {
          "base_uri": "https://localhost:8080/"
        },
        "outputId": "2c8ea37e-bec0-47bd-fb71-9bb60e5378e4",
        "id": "7SrUhsrEpCSW"
      },
      "execution_count": null,
      "outputs": [
        {
          "output_type": "stream",
          "name": "stderr",
          "text": [
            "/usr/local/lib/python3.10/dist-packages/sklearn/model_selection/_validation.py:378: FitFailedWarning: \n",
            "10 fits failed out of a total of 90.\n",
            "The score on these train-test partitions for these parameters will be set to nan.\n",
            "If these failures are not expected, you can try to debug them by setting error_score='raise'.\n",
            "\n",
            "Below are more details about the failures:\n",
            "--------------------------------------------------------------------------------\n",
            "10 fits failed with the following error:\n",
            "Traceback (most recent call last):\n",
            "  File \"/usr/local/lib/python3.10/dist-packages/sklearn/model_selection/_validation.py\", line 686, in _fit_and_score\n",
            "    estimator.fit(X_train, y_train, **fit_params)\n",
            "  File \"/usr/local/lib/python3.10/dist-packages/sklearn/tree/_classes.py\", line 889, in fit\n",
            "    super().fit(\n",
            "  File \"/usr/local/lib/python3.10/dist-packages/sklearn/tree/_classes.py\", line 177, in fit\n",
            "    self._validate_params()\n",
            "  File \"/usr/local/lib/python3.10/dist-packages/sklearn/base.py\", line 600, in _validate_params\n",
            "    validate_parameter_constraints(\n",
            "  File \"/usr/local/lib/python3.10/dist-packages/sklearn/utils/_param_validation.py\", line 97, in validate_parameter_constraints\n",
            "    raise InvalidParameterError(\n",
            "sklearn.utils._param_validation.InvalidParameterError: The 'min_samples_split' parameter of DecisionTreeClassifier must be an int in the range [2, inf) or a float in the range (0.0, 1.0]. Got 1 instead.\n",
            "\n"
          ]
        }
      ]
    },
    {
      "cell_type": "code",
      "source": [
        "#Mejores hiperparametros del arbol\n",
        "print(randomcv.best_params_)\n",
        "#Mejor métrica\n",
        "print(randomcv.best_score_)"
      ],
      "metadata": {
        "colab": {
          "base_uri": "https://localhost:8080/"
        },
        "outputId": "43cf3e40-572d-4ac9-a3c9-f621966c3ad9",
        "id": "QtIiI5bMpCSW"
      },
      "execution_count": null,
      "outputs": [
        {
          "output_type": "stream",
          "name": "stdout",
          "text": [
            "{'min_samples_split': 4, 'min_samples_leaf': 2, 'max_depth': 16, 'criterion': 'entropy', 'ccp_alpha': 0.00013333333333333334}\n",
            "0.8497016002865637\n"
          ]
        }
      ]
    },
    {
      "cell_type": "code",
      "source": [
        "randomcv.cv_results_['mean_test_score']"
      ],
      "metadata": {
        "colab": {
          "base_uri": "https://localhost:8080/"
        },
        "outputId": "cb380665-4268-4fc8-889f-48c7aa06eab9",
        "id": "XOLjbkfqpCSW"
      },
      "execution_count": null,
      "outputs": [
        {
          "output_type": "execute_result",
          "data": {
            "text/plain": [
              "array([       nan, 0.84960959, 0.84948688, 0.8497016 , 0.84966811,\n",
              "       0.84949142, 0.84944038, 0.84931386, 0.84937776])"
            ]
          },
          "metadata": {},
          "execution_count": 466
        }
      ]
    },
    {
      "cell_type": "code",
      "source": [
        "#Creo el árbol con los mejores hiperparámetros\n",
        "from sklearn.tree import DecisionTreeClassifier\n",
        "from sklearn.tree import export_text\n",
        "\n",
        "arbol=DecisionTreeClassifier().set_params(**randomcv.best_params_)\n",
        "\n",
        "#Entreno el arbol en todo el set\n",
        "arbol.fit(x_train,y_train)"
      ],
      "metadata": {
        "colab": {
          "base_uri": "https://localhost:8080/",
          "height": 92
        },
        "outputId": "770f7e24-bf43-460d-bc79-dfbf706c9f2d",
        "id": "FrmjGPkSpCSW"
      },
      "execution_count": null,
      "outputs": [
        {
          "output_type": "execute_result",
          "data": {
            "text/plain": [
              "DecisionTreeClassifier(ccp_alpha=0.00013333333333333334, criterion='entropy',\n",
              "                       max_depth=16, min_samples_leaf=2, min_samples_split=4)"
            ],
            "text/html": [
              "<style>#sk-container-id-43 {color: black;background-color: white;}#sk-container-id-43 pre{padding: 0;}#sk-container-id-43 div.sk-toggleable {background-color: white;}#sk-container-id-43 label.sk-toggleable__label {cursor: pointer;display: block;width: 100%;margin-bottom: 0;padding: 0.3em;box-sizing: border-box;text-align: center;}#sk-container-id-43 label.sk-toggleable__label-arrow:before {content: \"▸\";float: left;margin-right: 0.25em;color: #696969;}#sk-container-id-43 label.sk-toggleable__label-arrow:hover:before {color: black;}#sk-container-id-43 div.sk-estimator:hover label.sk-toggleable__label-arrow:before {color: black;}#sk-container-id-43 div.sk-toggleable__content {max-height: 0;max-width: 0;overflow: hidden;text-align: left;background-color: #f0f8ff;}#sk-container-id-43 div.sk-toggleable__content pre {margin: 0.2em;color: black;border-radius: 0.25em;background-color: #f0f8ff;}#sk-container-id-43 input.sk-toggleable__control:checked~div.sk-toggleable__content {max-height: 200px;max-width: 100%;overflow: auto;}#sk-container-id-43 input.sk-toggleable__control:checked~label.sk-toggleable__label-arrow:before {content: \"▾\";}#sk-container-id-43 div.sk-estimator input.sk-toggleable__control:checked~label.sk-toggleable__label {background-color: #d4ebff;}#sk-container-id-43 div.sk-label input.sk-toggleable__control:checked~label.sk-toggleable__label {background-color: #d4ebff;}#sk-container-id-43 input.sk-hidden--visually {border: 0;clip: rect(1px 1px 1px 1px);clip: rect(1px, 1px, 1px, 1px);height: 1px;margin: -1px;overflow: hidden;padding: 0;position: absolute;width: 1px;}#sk-container-id-43 div.sk-estimator {font-family: monospace;background-color: #f0f8ff;border: 1px dotted black;border-radius: 0.25em;box-sizing: border-box;margin-bottom: 0.5em;}#sk-container-id-43 div.sk-estimator:hover {background-color: #d4ebff;}#sk-container-id-43 div.sk-parallel-item::after {content: \"\";width: 100%;border-bottom: 1px solid gray;flex-grow: 1;}#sk-container-id-43 div.sk-label:hover label.sk-toggleable__label {background-color: #d4ebff;}#sk-container-id-43 div.sk-serial::before {content: \"\";position: absolute;border-left: 1px solid gray;box-sizing: border-box;top: 0;bottom: 0;left: 50%;z-index: 0;}#sk-container-id-43 div.sk-serial {display: flex;flex-direction: column;align-items: center;background-color: white;padding-right: 0.2em;padding-left: 0.2em;position: relative;}#sk-container-id-43 div.sk-item {position: relative;z-index: 1;}#sk-container-id-43 div.sk-parallel {display: flex;align-items: stretch;justify-content: center;background-color: white;position: relative;}#sk-container-id-43 div.sk-item::before, #sk-container-id-43 div.sk-parallel-item::before {content: \"\";position: absolute;border-left: 1px solid gray;box-sizing: border-box;top: 0;bottom: 0;left: 50%;z-index: -1;}#sk-container-id-43 div.sk-parallel-item {display: flex;flex-direction: column;z-index: 1;position: relative;background-color: white;}#sk-container-id-43 div.sk-parallel-item:first-child::after {align-self: flex-end;width: 50%;}#sk-container-id-43 div.sk-parallel-item:last-child::after {align-self: flex-start;width: 50%;}#sk-container-id-43 div.sk-parallel-item:only-child::after {width: 0;}#sk-container-id-43 div.sk-dashed-wrapped {border: 1px dashed gray;margin: 0 0.4em 0.5em 0.4em;box-sizing: border-box;padding-bottom: 0.4em;background-color: white;}#sk-container-id-43 div.sk-label label {font-family: monospace;font-weight: bold;display: inline-block;line-height: 1.2em;}#sk-container-id-43 div.sk-label-container {text-align: center;}#sk-container-id-43 div.sk-container {/* jupyter's `normalize.less` sets `[hidden] { display: none; }` but bootstrap.min.css set `[hidden] { display: none !important; }` so we also need the `!important` here to be able to override the default hidden behavior on the sphinx rendered scikit-learn.org. See: https://github.com/scikit-learn/scikit-learn/issues/21755 */display: inline-block !important;position: relative;}#sk-container-id-43 div.sk-text-repr-fallback {display: none;}</style><div id=\"sk-container-id-43\" class=\"sk-top-container\"><div class=\"sk-text-repr-fallback\"><pre>DecisionTreeClassifier(ccp_alpha=0.00013333333333333334, criterion=&#x27;entropy&#x27;,\n",
              "                       max_depth=16, min_samples_leaf=2, min_samples_split=4)</pre><b>In a Jupyter environment, please rerun this cell to show the HTML representation or trust the notebook. <br />On GitHub, the HTML representation is unable to render, please try loading this page with nbviewer.org.</b></div><div class=\"sk-container\" hidden><div class=\"sk-item\"><div class=\"sk-estimator sk-toggleable\"><input class=\"sk-toggleable__control sk-hidden--visually\" id=\"sk-estimator-id-43\" type=\"checkbox\" checked><label for=\"sk-estimator-id-43\" class=\"sk-toggleable__label sk-toggleable__label-arrow\">DecisionTreeClassifier</label><div class=\"sk-toggleable__content\"><pre>DecisionTreeClassifier(ccp_alpha=0.00013333333333333334, criterion=&#x27;entropy&#x27;,\n",
              "                       max_depth=16, min_samples_leaf=2, min_samples_split=4)</pre></div></div></div></div></div>"
            ]
          },
          "metadata": {},
          "execution_count": 467
        }
      ]
    },
    {
      "cell_type": "code",
      "source": [
        "y_pred = arbol.predict(x_test)"
      ],
      "metadata": {
        "id": "QZcDFVFepCSW"
      },
      "execution_count": null,
      "outputs": []
    },
    {
      "cell_type": "code",
      "source": [
        "#Calculo las métricas en el conjunto de evaluación\n",
        "accuracy=accuracy_score(y_test,y_pred)\n",
        "recall=recall_score(y_test,y_pred)\n",
        "f1=f1_score(y_test,y_pred,)\n",
        "precision=precision_score(y_test,y_pred)\n",
        "cm = confusion_matrix(y_test, y_pred)\n",
        "\n",
        "print(\"Accuracy: \"+str(accuracy))\n",
        "print(\"Recall: \"+str(recall))\n",
        "print(\"Precision: \"+str(precision))\n",
        "print(\"f1 score: \"+str(f1))\n",
        "print(\"cm score: \"+str(cm))"
      ],
      "metadata": {
        "colab": {
          "base_uri": "https://localhost:8080/"
        },
        "outputId": "a37041a0-b3c5-48fc-af71-e6ba9f0395d9",
        "id": "tFYsY0o7pCSW"
      },
      "execution_count": null,
      "outputs": [
        {
          "output_type": "stream",
          "name": "stdout",
          "text": [
            "Accuracy: 0.8501897018970189\n",
            "Recall: 0.8712533333333333\n",
            "Precision: 0.8398971722365038\n",
            "f1 score: 0.8552879581151833\n",
            "cm score: [[7518 1557]\n",
            " [1207 8168]]\n"
          ]
        }
      ]
    },
    {
      "cell_type": "markdown",
      "source": [
        "Matriz de confusión"
      ],
      "metadata": {
        "id": "vQ0uQly31gsx"
      }
    },
    {
      "cell_type": "code",
      "source": [
        "plt.figure(figsize=(8, 6))\n",
        "sns.heatmap(cm, annot=True, fmt='d', cmap='Blues', cbar=False)\n",
        "plt.xlabel('Predicción')\n",
        "plt.ylabel('Valor Real')\n",
        "plt.title('Matriz de Confusión')\n",
        "plt.show()"
      ],
      "metadata": {
        "colab": {
          "base_uri": "https://localhost:8080/",
          "height": 564
        },
        "id": "VaLOt5-w1iMS",
        "outputId": "4831fe31-be52-49d5-db7a-e54e6fbaad92"
      },
      "execution_count": null,
      "outputs": [
        {
          "output_type": "display_data",
          "data": {
            "text/plain": [
              "<Figure size 800x600 with 1 Axes>"
            ],
            "image/png": "[encoded data removed]"
          },
          "metadata": {}
        }
      ]
    },
    {
      "cell_type": "markdown",
      "source": [
        "Árbol"
      ],
      "metadata": {
        "id": "_n3Dfb_-13rj"
      }
    },
    {
      "cell_type": "code",
      "source": [
        "from sklearn.tree import plot_tree\n",
        "arbol = DecisionTreeClassifier().set_params(**randomcv.best_params_)\n",
        "arbol.fit(x_train, y_train)\n",
        "\n",
        "# Configura el tamaño y crea el gráfico del árbol\n",
        "plt.figure(figsize=(12, 12))\n",
        "tree_plot = plot_tree(\n",
        "    arbol,\n",
        "    max_depth=3,  # Ajusta la profundidad máxima según tu preferencia\n",
        "    feature_names=x_train.columns.to_list(),\n",
        "    filled=True,\n",
        "    rounded=True,\n",
        "    class_names=True\n",
        ")\n",
        "\n",
        "# Muestra el gráfico del árbol\n",
        "plt.show()\n"
      ],
      "metadata": {
        "colab": {
          "base_uri": "https://localhost:8080/",
          "height": 961
        },
        "id": "o5G9glI814uP",
        "outputId": "64858059-03fa-44f6-c0f5-4cd46d2b5c81"
      },
      "execution_count": null,
      "outputs": [
        {
          "output_type": "display_data",
          "data": {
            "text/plain": [
              "<Figure size 1200x1200 with 1 Axes>"
            ],
            "image/png": "[encoded data removed]"
          },
          "metadata": {}
        }
      ]
    },
    {
      "cell_type": "markdown",
      "source": [
        "### **Modelo 2**"
      ],
      "metadata": {
        "id": "d-K2FB1xZL-h"
      }
    },
    {
      "cell_type": "markdown",
      "source": [
        "En este modelo vamos a usar el criterio 'gini' a diferencia del modelo anterior, y a partir de los resultados obtenidos variar los parametros. Como en el modelo 1 usaremos el metodo Randomized Search Cross Validation.\n",
        "\n",
        "A si mismo, tambien vamos a variar los parametros:\n",
        "\n",
        "\n",
        "*   max_depth: criterio de parada (ej: máxima profundidad, osea, niveles/preguntas)\n",
        "*   min_samples_leaf: cantidad minima de muestras para considerar un nodo como una hoja.\n",
        "*   ccp_alpha: estrategia de poda\n",
        "*   min_samples_split: cantidad de muestras que tiene que tener un nodo."
      ],
      "metadata": {
        "id": "59IjYj4osrZq"
      }
    },
    {
      "cell_type": "markdown",
      "source": [
        "#### **Entrenamiento N1**"
      ],
      "metadata": {
        "id": "Kg5pw_60R1y0"
      }
    },
    {
      "cell_type": "code",
      "source": [
        "#Cantidad de combinaciones de parametros que quiero probar\n",
        "n=10\n",
        "\n",
        "#Conjunto de parámetros que quiero usar\n",
        "params_grid = {'criterion':['gini'],\n",
        "               'max_depth':list(range(10, 30)),\n",
        "               }\n",
        "\n",
        "\n",
        "#Cantidad de splits para el Cross Validation\n",
        "folds=10\n",
        "\n",
        "#Kfold estratificado - arma los folds\n",
        "kfoldcv = StratifiedKFold(n_splits=folds)\n",
        "\n",
        "#Clasificador\n",
        "base_tree = DecisionTreeClassifier()\n",
        "\n",
        "#Metrica que quiero optimizar F1 Score\n",
        "scorer_fn = make_scorer(f1_score)\n",
        "\n",
        "#Random Search Cross Validation\n",
        "randomcv = RandomizedSearchCV(estimator=base_tree,\n",
        "                              param_distributions = params_grid,\n",
        "                              scoring=scorer_fn,\n",
        "                              cv=kfoldcv,\n",
        "                              n_iter=n)\n",
        "\n",
        "#Busco los hiperparamtros que optimizan F1 Score\n",
        "randomcv.fit(x_train,y_train);"
      ],
      "metadata": {
        "id": "uP7G3HJlZiFo"
      },
      "execution_count": null,
      "outputs": []
    },
    {
      "cell_type": "code",
      "source": [
        "#Mejores hiperparametros del arbol\n",
        "print(randomcv.best_params_)\n",
        "#Mejor métrica\n",
        "print(randomcv.best_score_)"
      ],
      "metadata": {
        "colab": {
          "base_uri": "https://localhost:8080/"
        },
        "id": "6APnA_Tuoyvg",
        "outputId": "a33bc608-f391-4e45-94e5-90d7f143bf31"
      },
      "execution_count": null,
      "outputs": [
        {
          "output_type": "stream",
          "name": "stdout",
          "text": [
            "{'max_depth': 17, 'criterion': 'gini'}\n",
            "0.8476403429796063\n"
          ]
        }
      ]
    },
    {
      "cell_type": "code",
      "source": [
        "randomcv.cv_results_['mean_test_score']"
      ],
      "metadata": {
        "colab": {
          "base_uri": "https://localhost:8080/"
        },
        "id": "zhmCmiObo1Dy",
        "outputId": "ee198c16-5d95-4d14-a188-c4dc476e59e7"
      },
      "execution_count": null,
      "outputs": [
        {
          "output_type": "execute_result",
          "data": {
            "text/plain": [
              "array([0.84473924, 0.8439358 , 0.84321844, 0.84764034, 0.84290577,\n",
              "       0.83806315, 0.83979421, 0.84114484, 0.84607557, 0.84601248])"
            ]
          },
          "metadata": {},
          "execution_count": 474
        }
      ]
    },
    {
      "cell_type": "code",
      "source": [
        "arbol=DecisionTreeClassifier().set_params(**randomcv.best_params_)\n",
        "\n",
        "#Entreno el arbol en todo el set\n",
        "arbol.fit(x_train,y_train)"
      ],
      "metadata": {
        "colab": {
          "base_uri": "https://localhost:8080/",
          "height": 75
        },
        "id": "0RyREUCMpwzN",
        "outputId": "e58f882c-5a21-4ece-de57-8fd0b26015c9"
      },
      "execution_count": null,
      "outputs": [
        {
          "output_type": "execute_result",
          "data": {
            "text/plain": [
              "DecisionTreeClassifier(max_depth=17)"
            ],
            "text/html": [
              "<style>#sk-container-id-44 {color: black;background-color: white;}#sk-container-id-44 pre{padding: 0;}#sk-container-id-44 div.sk-toggleable {background-color: white;}#sk-container-id-44 label.sk-toggleable__label {cursor: pointer;display: block;width: 100%;margin-bottom: 0;padding: 0.3em;box-sizing: border-box;text-align: center;}#sk-container-id-44 label.sk-toggleable__label-arrow:before {content: \"▸\";float: left;margin-right: 0.25em;color: #696969;}#sk-container-id-44 label.sk-toggleable__label-arrow:hover:before {color: black;}#sk-container-id-44 div.sk-estimator:hover label.sk-toggleable__label-arrow:before {color: black;}#sk-container-id-44 div.sk-toggleable__content {max-height: 0;max-width: 0;overflow: hidden;text-align: left;background-color: #f0f8ff;}#sk-container-id-44 div.sk-toggleable__content pre {margin: 0.2em;color: black;border-radius: 0.25em;background-color: #f0f8ff;}#sk-container-id-44 input.sk-toggleable__control:checked~div.sk-toggleable__content {max-height: 200px;max-width: 100%;overflow: auto;}#sk-container-id-44 input.sk-toggleable__control:checked~label.sk-toggleable__label-arrow:before {content: \"▾\";}#sk-container-id-44 div.sk-estimator input.sk-toggleable__control:checked~label.sk-toggleable__label {background-color: #d4ebff;}#sk-container-id-44 div.sk-label input.sk-toggleable__control:checked~label.sk-toggleable__label {background-color: #d4ebff;}#sk-container-id-44 input.sk-hidden--visually {border: 0;clip: rect(1px 1px 1px 1px);clip: rect(1px, 1px, 1px, 1px);height: 1px;margin: -1px;overflow: hidden;padding: 0;position: absolute;width: 1px;}#sk-container-id-44 div.sk-estimator {font-family: monospace;background-color: #f0f8ff;border: 1px dotted black;border-radius: 0.25em;box-sizing: border-box;margin-bottom: 0.5em;}#sk-container-id-44 div.sk-estimator:hover {background-color: #d4ebff;}#sk-container-id-44 div.sk-parallel-item::after {content: \"\";width: 100%;border-bottom: 1px solid gray;flex-grow: 1;}#sk-container-id-44 div.sk-label:hover label.sk-toggleable__label {background-color: #d4ebff;}#sk-container-id-44 div.sk-serial::before {content: \"\";position: absolute;border-left: 1px solid gray;box-sizing: border-box;top: 0;bottom: 0;left: 50%;z-index: 0;}#sk-container-id-44 div.sk-serial {display: flex;flex-direction: column;align-items: center;background-color: white;padding-right: 0.2em;padding-left: 0.2em;position: relative;}#sk-container-id-44 div.sk-item {position: relative;z-index: 1;}#sk-container-id-44 div.sk-parallel {display: flex;align-items: stretch;justify-content: center;background-color: white;position: relative;}#sk-container-id-44 div.sk-item::before, #sk-container-id-44 div.sk-parallel-item::before {content: \"\";position: absolute;border-left: 1px solid gray;box-sizing: border-box;top: 0;bottom: 0;left: 50%;z-index: -1;}#sk-container-id-44 div.sk-parallel-item {display: flex;flex-direction: column;z-index: 1;position: relative;background-color: white;}#sk-container-id-44 div.sk-parallel-item:first-child::after {align-self: flex-end;width: 50%;}#sk-container-id-44 div.sk-parallel-item:last-child::after {align-self: flex-start;width: 50%;}#sk-container-id-44 div.sk-parallel-item:only-child::after {width: 0;}#sk-container-id-44 div.sk-dashed-wrapped {border: 1px dashed gray;margin: 0 0.4em 0.5em 0.4em;box-sizing: border-box;padding-bottom: 0.4em;background-color: white;}#sk-container-id-44 div.sk-label label {font-family: monospace;font-weight: bold;display: inline-block;line-height: 1.2em;}#sk-container-id-44 div.sk-label-container {text-align: center;}#sk-container-id-44 div.sk-container {/* jupyter's `normalize.less` sets `[hidden] { display: none; }` but bootstrap.min.css set `[hidden] { display: none !important; }` so we also need the `!important` here to be able to override the default hidden behavior on the sphinx rendered scikit-learn.org. See: https://github.com/scikit-learn/scikit-learn/issues/21755 */display: inline-block !important;position: relative;}#sk-container-id-44 div.sk-text-repr-fallback {display: none;}</style><div id=\"sk-container-id-44\" class=\"sk-top-container\"><div class=\"sk-text-repr-fallback\"><pre>DecisionTreeClassifier(max_depth=17)</pre><b>In a Jupyter environment, please rerun this cell to show the HTML representation or trust the notebook. <br />On GitHub, the HTML representation is unable to render, please try loading this page with nbviewer.org.</b></div><div class=\"sk-container\" hidden><div class=\"sk-item\"><div class=\"sk-estimator sk-toggleable\"><input class=\"sk-toggleable__control sk-hidden--visually\" id=\"sk-estimator-id-44\" type=\"checkbox\" checked><label for=\"sk-estimator-id-44\" class=\"sk-toggleable__label sk-toggleable__label-arrow\">DecisionTreeClassifier</label><div class=\"sk-toggleable__content\"><pre>DecisionTreeClassifier(max_depth=17)</pre></div></div></div></div></div>"
            ]
          },
          "metadata": {},
          "execution_count": 475
        }
      ]
    },
    {
      "cell_type": "code",
      "source": [
        "y_pred = arbol.predict(x_test)"
      ],
      "metadata": {
        "id": "NGgL5bxRqftF"
      },
      "execution_count": null,
      "outputs": []
    },
    {
      "cell_type": "code",
      "source": [
        "#Calculo las métricas en el conjunto de evaluación\n",
        "accuracy=accuracy_score(y_test,y_pred)\n",
        "recall=recall_score(y_test,y_pred)\n",
        "f1=f1_score(y_test,y_pred,)\n",
        "precision=precision_score(y_test,y_pred)\n",
        "\n",
        "print(\"Accuracy: \"+str(accuracy))\n",
        "print(\"Recall: \"+str(recall))\n",
        "print(\"Precision: \"+str(precision))\n",
        "print(\"f1 score: \"+str(f1))"
      ],
      "metadata": {
        "colab": {
          "base_uri": "https://localhost:8080/"
        },
        "id": "XtKom9Txqkb1",
        "outputId": "f24f0e0b-1152-4846-cf3d-2381a9930528"
      },
      "execution_count": null,
      "outputs": [
        {
          "output_type": "stream",
          "name": "stdout",
          "text": [
            "Accuracy: 0.8475338753387534\n",
            "Recall: 0.8698666666666667\n",
            "Precision: 0.8365818629462454\n",
            "f1 score: 0.8528996496365633\n"
          ]
        }
      ]
    },
    {
      "cell_type": "markdown",
      "source": [
        "#### **Entrenamiento N2**"
      ],
      "metadata": {
        "id": "Sf9LIGb7SG6e"
      }
    },
    {
      "cell_type": "markdown",
      "source": [
        "Tomamos el valor de max_depth = 19 y variamos el próximo parametro en el rango 1-10"
      ],
      "metadata": {
        "id": "5nM-xxTCxY3E"
      }
    },
    {
      "cell_type": "code",
      "source": [
        "#Cantidad de combinaciones de parametros que quiero probar\n",
        "n=10\n",
        "\n",
        "#Conjunto de parámetros que quiero usar\n",
        "params_grid = {'criterion':['gini'],\n",
        "               'max_depth':[19],\n",
        "               'min_samples_leaf':list(range(1, 10)),\n",
        "               }\n",
        "\n",
        "#Cantidad de splits para el Cross Validation\n",
        "folds=10 #10, 15\n",
        "\n",
        "#Kfold estratificado - arma los folds\n",
        "kfoldcv = StratifiedKFold(n_splits=folds)\n",
        "\n",
        "#Clasificador\n",
        "base_tree = DecisionTreeClassifier()\n",
        "\n",
        "#Metrica que quiero optimizar F1 Score\n",
        "scorer_fn = make_scorer(f1_score)\n",
        "\n",
        "#Random Search Cross Validation\n",
        "randomcv = RandomizedSearchCV(estimator=base_tree,\n",
        "                              param_distributions = params_grid,\n",
        "                              scoring=scorer_fn,\n",
        "                              cv=kfoldcv,\n",
        "                              n_iter=n)\n",
        "\n",
        "#Busco los hiperparamtros que optimizan F1 Score\n",
        "randomcv.fit(x_train,y_train);"
      ],
      "metadata": {
        "id": "BOfCgLZpSWMX"
      },
      "execution_count": null,
      "outputs": []
    },
    {
      "cell_type": "code",
      "source": [
        "#Mejores hiperparametros del arbol\n",
        "print(randomcv.best_params_)\n",
        "#Mejor métrica\n",
        "print(randomcv.best_score_)"
      ],
      "metadata": {
        "colab": {
          "base_uri": "https://localhost:8080/"
        },
        "outputId": "345b0e1b-7e05-40a5-9272-181a3ecd55f9",
        "id": "jokDMSu1SWMe"
      },
      "execution_count": null,
      "outputs": [
        {
          "output_type": "stream",
          "name": "stdout",
          "text": [
            "{'min_samples_leaf': 1, 'max_depth': 19, 'criterion': 'gini'}\n",
            "0.8457989591797286\n"
          ]
        }
      ]
    },
    {
      "cell_type": "code",
      "source": [
        "randomcv.cv_results_['mean_test_score']"
      ],
      "metadata": {
        "colab": {
          "base_uri": "https://localhost:8080/"
        },
        "outputId": "093beb57-6179-427f-f046-7fa6b24b7899",
        "id": "-ZqF8gvzSWMe"
      },
      "execution_count": null,
      "outputs": [
        {
          "output_type": "execute_result",
          "data": {
            "text/plain": [
              "array([0.84579896, 0.84276069, 0.84225251, 0.84147766, 0.84178806,\n",
              "       0.84149917, 0.84086809, 0.84110699, 0.84110505])"
            ]
          },
          "metadata": {},
          "execution_count": 480
        }
      ]
    },
    {
      "cell_type": "code",
      "source": [
        "#Creo el árbol con los mejores hiperparámetros\n",
        "from sklearn.tree import DecisionTreeClassifier\n",
        "from sklearn.tree import export_text\n",
        "\n",
        "arbol=DecisionTreeClassifier().set_params(**randomcv.best_params_)\n",
        "\n",
        "#Entreno el arbol en todo el set\n",
        "arbol.fit(x_train,y_train)"
      ],
      "metadata": {
        "colab": {
          "base_uri": "https://localhost:8080/"
        },
        "outputId": "d843fe7c-4e9b-40d1-a7da-8fdcf8b61a81",
        "id": "KSqKtkwvSWMe"
      },
      "execution_count": null,
      "outputs": [
        {
          "output_type": "execute_result",
          "data": {
            "text/plain": [
              "DecisionTreeClassifier(max_depth=19)"
            ],
            "text/html": [
              "<style>#sk-container-id-45 {color: black;background-color: white;}#sk-container-id-45 pre{padding: 0;}#sk-container-id-45 div.sk-toggleable {background-color: white;}#sk-container-id-45 label.sk-toggleable__label {cursor: pointer;display: block;width: 100%;margin-bottom: 0;padding: 0.3em;box-sizing: border-box;text-align: center;}#sk-container-id-45 label.sk-toggleable__label-arrow:before {content: \"▸\";float: left;margin-right: 0.25em;color: #696969;}#sk-container-id-45 label.sk-toggleable__label-arrow:hover:before {color: black;}#sk-container-id-45 div.sk-estimator:hover label.sk-toggleable__label-arrow:before {color: black;}#sk-container-id-45 div.sk-toggleable__content {max-height: 0;max-width: 0;overflow: hidden;text-align: left;background-color: #f0f8ff;}#sk-container-id-45 div.sk-toggleable__content pre {margin: 0.2em;color: black;border-radius: 0.25em;background-color: #f0f8ff;}#sk-container-id-45 input.sk-toggleable__control:checked~div.sk-toggleable__content {max-height: 200px;max-width: 100%;overflow: auto;}#sk-container-id-45 input.sk-toggleable__control:checked~label.sk-toggleable__label-arrow:before {content: \"▾\";}#sk-container-id-45 div.sk-estimator input.sk-toggleable__control:checked~label.sk-toggleable__label {background-color: #d4ebff;}#sk-container-id-45 div.sk-label input.sk-toggleable__control:checked~label.sk-toggleable__label {background-color: #d4ebff;}#sk-container-id-45 input.sk-hidden--visually {border: 0;clip: rect(1px 1px 1px 1px);clip: rect(1px, 1px, 1px, 1px);height: 1px;margin: -1px;overflow: hidden;padding: 0;position: absolute;width: 1px;}#sk-container-id-45 div.sk-estimator {font-family: monospace;background-color: #f0f8ff;border: 1px dotted black;border-radius: 0.25em;box-sizing: border-box;margin-bottom: 0.5em;}#sk-container-id-45 div.sk-estimator:hover {background-color: #d4ebff;}#sk-container-id-45 div.sk-parallel-item::after {content: \"\";width: 100%;border-bottom: 1px solid gray;flex-grow: 1;}#sk-container-id-45 div.sk-label:hover label.sk-toggleable__label {background-color: #d4ebff;}#sk-container-id-45 div.sk-serial::before {content: \"\";position: absolute;border-left: 1px solid gray;box-sizing: border-box;top: 0;bottom: 0;left: 50%;z-index: 0;}#sk-container-id-45 div.sk-serial {display: flex;flex-direction: column;align-items: center;background-color: white;padding-right: 0.2em;padding-left: 0.2em;position: relative;}#sk-container-id-45 div.sk-item {position: relative;z-index: 1;}#sk-container-id-45 div.sk-parallel {display: flex;align-items: stretch;justify-content: center;background-color: white;position: relative;}#sk-container-id-45 div.sk-item::before, #sk-container-id-45 div.sk-parallel-item::before {content: \"\";position: absolute;border-left: 1px solid gray;box-sizing: border-box;top: 0;bottom: 0;left: 50%;z-index: -1;}#sk-container-id-45 div.sk-parallel-item {display: flex;flex-direction: column;z-index: 1;position: relative;background-color: white;}#sk-container-id-45 div.sk-parallel-item:first-child::after {align-self: flex-end;width: 50%;}#sk-container-id-45 div.sk-parallel-item:last-child::after {align-self: flex-start;width: 50%;}#sk-container-id-45 div.sk-parallel-item:only-child::after {width: 0;}#sk-container-id-45 div.sk-dashed-wrapped {border: 1px dashed gray;margin: 0 0.4em 0.5em 0.4em;box-sizing: border-box;padding-bottom: 0.4em;background-color: white;}#sk-container-id-45 div.sk-label label {font-family: monospace;font-weight: bold;display: inline-block;line-height: 1.2em;}#sk-container-id-45 div.sk-label-container {text-align: center;}#sk-container-id-45 div.sk-container {/* jupyter's `normalize.less` sets `[hidden] { display: none; }` but bootstrap.min.css set `[hidden] { display: none !important; }` so we also need the `!important` here to be able to override the default hidden behavior on the sphinx rendered scikit-learn.org. See: https://github.com/scikit-learn/scikit-learn/issues/21755 */display: inline-block !important;position: relative;}#sk-container-id-45 div.sk-text-repr-fallback {display: none;}</style><div id=\"sk-container-id-45\" class=\"sk-top-container\"><div class=\"sk-text-repr-fallback\"><pre>DecisionTreeClassifier(max_depth=19)</pre><b>In a Jupyter environment, please rerun this cell to show the HTML representation or trust the notebook. <br />On GitHub, the HTML representation is unable to render, please try loading this page with nbviewer.org.</b></div><div class=\"sk-container\" hidden><div class=\"sk-item\"><div class=\"sk-estimator sk-toggleable\"><input class=\"sk-toggleable__control sk-hidden--visually\" id=\"sk-estimator-id-45\" type=\"checkbox\" checked><label for=\"sk-estimator-id-45\" class=\"sk-toggleable__label sk-toggleable__label-arrow\">DecisionTreeClassifier</label><div class=\"sk-toggleable__content\"><pre>DecisionTreeClassifier(max_depth=19)</pre></div></div></div></div></div>"
            ]
          },
          "metadata": {},
          "execution_count": 481
        }
      ]
    },
    {
      "cell_type": "code",
      "source": [
        "y_pred = arbol.predict(x_test)"
      ],
      "metadata": {
        "id": "_iI6xjlSSWMe"
      },
      "execution_count": null,
      "outputs": []
    },
    {
      "cell_type": "code",
      "source": [
        "#Calculo las métricas en el conjunto de evaluación\n",
        "accuracy=accuracy_score(y_test,y_pred)\n",
        "recall=recall_score(y_test,y_pred)\n",
        "f1=f1_score(y_test,y_pred,)\n",
        "precision=precision_score(y_test,y_pred)\n",
        "\n",
        "print(\"Accuracy: \"+str(accuracy))\n",
        "print(\"Recall: \"+str(recall))\n",
        "print(\"Precision: \"+str(precision))\n",
        "print(\"f1 score: \"+str(f1))"
      ],
      "metadata": {
        "colab": {
          "base_uri": "https://localhost:8080/"
        },
        "outputId": "8376b4f4-18bb-4ec3-f8cc-4dea33bc65df",
        "id": "R5T6JsMWSWMe"
      },
      "execution_count": null,
      "outputs": [
        {
          "output_type": "stream",
          "name": "stdout",
          "text": [
            "Accuracy: 0.8479674796747968\n",
            "Recall: 0.8666666666666667\n",
            "Precision: 0.8393595041322314\n",
            "f1 score: 0.8527945421149304\n"
          ]
        }
      ]
    },
    {
      "cell_type": "markdown",
      "source": [
        "#### **Entrenamiento N3**"
      ],
      "metadata": {
        "id": "xb4pG37kVB-l"
      }
    },
    {
      "cell_type": "markdown",
      "source": [
        "A partir del analisis anterior tomamos min_samples_leaf = 3 y procedemos a variar 'ccp_alpha'"
      ],
      "metadata": {
        "id": "cao2j89dyFZu"
      }
    },
    {
      "cell_type": "code",
      "source": [
        "#Cantidad de combinaciones de parametros que quiero probar\n",
        "n=10\n",
        "\n",
        "#Conjunto de parámetros que quiero usar\n",
        "params_grid = {'criterion':['gini'],\n",
        "               'max_depth':[19],\n",
        "               'min_samples_leaf':[3],\n",
        "               'ccp_alpha': np.linspace(0.0001, 0.0002, 10)\n",
        "               }\n",
        "\n",
        "#Cantidad de splits para el Cross Validation\n",
        "folds=10\n",
        "\n",
        "#Kfold estratificado - arma los folds\n",
        "kfoldcv = StratifiedKFold(n_splits=folds)\n",
        "\n",
        "#Clasificador\n",
        "base_tree = DecisionTreeClassifier()\n",
        "\n",
        "#Metrica que quiero optimizar F1 Score\n",
        "scorer_fn = make_scorer(f1_score)\n",
        "\n",
        "#Random Search Cross Validation\n",
        "randomcv = RandomizedSearchCV(estimator=base_tree,\n",
        "                              param_distributions = params_grid,\n",
        "                              scoring=scorer_fn,\n",
        "                              cv=kfoldcv,\n",
        "                              n_iter=n)\n",
        "\n",
        "#Busco los hiperparamtros que optimizan F1 Score\n",
        "randomcv.fit(x_train,y_train);"
      ],
      "metadata": {
        "id": "T3w7HUkUVFQe"
      },
      "execution_count": null,
      "outputs": []
    },
    {
      "cell_type": "code",
      "source": [
        "#Mejores hiperparametros del arbol\n",
        "print(randomcv.best_params_)\n",
        "#Mejor métrica\n",
        "print(randomcv.best_score_)"
      ],
      "metadata": {
        "id": "DUDUz5v0VFQk"
      },
      "execution_count": null,
      "outputs": []
    },
    {
      "cell_type": "code",
      "source": [
        "randomcv.cv_results_['mean_test_score']"
      ],
      "metadata": {
        "id": "-1IeaSw4VFQl"
      },
      "execution_count": null,
      "outputs": []
    },
    {
      "cell_type": "code",
      "source": [
        "#Creo el árbol con los mejores hiperparámetros\n",
        "from sklearn.tree import DecisionTreeClassifier\n",
        "from sklearn.tree import export_text\n",
        "\n",
        "arbol=DecisionTreeClassifier().set_params(**randomcv.best_params_)\n",
        "\n",
        "#Entreno el arbol en todo el set\n",
        "arbol.fit(x_train,y_train)"
      ],
      "metadata": {
        "id": "ePrimJE-VFQl"
      },
      "execution_count": null,
      "outputs": []
    },
    {
      "cell_type": "code",
      "source": [
        "y_pred = arbol.predict(x_test)"
      ],
      "metadata": {
        "id": "fbItoYAkVFQl"
      },
      "execution_count": null,
      "outputs": []
    },
    {
      "cell_type": "code",
      "source": [
        "#Calculo las métricas en el conjunto de evaluación\n",
        "accuracy=accuracy_score(y_test,y_pred)\n",
        "recall=recall_score(y_test,y_pred)\n",
        "f1=f1_score(y_test,y_pred,)\n",
        "precision=precision_score(y_test,y_pred)\n",
        "\n",
        "print(\"Accuracy: \"+str(accuracy))\n",
        "print(\"Recall: \"+str(recall))\n",
        "print(\"Precision: \"+str(precision))\n",
        "print(\"f1 score: \"+str(f1))"
      ],
      "metadata": {
        "id": "Qj1gIsdUVFQl"
      },
      "execution_count": null,
      "outputs": []
    },
    {
      "cell_type": "markdown",
      "source": [
        "#### **Entrenamiento N4**"
      ],
      "metadata": {
        "id": "DHRQADHpXrEM"
      }
    },
    {
      "cell_type": "markdown",
      "source": [
        "Por último tomamos ccp_alpha = 0.0001 y procedemos a variar el ultimo parametro 'min_samples_split'"
      ],
      "metadata": {
        "id": "-ecGxoBlyPDi"
      }
    },
    {
      "cell_type": "code",
      "source": [
        "#Cantidad de combinaciones de parametros que quiero probar\n",
        "n=10\n",
        "\n",
        "#Conjunto de parámetros que quiero usar\n",
        "params_grid = {'criterion':['gini'],\n",
        "               'max_depth':[19],\n",
        "               'min_samples_leaf':[2],\n",
        "               'ccp_alpha': [0.0001],\n",
        "               'min_samples_split': list(range(1, 10))\n",
        "               }\n",
        "\n",
        "#Cantidad de splits para el Cross Validation\n",
        "folds=10\n",
        "\n",
        "#Kfold estratificado - arma los folds\n",
        "kfoldcv = StratifiedKFold(n_splits=folds)\n",
        "\n",
        "#Clasificador\n",
        "base_tree = DecisionTreeClassifier()\n",
        "\n",
        "#Metrica que quiero optimizar F1 Score\n",
        "scorer_fn = make_scorer(f1_score)\n",
        "\n",
        "#Random Search Cross Validation\n",
        "randomcv = RandomizedSearchCV(estimator=base_tree,\n",
        "                              param_distributions = params_grid,\n",
        "                              scoring=scorer_fn,\n",
        "                              cv=kfoldcv,\n",
        "                              n_iter=n)\n",
        "\n",
        "#Busco los hiperparamtros que optimizan F1 Score\n",
        "randomcv.fit(x_train,y_train);"
      ],
      "metadata": {
        "id": "dnwTCyQMYJ46"
      },
      "execution_count": null,
      "outputs": []
    },
    {
      "cell_type": "code",
      "source": [
        "#Mejores hiperparametros del arbol\n",
        "print(randomcv.best_params_)\n",
        "#Mejor métrica\n",
        "print(randomcv.best_score_)"
      ],
      "metadata": {
        "id": "FOt66OAoYJ46"
      },
      "execution_count": null,
      "outputs": []
    },
    {
      "cell_type": "code",
      "source": [
        "randomcv.cv_results_['mean_test_score']"
      ],
      "metadata": {
        "id": "IK7j-U9mYJ46"
      },
      "execution_count": null,
      "outputs": []
    },
    {
      "cell_type": "code",
      "source": [
        "#Creo el árbol con los mejores hiperparámetros\n",
        "from sklearn.tree import DecisionTreeClassifier\n",
        "from sklearn.tree import export_text\n",
        "\n",
        "arbol=DecisionTreeClassifier().set_params(**randomcv.best_params_)\n",
        "\n",
        "#Entreno el arbol en todo el set\n",
        "arbol.fit(x_train,y_train)"
      ],
      "metadata": {
        "id": "wDsNG2vSYJ47"
      },
      "execution_count": null,
      "outputs": []
    },
    {
      "cell_type": "code",
      "source": [
        "y_pred = arbol.predict(x_test)"
      ],
      "metadata": {
        "id": "EbHwzcM1YJ47"
      },
      "execution_count": null,
      "outputs": []
    },
    {
      "cell_type": "code",
      "source": [
        "#Calculo las métricas en el conjunto de evaluación\n",
        "accuracy=accuracy_score(y_test,y_pred)\n",
        "recall=recall_score(y_test,y_pred)\n",
        "f1=f1_score(y_test,y_pred,)\n",
        "precision=precision_score(y_test,y_pred)\n",
        "\n",
        "print(\"Accuracy: \"+str(accuracy))\n",
        "print(\"Recall: \"+str(recall))\n",
        "print(\"Precision: \"+str(precision))\n",
        "print(\"f1 score: \"+str(f1))"
      ],
      "metadata": {
        "id": "vgTysF-HYJ47"
      },
      "execution_count": null,
      "outputs": []
    },
    {
      "cell_type": "markdown",
      "source": [
        "### **Modelo 3**"
      ],
      "metadata": {
        "id": "3DyPzmgPC9tM"
      }
    },
    {
      "cell_type": "markdown",
      "source": [
        "Este modelo trata de buscar la mejor combinacion de hiperparametros con el metodo **Random Search Cross Validation**.\n",
        "\n",
        "La cantidad de folds que usaremos sera de 5."
      ],
      "metadata": {
        "id": "pUcLJPW2DAq1"
      }
    },
    {
      "cell_type": "markdown",
      "source": [
        "En este caso, entrenaremos al modelo en funcion del criterio 'gini', y otros parametros que no utilizamos anteriormente.\n",
        "\n",
        "* max_depth: criterio de parada (ej: máxima profundidad, osea, niveles/preguntas)\n",
        "* max_leaf_nodes: controla el número máximo de nodos hoja permitidos en el árbol.\n",
        "* min_impurity_decrease: controla la cantidad mínima de disminución requerida en la impureza para realizar una división en un nodo del árbol de decisión."
      ],
      "metadata": {
        "id": "Rg9cFtMLc_5e"
      }
    },
    {
      "cell_type": "markdown",
      "source": [
        "#### **Entrenamiento N1**"
      ],
      "metadata": {
        "id": "38b3szURyPTS"
      }
    },
    {
      "cell_type": "markdown",
      "source": [
        "Este entrenamiento se centrara en buscar el mejor hiperparametro **max_depth**.\n",
        "\n",
        "Empezaremos cambiendo el criterio usado anteriormente, osea, a 'gini'."
      ],
      "metadata": {
        "id": "8Bb9IdapySbp"
      }
    },
    {
      "cell_type": "markdown",
      "source": [
        "Empezamos buscando un max_depth en el rango de 10-50, en donde los valores que tomaba mayormente era entre 10-30.\n",
        "\n",
        "A medida que fuimos achicando el rango, encontramos una tendencia de la variable, que toma el valor 17."
      ],
      "metadata": {
        "id": "CXrgWXi1yf4Q"
      }
    },
    {
      "cell_type": "code",
      "source": [
        "#Cantidad de combinaciones de parametros que quiero probar\n",
        "n=10\n",
        "\n",
        "#Conjunto de parámetros que quiero usar\n",
        "param_grid = {\n",
        "    'criterion': ['gini'],\n",
        "    'max_depth': list(range(10, 20)),\n",
        "}\n",
        "\n",
        "#Cantidad de splits para el Cross Validation\n",
        "folds=5\n",
        "\n",
        "#Kfold estratificado\n",
        "kfoldcv = StratifiedKFold(n_splits=folds)\n",
        "\n",
        "#Clasificador\n",
        "base_tree = DecisionTreeClassifier()\n",
        "\n",
        "#Metrica que quiero optimizar F1 Score\n",
        "scorer_fn = make_scorer(f1_score)\n",
        "\n",
        "#Random Search Cross Validation\n",
        "randomcv = RandomizedSearchCV(estimator=base_tree,\n",
        "                              param_distributions = param_grid,\n",
        "                              scoring=scorer_fn,\n",
        "                              cv=kfoldcv,\n",
        "                              n_iter=n)\n",
        "\n",
        "#Busco los hiperparametros que optimizan F1 score\n",
        "randomcv.fit(x_train,y_train);"
      ],
      "metadata": {
        "id": "gdVgFK8wFAvY"
      },
      "execution_count": null,
      "outputs": []
    },
    {
      "cell_type": "markdown",
      "source": [
        "Observemos los parametros y el score que nos dio."
      ],
      "metadata": {
        "id": "9f5_CDDo8ig6"
      }
    },
    {
      "cell_type": "code",
      "source": [
        "#Mejores hiperparametros del arbol\n",
        "print(randomcv.best_params_)\n",
        "#Mejor métrica\n",
        "print(randomcv.best_score_)"
      ],
      "metadata": {
        "id": "aflnT4TqGJqd"
      },
      "execution_count": null,
      "outputs": []
    },
    {
      "cell_type": "markdown",
      "source": [
        "Los scores obtenidos en las distintas combinaciones."
      ],
      "metadata": {
        "id": "l2al75iR8kP1"
      }
    },
    {
      "cell_type": "code",
      "source": [
        "randomcv.cv_results_['mean_test_score']"
      ],
      "metadata": {
        "id": "2YhQw_NlXxod"
      },
      "execution_count": null,
      "outputs": []
    },
    {
      "cell_type": "markdown",
      "source": [
        "Entrenamos."
      ],
      "metadata": {
        "id": "qMRp9aK88lic"
      }
    },
    {
      "cell_type": "code",
      "source": [
        "arbol=DecisionTreeClassifier().set_params(**randomcv.best_params_)\n",
        "\n",
        "#Entreno el arbol en todo el set\n",
        "arbol.fit(x_train,y_train)"
      ],
      "metadata": {
        "id": "27zJtP-lYCPn"
      },
      "execution_count": null,
      "outputs": []
    },
    {
      "cell_type": "markdown",
      "source": [
        "Predecimos."
      ],
      "metadata": {
        "id": "iqLpumce8nWt"
      }
    },
    {
      "cell_type": "code",
      "source": [
        "y_pred = arbol.predict(x_test)"
      ],
      "metadata": {
        "id": "kItq-MheYGoM"
      },
      "execution_count": null,
      "outputs": []
    },
    {
      "cell_type": "markdown",
      "source": [
        "Metricas."
      ],
      "metadata": {
        "id": "OFjDo2wF8n3k"
      }
    },
    {
      "cell_type": "code",
      "source": [
        "#Calculo las métricas en el conjunto de evaluación\n",
        "accuracy=accuracy_score(y_test,y_pred)\n",
        "recall=recall_score(y_test,y_pred)\n",
        "f1=f1_score(y_test,y_pred,)\n",
        "precision=precision_score(y_test,y_pred)\n",
        "\n",
        "print(\"Accuracy: \"+str(accuracy))\n",
        "print(\"Recall: \"+str(recall))\n",
        "print(\"Precision: \"+str(precision))\n",
        "print(\"f1 score: \"+str(f1))"
      ],
      "metadata": {
        "id": "7BxFGDytYH84"
      },
      "execution_count": null,
      "outputs": []
    },
    {
      "cell_type": "markdown",
      "source": [
        "#### **Entrenamiento N2**"
      ],
      "metadata": {
        "id": "dVBe9Zm6yl7x"
      }
    },
    {
      "cell_type": "markdown",
      "source": [
        "Seguimos entrenando el modelo, esta vez buscando el mejor hiperparametro de **max_leaf_nodes**.\n",
        "\n",
        "Los demas parametros lo sacamos del entrenamiento anterior.\n",
        "\n",
        "Para este entrenamiento, decidimos buscar primero por los rango 500-1500, dando saltos de 100 (600, 700, 800...), en donde el valor mas frecuenta era entre el rango 950-1000.\n",
        "\n",
        "Decidimos achicar el rango para dar mejor el valor preciso, que fue 984."
      ],
      "metadata": {
        "id": "2VSSrXjUynzp"
      }
    },
    {
      "cell_type": "code",
      "source": [
        "#Cantidad de combinaciones de parametros que quiero probar\n",
        "n=10\n",
        "\n",
        "#Conjunto de parámetros que quiero usar\n",
        "param_grid = {\n",
        "    'criterion': ['gini'],\n",
        "    'max_depth': [17],\n",
        "    'max_leaf_nodes' : list(range(980, 990))\n",
        "}\n",
        "\n",
        "#Cantidad de splits para el Cross Validation\n",
        "folds=5\n",
        "\n",
        "#Kfold estratificado\n",
        "kfoldcv = StratifiedKFold(n_splits=folds)\n",
        "\n",
        "#Clasificador\n",
        "base_tree = DecisionTreeClassifier()\n",
        "\n",
        "#Metrica que quiero optimizar F1 Score\n",
        "scorer_fn = make_scorer(f1_score)\n",
        "\n",
        "#Random Search Cross Validation\n",
        "randomcv = RandomizedSearchCV(estimator=base_tree,\n",
        "                              param_distributions = param_grid,\n",
        "                              scoring=scorer_fn,\n",
        "                              cv=kfoldcv,\n",
        "                              n_iter=n)\n",
        "\n",
        "#Busco los hiperparametros que optimizan F1 score\n",
        "randomcv.fit(x_train,y_train);"
      ],
      "metadata": {
        "id": "eKi8MoIBy-Tz"
      },
      "execution_count": null,
      "outputs": []
    },
    {
      "cell_type": "code",
      "source": [
        "#Mejores hiperparametros del arbol\n",
        "print(randomcv.best_params_)\n",
        "#Mejor métrica\n",
        "print(randomcv.best_score_)"
      ],
      "metadata": {
        "id": "gZfYrtwEzTxo"
      },
      "execution_count": null,
      "outputs": []
    },
    {
      "cell_type": "code",
      "source": [
        "randomcv.cv_results_['mean_test_score']"
      ],
      "metadata": {
        "id": "iF63_F2Azyy6"
      },
      "execution_count": null,
      "outputs": []
    },
    {
      "cell_type": "code",
      "source": [
        "arbol=DecisionTreeClassifier().set_params(**randomcv.best_params_)\n",
        "\n",
        "#Entreno el arbol en todo el set\n",
        "arbol.fit(x_train,y_train)"
      ],
      "metadata": {
        "id": "U-828xELz0H7"
      },
      "execution_count": null,
      "outputs": []
    },
    {
      "cell_type": "code",
      "source": [
        "y_pred = arbol.predict(x_test)"
      ],
      "metadata": {
        "id": "n5fKjQEPz0wI"
      },
      "execution_count": null,
      "outputs": []
    },
    {
      "cell_type": "code",
      "source": [
        "#Calculo las métricas en el conjunto de evaluación\n",
        "accuracy=accuracy_score(y_test,y_pred)\n",
        "recall=recall_score(y_test,y_pred)\n",
        "f1=f1_score(y_test,y_pred,)\n",
        "precision=precision_score(y_test,y_pred)\n",
        "\n",
        "print(\"Accuracy: \"+str(accuracy))\n",
        "print(\"Recall: \"+str(recall))\n",
        "print(\"Precision: \"+str(precision))\n",
        "print(\"f1 score: \"+str(f1))"
      ],
      "metadata": {
        "id": "7V_b_n9qz1wo"
      },
      "execution_count": null,
      "outputs": []
    },
    {
      "cell_type": "markdown",
      "source": [
        "#### **Entrenamiento N3**"
      ],
      "metadata": {
        "id": "sIDheuKL2bi9"
      }
    },
    {
      "cell_type": "markdown",
      "source": [
        "Seguimos entrenando el modelo, esta vez buscando el mejor hiperparametro de **min_impurity_decrease**.\n",
        "\n",
        "Los demas parametros lo sacamos del entrenamiento anterior.\n",
        "\n",
        "Para este entrenamiento, decidimos buscar primero por los rango 0.00000001-0.01, dando algunos saltos (0.01, 0.001, 0.0001, ...), en donde el valor mas frecuent era entre el rango 0.00001-0.000001.\n",
        "\n",
        "Decidimos achicar el rango para dar mejor el valor preciso, que seria el de 0.00001-0.00002.\n",
        "\n",
        "Pudimos observar que habia una tendencia en este rango, en donde valor daba 1.5555555555555555e-05."
      ],
      "metadata": {
        "id": "OeZwlig62eCn"
      }
    },
    {
      "cell_type": "code",
      "source": [
        "#Cantidad de combinaciones de parametros que quiero probar\n",
        "n=10\n",
        "\n",
        "#Conjunto de parámetros que quiero usar\n",
        "param_grid = {\n",
        "    'criterion': ['gini'],\n",
        "    'max_depth': [17],\n",
        "    'max_leaf_nodes' : [984],\n",
        "    'min_impurity_decrease': np.linspace(0.00001, 0.00002,20)\n",
        "    }\n",
        "\n",
        "#Cantidad de splits para el Cross Validation\n",
        "folds=5\n",
        "\n",
        "#Kfold estratificado\n",
        "kfoldcv = StratifiedKFold(n_splits=folds)\n",
        "\n",
        "#Clasificador\n",
        "base_tree = DecisionTreeClassifier()\n",
        "\n",
        "#Metrica que quiero optimizar F1 Score\n",
        "scorer_fn = make_scorer(f1_score)\n",
        "\n",
        "#Random Search Cross Validation\n",
        "randomcv = RandomizedSearchCV(estimator=base_tree,\n",
        "                              param_distributions = param_grid,\n",
        "                              scoring=scorer_fn,\n",
        "                              cv=kfoldcv,\n",
        "                              n_iter=n)\n",
        "\n",
        "#Busco los hiperparametros que optimizan F1 score\n",
        "randomcv.fit(x_train,y_train);"
      ],
      "metadata": {
        "id": "4EQUs_vH2jUa"
      },
      "execution_count": null,
      "outputs": []
    },
    {
      "cell_type": "code",
      "source": [
        "#Mejores hiperparametros del arbol\n",
        "print(randomcv.best_params_)\n",
        "#Mejor métrica\n",
        "print(randomcv.best_score_)"
      ],
      "metadata": {
        "id": "EzXHJwT-3xqO"
      },
      "execution_count": null,
      "outputs": []
    },
    {
      "cell_type": "code",
      "source": [
        "randomcv.cv_results_['mean_test_score']"
      ],
      "metadata": {
        "id": "BSE_0pk45Pwa"
      },
      "execution_count": null,
      "outputs": []
    },
    {
      "cell_type": "code",
      "source": [
        "arbol=DecisionTreeClassifier().set_params(**randomcv.best_params_)\n",
        "\n",
        "#Entreno el arbol en todo el set\n",
        "arbol.fit(x_train,y_train)"
      ],
      "metadata": {
        "id": "2aRrFFpX5RFS"
      },
      "execution_count": null,
      "outputs": []
    },
    {
      "cell_type": "code",
      "source": [
        "y_pred = arbol.predict(x_test)"
      ],
      "metadata": {
        "id": "GDKh97SN5R6R"
      },
      "execution_count": null,
      "outputs": []
    },
    {
      "cell_type": "code",
      "source": [
        "#Calculo las métricas en el conjunto de evaluación\n",
        "accuracy=accuracy_score(y_test,y_pred)\n",
        "recall=recall_score(y_test,y_pred)\n",
        "f1=f1_score(y_test,y_pred,)\n",
        "precision=precision_score(y_test,y_pred)\n",
        "\n",
        "print(\"Accuracy: \"+str(accuracy))\n",
        "print(\"Recall: \"+str(recall))\n",
        "print(\"Precision: \"+str(precision))\n",
        "print(\"f1 score: \"+str(f1))"
      ],
      "metadata": {
        "id": "H4i__arp5SmR"
      },
      "execution_count": null,
      "outputs": []
    },
    {
      "cell_type": "code",
      "source": [
        "model = arbol"
      ],
      "metadata": {
        "id": "5oZCXPlPoGg9"
      },
      "execution_count": null,
      "outputs": []
    },
    {
      "cell_type": "markdown",
      "source": [
        "## **Submission de prueba**"
      ],
      "metadata": {
        "id": "k354gEWvdIR6"
      }
    },
    {
      "cell_type": "code",
      "source": [
        "x_submission = ds_test_copia\n",
        "# Obtenemos las columnas de train y test\n",
        "train_columns = x_train.columns\n",
        "test_columns = x_submission.columns\n",
        "\n",
        "# Buscamos columnas extra en el df test\n",
        "extra_columns = set(test_columns) - set(train_columns)\n",
        "print(extra_columns)\n",
        "\n",
        "# Removemos las columnas extra\n",
        "x_submission = x_submission.drop(columns=extra_columns)"
      ],
      "metadata": {
        "id": "Vy5N_vE-doEy"
      },
      "execution_count": null,
      "outputs": []
    },
    {
      "cell_type": "markdown",
      "source": [
        "Predecimos ahora si con el verdadero test."
      ],
      "metadata": {
        "id": "A8MacbRn-Ndo"
      }
    },
    {
      "cell_type": "code",
      "source": [
        "y_pred_final = model.predict(x_submission)"
      ],
      "metadata": {
        "id": "Q1TLzzhiwu98"
      },
      "execution_count": null,
      "outputs": []
    },
    {
      "cell_type": "code",
      "source": [
        "df_submissing = pd.DataFrame({'id': ds_test['id'], 'is_canceled': y_pred_final.astype(int)})\n",
        "df_submissing.head()"
      ],
      "metadata": {
        "id": "DSCSpBcH2NJ6"
      },
      "execution_count": null,
      "outputs": []
    },
    {
      "cell_type": "markdown",
      "source": [
        "Exportamos."
      ],
      "metadata": {
        "id": "hWTQIodt-dR8"
      }
    },
    {
      "cell_type": "code",
      "source": [
        "df_submissing.to_csv('./submission_14.csv', index=False)"
      ],
      "metadata": {
        "id": "7o8om7kx4aP7"
      },
      "execution_count": null,
      "outputs": []
    }
  ]
}