{
  "cells": [
    {
      "cell_type": "markdown",
      "metadata": {
        "id": "view-in-github",
        "colab_type": "text"
      },
      "source": [
        "<a href=\"https://colab.research.google.com/github/4cea2/7506R-2C2023-GRUPO26/blob/main/7506R_TP1_GRUPO26_CHP3_ENTREGA.ipynb\" target=\"_parent\"><img src=\"https://colab.research.google.com/assets/colab-badge.svg\" alt=\"Open In Colab\"/></a>"
      ]
    },
    {
      "cell_type": "markdown",
      "metadata": {
        "id": "OH0dQxsYMTVR"
      },
      "source": [
        "# **Trabajo practico 1 - Checkpoint 3**\n",
        "**Grupo**: 26\n",
        "\n",
        "**Integrantes**:\n",
        "\n",
        "Garcia, Nicolas\n",
        "\n",
        "Vallcorba, Agustin\n",
        "\n",
        "Carbajal Robles, Kevin Emir"
      ]
    },
    {
      "cell_type": "markdown",
      "metadata": {
        "id": "HMR17Uglqd2I"
      },
      "source": [
        "## **Librerias y carga del data set**"
      ]
    },
    {
      "cell_type": "code",
      "execution_count": null,
      "metadata": {
        "colab": {
          "base_uri": "https://localhost:8080/"
        },
        "id": "Vc2WTf_HtZnZ",
        "outputId": "8ec2fe7d-b355-4bb6-fe11-b6071e64ff5b"
      },
      "outputs": [
        {
          "output_type": "stream",
          "name": "stdout",
          "text": [
            "Requirement already satisfied: xgboost in /usr/local/lib/python3.10/dist-packages (2.0.0)\n",
            "Requirement already satisfied: numpy in /usr/local/lib/python3.10/dist-packages (from xgboost) (1.23.5)\n",
            "Requirement already satisfied: scipy in /usr/local/lib/python3.10/dist-packages (from xgboost) (1.11.3)\n"
          ]
        }
      ],
      "source": [
        "!pip install xgboost"
      ]
    },
    {
      "cell_type": "code",
      "execution_count": null,
      "metadata": {
        "id": "Z8RfiDmslZ4D"
      },
      "outputs": [],
      "source": [
        "import pandas as pd\n",
        "import sklearn as sk\n",
        "import seaborn as sns\n",
        "import matplotlib.pyplot as plt\n",
        "import numpy as np\n",
        "import xgboost as xgb\n",
        "import tensorflow as tf\n",
        "\n",
        "from sklearn.model_selection import train_test_split\n",
        "\n",
        "from sklearn.ensemble import VotingClassifier\n",
        "from sklearn.ensemble import StackingClassifier\n",
        "from sklearn.datasets import load_iris\n",
        "from sklearn import preprocessing\n",
        "from sklearn.model_selection import train_test_split, cross_val_score\n",
        "from sklearn.svm import SVC\n",
        "from sklearn.datasets import make_classification\n",
        "from sklearn.metrics import confusion_matrix, classification_report\n",
        "from sklearn.metrics import precision_score, recall_score, accuracy_score,f1_score\n",
        "from sklearn.model_selection import cross_validate, StratifiedKFold\n",
        "from sklearn.model_selection import StratifiedKFold, KFold,RandomizedSearchCV\n",
        "from sklearn.tree import DecisionTreeClassifier\n",
        "from sklearn.neighbors import KNeighborsClassifier\n",
        "from sklearn.model_selection import GridSearchCV\n",
        "from sklearn.metrics import make_scorer, f1_score\n",
        "from sklearn.svm import LinearSVC\n",
        "from sklearn.ensemble import RandomForestClassifier"
      ]
    },
    {
      "cell_type": "markdown",
      "metadata": {
        "id": "OY2QQDN3NMal"
      },
      "source": [
        "Cargamos el dataset de train y test, que es el que obtuvimos en el checkpoint 2.\n",
        "\n",
        "De igual manera lo haremos para el dataset de test y el de train original, tambien el obtenido del chp1."
      ]
    },
    {
      "cell_type": "code",
      "execution_count": null,
      "metadata": {
        "id": "QlfnWaJmNCJ3"
      },
      "outputs": [],
      "source": [
        "#Dataset de entrenamiento\n",
        "ds_train = pd.read_csv('sample_data/ds_train_limpio.csv')\n",
        "\n",
        "#Dataset de test\n",
        "ds_test = pd.read_csv(\"sample_data/ds_test_limpio.csv\")\n",
        "\n",
        "\n",
        "#Dataset de test\n",
        "ds_test_orig = pd.read_csv(\"sample_data/hotels_test.csv\")\n",
        "\n",
        "#Dataset de entrenamiento chp1\n",
        "ds_train_chp1 = pd.read_csv('sample_data/ds_train_chp1.csv')\n",
        "\n",
        "#Dataset de entrenamiento original\n",
        "ds_train_orig = pd.read_csv(\"https://drive.google.com/u/0/uc?id=1tjlunFxE63XIpYjWk8SPm2XPxixu8SW4&export=download\")"
      ]
    },
    {
      "cell_type": "markdown",
      "metadata": {
        "id": "brEYfic17Eel"
      },
      "source": [
        "## **Clasificadores**"
      ]
    },
    {
      "cell_type": "markdown",
      "metadata": {
        "id": "C9N-2mub-IL1"
      },
      "source": [
        "Para entrenar cada clasificador, haremos una division del dataset de train.\n",
        "\n",
        "Entrenaremos con un 70%, y dejaremos un 30% para testear, al igual que el checkpoint 2."
      ]
    },
    {
      "cell_type": "code",
      "execution_count": null,
      "metadata": {
        "id": "J6bxlk3r9oqr"
      },
      "outputs": [],
      "source": [
        "#Creo un dataset con los features que voy a usar para clasificar\n",
        "ds_train_x=ds_train.drop(['is_canceled'], axis='columns', inplace=False)\n",
        "\n",
        "#Creo un dataset con la variable target\n",
        "ds_train_y = ds_train['is_canceled'].copy()\n",
        "\n",
        "#Genero los conjuntos de train y test\n",
        "x_train, x_test, y_train, y_test = train_test_split(ds_train_x,\n",
        "                                                    ds_train_y,\n",
        "                                                    test_size=0.3,  #proporcion 70/30\n",
        "                                                    random_state=2) #semilla"
      ]
    },
    {
      "cell_type": "markdown",
      "metadata": {
        "id": "tEnbOCrL_L0t"
      },
      "source": [
        "En todos los clasificadores, evaluaremos su performance, explicaremos todas las métricas y mostraremos su matriz de confusion."
      ]
    },
    {
      "cell_type": "markdown",
      "metadata": {
        "id": "hO5N0PfWbcjS"
      },
      "source": [
        "Definiremos una funcion para calcular las metricas y su matriz de confusion."
      ]
    },
    {
      "cell_type": "code",
      "execution_count": null,
      "metadata": {
        "id": "e1enFq--dKFK"
      },
      "outputs": [],
      "source": [
        "def metricas_y_matriz_confusion(y_prediccion, y_testeo):\n",
        "  #Calculo las métricas en el conjunto de evaluación\n",
        "  accuracy=accuracy_score(y_testeo,y_prediccion)\n",
        "  recall=recall_score(y_testeo,y_prediccion)\n",
        "  f1=f1_score(y_testeo,y_prediccion,)\n",
        "  precision=precision_score(y_testeo,y_prediccion)\n",
        "  cm = confusion_matrix(y_testeo, y_prediccion)\n",
        "\n",
        "  print(\"Accuracy: \"+str(accuracy))\n",
        "  print(\"Recall: \"+str(recall))\n",
        "  print(\"Precision: \"+str(precision))\n",
        "  print(\"f1 score: \"+str(f1))\n",
        "\n",
        "  plt.figure(figsize=(8, 6))\n",
        "  sns.heatmap(cm, annot=True, fmt='d', cmap='Blues', cbar=False)\n",
        "  plt.xlabel('Predicción')\n",
        "  plt.ylabel('Valor Real')\n",
        "  plt.title('Matriz de Confusión')\n",
        "  plt.show()"
      ]
    },
    {
      "cell_type": "markdown",
      "metadata": {
        "id": "tkOOdSQ67L3v"
      },
      "source": [
        "### **KNN - K-Nearest Neighbors**"
      ]
    },
    {
      "cell_type": "markdown",
      "metadata": {
        "id": "ZrDxH4r9-0cu"
      },
      "source": [
        "Pruebo primero con 3 vecinos"
      ]
    },
    {
      "cell_type": "code",
      "execution_count": null,
      "metadata": {
        "id": "2T56PqX6C8Qg",
        "colab": {
          "base_uri": "https://localhost:8080/"
        },
        "outputId": "b74de410-548f-4586-ae08-f13ff582c38c"
      },
      "outputs": [
        {
          "output_type": "stream",
          "name": "stdout",
          "text": [
            "Accuracy on test set: 0.7356639566395664\n",
            "Cantidad de aciertos: 13573\n",
            "Totales: 18450\n"
          ]
        }
      ],
      "source": [
        "param_grid = {\n",
        "    'n_neighbors': [3],  # Cantidad de vecinos\n",
        "    'weights': ['uniform'],  # Peso de los vecinos\n",
        "    'metric': ['minkowski'],  # Métricas de distancia\n",
        "}\n",
        "\n",
        "kfold = StratifiedKFold(n_splits=5, shuffle=True, random_state=42)\n",
        "\n",
        "\n",
        "knn = KNeighborsClassifier()\n",
        "\n",
        "grid_search = GridSearchCV(knn, param_grid, cv=kfold, scoring='accuracy')\n",
        "grid_search.fit(x_train, y_train)\n",
        "\n",
        "\n",
        "best_params = grid_search.best_params_\n",
        "best_knn = grid_search.best_estimator_\n",
        "\n",
        "\n",
        "y_pred = best_knn.predict(x_test)\n",
        "accuracy = accuracy_score(y_test, y_pred)\n",
        "print(\"Accuracy on test set:\", accuracy)\n",
        "print(\"Cantidad de aciertos:\", np.sum(y_test == y_pred))\n",
        "print(\"Totales:\", len(y_test))\n",
        "\n",
        "\n",
        "\n"
      ]
    },
    {
      "cell_type": "code",
      "execution_count": null,
      "metadata": {
        "id": "x5JaT3ML8I7l",
        "colab": {
          "base_uri": "https://localhost:8080/",
          "height": 472
        },
        "outputId": "38d2785d-3ae2-4bbb-d23f-faa291177892"
      },
      "outputs": [
        {
          "output_type": "display_data",
          "data": {
            "text/plain": [
              "<Figure size 640x480 with 1 Axes>"
            ],
            "image/png": "[encoded data removed]"
          },
          "metadata": {}
        }
      ],
      "source": [
        "#ploteo\n",
        "knn.get_params()\n",
        "metrics = []\n",
        "\n",
        "for n in range(1,31):\n",
        "  knn_test = KNeighborsClassifier(n_neighbors=n)\n",
        "  knn_test.fit(x_train, y_train)\n",
        "  y_pred = knn_test.predict(x_test)\n",
        "  metrics.append((n, (y_test == y_pred).sum()))\n",
        "\n",
        "df_metrics = pd.DataFrame(metrics, columns=['cant_vecinos', 'correctos'])\n",
        "ax = df_metrics.plot(x='cant_vecinos',\n",
        "                     y='correctos',\n",
        "                     title='Aciertos vs Cant de Vecinos')\n",
        "ax.set_ylabel('Cantidad de aciertos')\n",
        "ax.set_xlabel('Cantidad de vecinos')\n",
        "plt.show()"
      ]
    },
    {
      "cell_type": "markdown",
      "metadata": {
        "id": "fTuFnM-CFv8I"
      },
      "source": [
        "Entre 1 y 9 vecinos podemos ver que se da la mayor cantidad de aciertos, luego de esto tenemos menos de un 70% de aciertos, por lo que no creemos conveniente seguir analizando con más vecinos."
      ]
    },
    {
      "cell_type": "code",
      "execution_count": null,
      "metadata": {
        "id": "aK_sm-CYGFcu",
        "colab": {
          "base_uri": "https://localhost:8080/",
          "height": 472
        },
        "outputId": "258d7a58-60bc-42eb-d86c-7055308d00dd"
      },
      "outputs": [
        {
          "output_type": "display_data",
          "data": {
            "text/plain": [
              "<Figure size 640x480 with 1 Axes>"
            ],
            "image/png": "[encoded data removed]"
          },
          "metadata": {}
        }
      ],
      "source": [
        "from sklearn.model_selection import cross_val_score\n",
        "k_scores = []\n",
        "k_range = range(1,9)\n",
        "\n",
        "for n in k_range:\n",
        "  knn_new_range = KNeighborsClassifier(n_neighbors=n)\n",
        "  scores = cross_val_score(knn_new_range, x_train, y_train, cv=10, scoring='accuracy')\n",
        "  #knn_test.fit(x_train, y_train)\n",
        "  #y_pred = knn_test.predict(x_test)\n",
        "  k_scores.append(scores.mean())\n",
        "\n",
        "#ploteo accuaracy vs cant de vecinos\n",
        "#df_metrics = pd.DataFrame(metrics, columns=['cant_vecinos', 'correctos'])\n",
        "plt.plot(k_range, k_scores)\n",
        "plt.xlabel('Cant de vecinos')\n",
        "plt.ylabel('Cross Validation Accuracy')\n",
        "plt.title('Accuracy vs Cant de vecinos')\n",
        "plt.show()"
      ]
    },
    {
      "cell_type": "markdown",
      "metadata": {
        "id": "_pIIjx0t1jAv"
      },
      "source": [
        "Teniendo en cuenta esto, incluso podemos descartar aún una mayor cantidad de vecinos. Realizaremos un último clasificador y entrenamiento con hasta 5 vecinos y una gama más amplia de métricas, algorítmos y formas de calcular la distancia."
      ]
    },
    {
      "cell_type": "code",
      "execution_count": null,
      "metadata": {
        "id": "sB9k6TY717a9",
        "colab": {
          "base_uri": "https://localhost:8080/"
        },
        "outputId": "6f99abf7-683f-45ad-ac3b-a4d40f63e715"
      },
      "outputs": [
        {
          "output_type": "execute_result",
          "data": {
            "text/plain": [
              "array([0.73203252, 0.75454123, 0.74896632, 0.72943089, 0.73340302,\n",
              "       0.74111498, 0.74113821, 0.73921022])"
            ]
          },
          "metadata": {},
          "execution_count": 22
        }
      ],
      "source": [
        "#Utilizaremos el algorítmo RandomizedSearch para poder entrenar a nuestro clasificador\n",
        "from sklearn.model_selection import RandomizedSearchCV\n",
        "\n",
        "params_grid = { 'n_neighbors': range(1,5),\n",
        "                'weights': ['distance', 'uniform'],\n",
        "                'algorithm': ['ball_tree', 'kd_tree'],\n",
        "                'metric': ['euclidean', 'manhattan', 'infinity']}\n",
        "\n",
        "tuned_knn = KNeighborsClassifier()\n",
        "\n",
        "rand_search = RandomizedSearchCV(tuned_knn, params_grid, cv=10, scoring='accuracy', n_iter=8, random_state=5)\n",
        "\n",
        "rand_search.fit(x_train, y_train)\n",
        "rand_search.cv_results_['mean_test_score']"
      ]
    },
    {
      "cell_type": "markdown",
      "metadata": {
        "id": "-cK8w9m18-m3"
      },
      "source": [
        "Ahora busco el mejor hiperparámetro con la mejor métrica"
      ]
    },
    {
      "cell_type": "code",
      "execution_count": null,
      "metadata": {
        "id": "tUHup6b19BiH",
        "colab": {
          "base_uri": "https://localhost:8080/"
        },
        "outputId": "b332a9f2-3f4f-430d-ab52-76dc1979977d"
      },
      "outputs": [
        {
          "output_type": "stream",
          "name": "stdout",
          "text": [
            "{'weights': 'distance', 'n_neighbors': 1, 'metric': 'manhattan', 'algorithm': 'kd_tree'}\n",
            "0.7545412311265969\n"
          ]
        }
      ],
      "source": [
        "print(rand_search.best_params_)\n",
        "print(rand_search.best_score_)"
      ]
    },
    {
      "cell_type": "markdown",
      "metadata": {
        "id": "dYEKQ2vu9gRB"
      },
      "source": [
        "Ahora agarramos al mejor estimador, realizamos una predicción con él y obtenemos su precisión."
      ]
    },
    {
      "cell_type": "code",
      "execution_count": null,
      "metadata": {
        "id": "EfJup2ka9lwP",
        "colab": {
          "base_uri": "https://localhost:8080/"
        },
        "outputId": "acba1655-3425-4308-fcca-fe21e22ba9a9"
      },
      "outputs": [
        {
          "output_type": "execute_result",
          "data": {
            "text/plain": [
              "0.7605420054200542"
            ]
          },
          "metadata": {},
          "execution_count": 24
        }
      ],
      "source": [
        "best_knn = rand_search.best_estimator_\n",
        "y_pred = best_knn.predict(x_test)\n",
        "accuracy_score(y_test, y_pred)"
      ]
    },
    {
      "cell_type": "code",
      "source": [
        "metricas_y_matriz_confusion(y_pred, y_test)"
      ],
      "metadata": {
        "colab": {
          "base_uri": "https://localhost:8080/",
          "height": 638
        },
        "id": "CE5ZU4W9OERa",
        "outputId": "177269c0-aaf5-4750-be8e-0817abab4407"
      },
      "execution_count": null,
      "outputs": [
        {
          "output_type": "stream",
          "name": "stdout",
          "text": [
            "Accuracy: 0.7605420054200542\n",
            "Recall: 0.7889066666666666\n",
            "Precision: 0.7520081342145399\n",
            "f1 score: 0.7700156168662156\n"
          ]
        },
        {
          "output_type": "display_data",
          "data": {
            "text/plain": [
              "<Figure size 800x600 with 1 Axes>"
            ],
            "image/png": "[encoded data removed]"
          },
          "metadata": {}
        }
      ]
    },
    {
      "cell_type": "markdown",
      "metadata": {
        "id": "E7hZMqMw7OaQ"
      },
      "source": [
        "### **SVM - Support Vector Machines**"
      ]
    },
    {
      "cell_type": "markdown",
      "metadata": {
        "id": "KlXkOp-m-1Ex"
      },
      "source": [
        "Las Máquinas de Soporte Vectorial, conocidas como SVM (por sus siglas en inglés, Support Vector Machines), constituyen una técnica de aprendizaje automático supervisado. A pesar de su concepción inicial para abordar tareas de clasificación binaria, actualmente se utilizan con éxito en la resolución de desafíos más sofisticados, tales como problemas de regresión, agrupamiento y clasificación multiclase."
      ]
    },
    {
      "cell_type": "markdown",
      "metadata": {
        "id": "kCcb_LiuT160"
      },
      "source": [
        "Los SVM se pueden clasificar como clasificadores lineales, ya que buscan establecer un hiperplano o un conjunto de hiperplanos en el espacio original o en un espacio de características transformado, según la linealidad o no de los datos. En el caso de datos linealmente separables, se encuentra un hiperplano en el espacio original que divide las clases. Cuando los datos no son linealmente separables, se aplica una transformación de kernel para llevar los datos a un espacio de características aumentado, donde se busca una separación lineal."
      ]
    },
    {
      "cell_type": "markdown",
      "metadata": {
        "id": "zpdHYucgUIxH"
      },
      "source": [
        "Los **kernels** en una SVM son funciones matemáticas que se utilizan para transformar el espacio de características original de los datos en un espacio de características de mayor dimensionalidad. Esta transformación es fundamental en las SVM, ya que permite que los datos sean más fácilmente separables en el espacio de características transformado, lo que puede hacer que el proceso de clasificación sea más efectivo."
      ]
    },
    {
      "cell_type": "markdown",
      "metadata": {
        "id": "ooKriO6sY9qC"
      },
      "source": [
        "#### **Entrenamiento**"
      ]
    },
    {
      "cell_type": "markdown",
      "metadata": {
        "id": "zWCCx8x7DG_u"
      },
      "source": [
        "**Datos**"
      ]
    },
    {
      "cell_type": "markdown",
      "metadata": {
        "id": "HBlGMAf3hI6T"
      },
      "source": [
        "Antes de construir el clasificador SVM y variar los parametros y kernels, hicimos un mini-entrenamientos para ver que tanto varia en su prediccion este clasificador, si los datos con lo cuales entrena, estan escalados, normalizados o sin ningun tipo de pre-procesamiento.\n"
      ]
    },
    {
      "cell_type": "markdown",
      "metadata": {
        "id": "FT8PA8ghiG7j"
      },
      "source": [
        "![image.png](data:image/png;base64,iVBORw0KGgoAAAANSUhEUgAAAWcAAACGCAIAAACOtdxJAAAgAElEQVR4Ae2dd18TS9j38xbyGngBz/N57tzn2I5igdixR+xIjWChqEhHQQ0gRTwQFaQoAtJLaCIgoTdBqkAApUPogfTM89kMLMuGEko4BGb/gJ3ZmWuu+U3mmymbXQpAB1IAKYAUWI0ClNUkRmmRAkgBpABA1EAfAqQAUmB1CmDUmEIHUgApgBRQW4FZaqwONSg1UmAdCkxNTa0jN8r63yuAqPHft8FO8wBRQ9tbHFFD21tQ+/xH1NC+NlvoMaLGQj1QSPMKIGpoXmPNloCooVl9kXVVBRA1VDXRrhhEDe1qr+3gLaKGtrciooa2t6D2+Y+ooX1tttBjRI2FeqCQ5hVA1NC8xpotAVFDs/oi66oKIGqoaqJdMYga2tVe28FbRA1tb0VEDW1vQe3zH1FD+9psoceIGgv1QCHNK4CooXmNNVsCooZm9UXWVRVA1FDVhBwjHqkuqxgSyMjxqmG5sKGsqHNkWvWK5mK2KDWYTCaFQqHT6RtVcx0dHQqFwmKxNsrgUnZgQRvo+VIFaW88osYKbSefTmN7sMLzZtSABgDyn5kh9s5BXROKFcxu3GW1qBEdHU2j0SjKg0ajRUdHb5wDS1qi0Wgb2Pf4fP4y1ODxeEwmk0qlUigUKpXKZDJ5PN6Snq10QUdHZwM9X6k07buOqLF8mzVlvja9790nXD4V8aqEE/DogW/yDDFOk+crUyM6OppKpXK5XAAAj8cjduba2loKhQIvbbiTdOWxgWaXoYaOjg6TyeTz+QAANpu9zkptuOcbKMJWMIWosVwrTDY5mt549211X1ozfeV3L15PaxpZzvLGXVuZGqQ+UFtbi3+RRkdHr7ODLVMRUrnLpFTz0lLU4HK5pFowGIz1oHDDPVezgtqSDFFjmZZq4vx77bpt02qXKRSTEW43zL3S5cuY3rhLalGDRqOplujg4ACH9HDmQqFgpgAAXC6XwWDASDqdDr/AAQD4ygKHw8En//hVAACfz8dt0mg00jifz+ezWCyYkUql4rMkfAWEx+PR6XTiagiPx8M9gSeLrmtAanA4HNU6whgWi4XXFCcmcVKjo6NTW1uLZydRg1gvoiDLeI6b2pYn66KGcKwsOzEiIqr818AUn5cW+zEhq2hkFYN5NRRViGu56ZFRn2PjMrqGhsrzUsI/hMVnc0eEQDTUkZ0cGxYRmVvWJCJYGun6kfg5MuJTTHHD77l+qxho/5EcExUREZGUyR2ehtGyxoKUj5+iPiVnd/QO1uSnRUSExaV/H55fwJj+/Pz2Vacvc0ZgGfKBX1WxnyJCP0Sk5VePjvO56bHhkZ+5DT3EZFUx3tevP+ZtrBSEOhJPV6YGi8WiUCj4AJ6YGV4ifi2z2WwdHR24KACvstlsmAWuLNBoNBjD4XBIX/50Op1Go8G8sCfjXRQAQKVSYZ/n8Xg6OjpUKhX3hKY84AAB77F8Ph+uUEAwQWcWpQZMic/CcLPwhMlk4l7Bfg4AIE7NoKsMBgPPiPsAY/B68fl80qVFPcftbNeTNVNDPvk7zM87Ib+2gRtnfuGSxaOn8QmfmOdP+ab+2FCt5KM9re/cjXft1rNweJlT2cyrybY0PHvnsZP364+1rZ0Vyf+eP32BndkEC61NfWticjeeW99cxrE2vuaXUAkAGKpNv3WS/sg/idfRGOZx74aVZ8MA1qHHeprfuZrtPXjI1O5FXlVze3XOXcbxe15zSxIzQ17mh2wiygnVEZfEvzY1tQ1P4nz2fUTXp19kGNq4eXs5WOiftij5LcBT9hWHM65d/dYhwWM0d7IyNQAADg4OcJmQxWIRRweq1CA5SuICpA+ehkql4lyA/ZD4hU/qYHguAAAsF4+h0+lUKpXoGL48QYwkOYNnhxTAhz9ECKp6RcyFn5NcJQZJFiAr8YHJop7jZrfryZqpUZ0S9Cq6GAAgHK5h6u2xDi3rKYkyNLwRW9YFtRr4kfEm+OOAeAOU+8nx27XvoH9qo9KW5IvTjd0HruW0TWDBiSbLK0dNPT9NAyDuyr9x9LB7bBUssuSj2wmGVd0omGz+yrxynZ35EwAg6yswPKLrElUC0zQm+dL36b1KrlMGBeGeJnTD+7+UD0UUjzVYH9/vlT7LI6yo1tz7xhZZzaMAgIHi0FNH9hw6bZJTmmd5/h/a3pMpDfMLGVONKecvX/lSNQRL0ehftagB5x1w/I9/8eK9l9jNSL6SOiopSOxdJBAAAIhXSWZJiRdNqRpJKp1kE86A4EwEHx+RCiJlwYOksohBkgU44MLhSEyJW9v2J2ulhmJ8eHBCOZjvKX5/aO/J2Jo+rE/K5fiWY1/N94RkrgAPz0nZ11L26VNU9GLH56iohLScYeJ8Q5nrZ6rvvoP6qU3wEafiL67XdBkunZPKvdDxZqurR42fhgkBqI5yO7RX74kX+0tcbMyXhLeeVgeOG6bVDittKEZ6Wgty0mMjfC8e2X83KBu605DA0tNnJNcMYkGFIMLTlG7IbBrDQqKRH1a6+wNzfsGUGB+nRgcGMGQAIM9/63Jkz9/n7r8bG++JjwwOSeROEAYWwtasSxcuh3//jefV3Im61IAecLlc4gABdgkSNbhcLhzVw6UN4qSA1G+JfYbUu1Spwefz2Ww2/HKGlnFRiHaWiSSVjqcknvD5fDgNgZVS9QpPzOPxHBwcIEmJiykkz6EFfOmHpMminuNFbNeTtVJjXo88fyvdiw+bhrFOI5fLZUpuTPS2/2zuEMtUmAGAYLSvqampebGjqanpF69rfmFhrpCfqb57D+qnNsxRw+WaLsOZR6TGs3ARAHkBDw/87+mgxMI2Xmtzc/Ov1vbfPYMzUoVo+FfQUxsre4/47OL6suRbdF0SNRIJ1Dh65Q6khni03lr/QEDmPDUAkPR2ttQ2d8umev3sLu/6e599eOGsj3IZrDgMCn9lXLx4+WNRz1wNNPh/ddTAZyvQI1VqODg44OsaAABSRyUFiX1GtX8Sr/J4PHxdAx/j4KoQUy4TSSodT0k6Id7ZoeoVTAwnGjguSQ4Qg0tZgHaIKUlubOPgWqkhrUh95+n7ZWS667nJuevO78fkACgm06JDf/SJpf214R+CnazNvZIbNkS6n2l++w7qpzXOUiPO9ZruZZdZaky0WF09ZvIsbAaAvqIPR/856J+OFyr/3VzXOzQU6cjQO21dw8e4JhurNj1+yJadXlNY0jIy05Lio0efG2sAQYSnGUaNccxrhaDn2Y0DLrE1eBX4jVnGx/fsPmlTUPrVymDfrkNXkqsxLswM1L9ycC/vmV/XGK3+fM7wckq90hCeXzMnK1ODQqEQVwfgNgd0RnXPktgzid0PpideJX0nw01cfMIPACDeGELqe3CdBRdk0b4H79rC06g6g19isVgODg54EKYkLtkSvYLJSCUSXSXVi7SQgZeyqB3S1e0aXCM15D1PLx67YPkqP+sTg77HzCNKIFdUp/7r4vdlAoD+usrqmkqvuzdCuH82QjdFSZTbX3t1P5X2Y9ZkYx/sLu4xsPk5gO2IyvurTS8cNHQI4mPzGkGCz32DK9bZNZ1isbT7R8az52+6RsYjn1w8dNKqpHcGAFFlYtDpI3vMn4cGP2NltQxUf366/5/Tkd87MMsiPtvpiu55k6o+5X6IdOLtk/O3vDPwKnRxPxn8s8v8aXD4K/uDe3bv1rv8Kb++q7mU9dCI+fzzGGGG0pIWeOWqWTV2y5HGD7WogW+gwBkK3sfgUh8MwvspqVQqg8HgKw847sA3F2BvZDKZeJ10dHTwPV24kQE3JuE0AW6+wsTEO6+4XC6cF+CdmUajEbdUYBZINOgb3JSFt3LhpeMncGMVDhxg0VQqFb83FDoJgxwOBxpkMBj4kIrNZpMcINYLbjnji0G1tbUMBgM3TsqIu7S9T9ZIDSD/kRHu6uoeGBpXWVkU5PXshZfP+9is/qnZ/ce+8vDLt926JheZoaxOT4WwmPPR3dXZ3uGJu8eLdG5FWqifm4ujvaPTM9/w8rLCN/4sJ6cnji4ugR9isI0R8VRl1md3NzeWl09wROKvPmx4MsPviA5iObp6vGaHfiupL88Mt7NzCE/Pz0sI83RzevLEwdnDNyOv9MvHIFcXxydOTi98/Gt6sE2Wwgj3a8Ys5ZqH0mvpaGak72P7Jx6vI6prKtgvHGwfOzg6O4WmFk0uWIsRpwfa3bJ+P7m6qq4x9crUgKsJcEKuo6NDXKfAJyw6OjpwhQ/eSEqhUBgMBrwfjEKhwO9tuEmBB/E7KXCO1NbWwjQ0Gg1Hg46ODryVA5ICOgCJAEkBlyEoFApMSZSB6AyPx4NVwIvDU9bW1jKZTNw96DnxKiyauI9LdJXD4cChEOTjovXCI4nGl/EcL31bnqyVGsuLIYxytnANza4qzf2zfnAsX5Qmr8605ZrcMspsWeXd4YLup6bn/HPaNOnavO2VqTGfFp0hBTZCAc1Qgx/keNfu+euYlKLV3le5EXXaQBviFB87az/OgpHESubbc4Ju3vXqmV73OGulguB1RA31dEKpNk4BzVADCIa76uqbxsXSjfP0v7Ek4be8fHQvvlzd3RBhX43rQ9vM+k1Z0lBKgqjx33wydnKpGqLGdpJ06nd1YODbZr4a96vJxlNCfBO4yrXVzZIAUWOzlEblzCmAqDGnxHL/xcIpoYT4Q5PFEyvk0mmBOk/vWTz72mIRNdamG8q1dgUQNdau3dbIiaixNdphJ3mxBmoo0LFKBTT6gULU0Ki8yPgiCqyBGo8fPz516tQ5dKihwJkzZ4yMjKRSDa4KI2os8rFGURpVYA3UqKurKywsLEKHGgpwudzy8nKFQoO7sIgaGu0gyPgiCqyBGotYQVH/nQKIGv+d9ju15B1GDfHv5vo/I+rctCXv+VXP61M+wmNrfzYQNbZ2+2xH77Y+NSY7S98Fsl4+fxmRUEn4gdhaGqMl/6ODJ7tjXK2XFPwuT3r0iFW3mseTr8WndedB1Fi3hMjAKhXYGtSQd9XXtfQu8cUul3TXpN+g7zN3SlRnkLCUAIL27zbm1vkd8Of2S6VaEF/5hcV0DhpWCzILMm5mAFFjM9VGZWEKbA1qSNICvCMLO5dskskOF5PTd1yT104NueDTMxObf2cf4bVkQaQL0+3uFkbs3BZS9JYKImpsqebYEc5sCWrIx4Nt7saVdi+p+ESH0+1T66HGZNf3W8cZma3w+X1LlqN6oSjE9qztm9F1To1U7W5cDKLGxmmJLKmnwGZTQz7TUs1N43Aycr4VlZW2DwsBULR9Dz9/+IxbQHhySlJ+Pc4ORX97VXpyUnJmQWtTjbOpAZEakvHeouy0hKTU8qbfMuxJPV05GWlZ375lZ6RmchulQNyQ/zU1JTkhPqO5B3ugVn2Cq57xs+6FT7wQDLblZiYnJibnlTVMimaay78lJqVWNfcQt0n7a2PPHDEt7d+6v91F1FDvk45SbZwCm0oN6Vjc6yeeoemNrW0/uSl3TK9/KB1o/x5ma3pZd7++a3B8eUVFfZdyOCCZyg17ZmT56EtOaWNdddQb19NHDt9/mgJnKAN1OXZmpq9jcmpKspysjF584kpE4z+LUq2vHT9gcDO+FHuAWE3Kv8d0j7iz03pGxAAoEl1v3XR+S1wG7SiOuX/vns/7Tx98HU7Tj183um1p5+7tbHnyssXXZuXjhpUiC3qqLE8cDi8b2DjJN9gSosYGC4rMrajAZlJD1F9neXaPV9rsMkFJUlCS8jG/wxWRdN1jIfnzz/Vty3t/7PCRkILZccdMd6Xl6b1W7qkYNabaXG6evP08Fn77N31lG5y8nNOB/SC1JNJF99jNvBaMO321iY9fREzM/uJs0Nf0yj2vL/jTdcRDPx5cvRqahz04Z7gh2+jIrr90r8TlFTy9pvd//joZmtuO6yblt9pf2/80uRmP2WoniBpbrUW2vz+bSQ0gHvn03Fz34BFDUytWYGhe+ew70wbLI+i6x97l4tQQf3a7rHvMpHJu90I6+NP20l5Lt1QpAD3c8DO6unfdgjNysjOzchLeexzV1wvMxF7FKu0rvkXXfRCUBwBI8XcKy5/7xbqs2+O2oZ1/Ov5bd6lgqKW1R6TcHKnP8D+y++/j5k9begaT2c+838b8mZqfoyjGeM639z+InH3Hyhb8QCBqbMFG2eYubSo1gGKK31Oc+eWFs91NxqmDx699KsR6+xCkxjeMGuNjE3LF5Nv7pw+dYFaPzO55SgZ+2mDUSJNjKxR+R//3sKPfl8ramoqKiorK6rrGX4PjcBghivW4pXfJseFXmYeTdyv+zHBFH8v4qq3f7ARH2aIKwWhv558+qVwS9/T637v233seM5dcoQDz1JCP8Rxv7beNmn9S+Vb7QCBqbLUW2f7+bCY1ZvrrAvxCB+HUQjL27tFFY+UbCYbLwvUOHAvJbweyriDP4N9iUBBivf/IxdzO2a0L6cBPm4v7rNzSpABM1KdeOnLA8UMefhfFZF975+DsXRi/y6IvHte7bmzsF0d80+JU2L3rdzwj5rgARP011gy9vaduZddU2Bue2HPw2OsM5YvjhX9C/APzm+GLl7DWFw022F7az4JXt+THAVFjSzbLtnZqM6kh+FNqfuKwH6cBW21QTIW5mj6LLMLeadb+9cKhg0/jqkXdxS7PwkYAEHRXWl8+cdc3BXvmuWKmJP71qX27jB9HKN+JKMoKfnL8vFl6RYdMAWb6f/p7ehZ3ze1xzHR6mp7+W9+07M+Cu7nyAizO2vnjb3Uba0o+vmf3NTufuPCXR3V37dalv/3aOtbfEun54LaNN49wu9lox7ebh0/F1c+/jXGrfRwQNbZai2x/fzaTGtO9P3w9n75/FxTg5+/n5fX6I6dvdgVBXJHEtrZ7/NIvKK8Re/Mj9ij8jtp3Xu7PnnsHvv3wJSrCwcrw2m2m178ZEwAoJIKqzE/Ojo6eL7wCgj58/4lv1mIZq74EuAUnkR6N3l30Tv+8bSOODelYVsgLa1sbe7dXmXl5r5/aMK1sHj9+5M2O7xpb8Kv2jrxAOsOxfQIf2UDvttBfRI0t1Bg7xJXNpMaspAqFRCwWS6Skn48r5DKJjNQ55VKJMqUyp0Ihl0rm3wGpUMglYrFUtvKD+bBXL423OVw587ZowVudiG9ZlMtlUrmqKWmcm4mVP3FBZMt9LhA1tlyTbHuH/gNq/Deayss/e5g/eTs6v9C5sh8z7d/vmNzLa8PXQ1bOsvkpEDU2X/OdXuKOoQYAor737vfZ82+BXanppaMRzx68TqheKd1/fB1R4z9ugB1Y/A6iBgDCkV/BXqyidnVe2iyrTn7vF5m72U8cX/1HEFFj9ZqhHOtTYEdRAwAgnhwZFajz01nZxAhfOL+Ksj6VNZkbUUOT6iLbiymw06ixmAbaHYeood3tp43eI2poY6sRfUbUIKqBzjdDAUSNzVBZk2UgamhSXWR7MQUQNRZTRZviEDW0qbW2h6+IGtrejoga2t6C2uc/oob2tdlCjxE1FuqBQppXAFFD8xprtgREDc3qi6yrKoCooaqJdsUgamhXe20HbxE1tL0VETW0vQW1z39EDe1rs4UeI2os1AOFNK8AoobmNdZsCYgamtUXWVdVAFFDVRPtipmlxhQ6kAJIAaSAegqgsYZ2UX47eIvGGtreioga2t6C2uc/oob2tdlCjxE1FuqBQppXAFFD8xprtgREDc3qi6yrKoCooaqJdsUgamhXe20HbxE1tL0VETW0vQW1z39EDe1rs4UeI2os1AOFNK8AoobmNdZsCYgamtUXWVdVAFFDVRPtikHU0K722g7eImpoeysiamh7C2qf/4ga2tdmCz1G1FioBwppXgFEDc1rrNkSEDU0qy+yrqoAooaqJuQYhYQ/xJfJV3hDrGhydHRSSM6r+TCihuY1RiUsVABRY6EeqiFpUeLbwM/fhaovnF+YdpRX4unm0zI0szBa4yFEjbVIXFtbS6VSKRQKi8VaS/6dnWcnUkMmiPWyNnMM7F+RBAB0VyfaPPLpV28MUc95b/csdEK6qR+plamho6NDUR7R0dEk1xwcHEiXuFwuhULhcrmklIsGmUwmzM5kMkkJOBzOUpdIKVcVjI6OptFo0DKNRlOtkfrWeDweoob6chFT7kRqSCY+uJlefeDRObHS+EE65GNrHvqtlajYcueSwZd3zaOLu5ZLs9HXVqYGn8+nUChUKpVOpxNL5/P58PvWwcEBj18VNQAANBqNqjz4fD5uBABAp9MpFAqNRiNGrvM8OjqaSqVCovF4PBqNRqrRau0jaqxWMZh+J1JDbaX6a1KMb937NaV2BgDKo1xvOIeJV5FjvUlXpgYAgEKhwHEBj8fDC4yOjmYwGOvsOXQ6HVomfu3zeDwIqXX2atxVeEJXHnhkbW3tOu2vs+64JzvtZPOpIR7rLcjmfK9skshEP0vzvpX8EEg2RvXRPw1ZOTn5+ZXD46P1ZfnpnKy6jgEAQFdDZUZ6WmFVi1i5oDnY9uNrTnZuSdWYWDHc/iMnO/tb2Y+R0ZHqom9pGdnNv+e/MvPCnW/Yhy/wTiFsqChMT08vKK2bFM40VxZkZOd1DU/jFeivTTe6eKdpHI/Q+Im61IBTBuKwQkdHB44s8Lk9PtuH3+fEIIvFUh2YwDEFi8WiKQ+8rkwmk8VikTo5AIDL5UJOUSgUOp0OhyfR0dFwxkGlUgEAeKGqsx46nb7M4IXP5+MzJiqVitd00UKhqyRq8Hg83D08OwAATvFYLBaXy8XP8cruwJNNpsZUd3XQ63cFxdwAxwdmVg/fRYQ/NDL8N61mQ5QXDHV8evXw4L6j9918ckurc6J9DRlGPgFvotMKKguTzS6d942vUgAw0dsa6mm1+7RRdb9ksr/13VOrfXr0xx5viiqqU9+5nze8W9EFO70s3JlhE1KA+yaZ7g95/sT+ecDnUN+LBievGhnfc3Bzsrpl9MCnTzSbStj7w/KGQVrDJJ5L0yfqUgN2HtgzYQfW0dGBwxCcGgAACBd8XQMG6XQ6jIHrIPhVnBpsNptCodTW1gIA4MSHx+ORqMFms3V0dOBgh8ViUSgUNpsN1YHgwN2A4xdV4WAuJpNJmg3BQmk0GrzE5/PxycsyhZLqDt2GFuBYCfcHTvEYDAaTyeRwODo6OvglVSd3QsymUkM+kxDsnVaLff+ns+6eMH3e2lBkcf1iRP4vpdTibzHhuXXd65F95EfC0cMHfBOxTy8Qtj84eui6U6hyKVP2wfmK4d1A2Jt/5384dsmkqhebSXQVhB37Rz80T7l4MVR98fiRNxkNWHbF8Iubp1kJ1bg/lfEvrZyDx+UACNosr9L36F1MzM6xMNh34IJF08hsKvlo6z2TiyEFm7e0sQpqQARwOBwAAIPBgHMK0vctaV0DBvHZR21tLSk9nU5nsViwX8HvZzabDYcJJGrgOsITkh0mk0mlUnk8HofDYTAYpMR4EGKLSqXCQvF4iC1VmuAJ4AmpUGKQZMHBwQEnLOTLOmdDJE+0Ori51JAM9g9I5ABIBt0tzlv7JksVcpFYMncjhPhbYnxlx+hCPWWNpekxsV/iVY7Y2NhcbpNsYeqBypjjemfS64cBALKpVusTRx9+LMWSKIQfXG8a3n01pkzPy32PU6M9992x49cK2yewVP1VjFOH/FJ+YKnkfW4XTgWk1+EljPX3jIswZ4d/Zl7W+/vUzWd/hrtj3v8bk1M9v6w60WltfDkwvQnPpemTVVADDrYZDAb8LoV9jNhz4BiEuIdCggjp+xkfawAAYLeHRcDByKqoAQcIcIywfOfncrn4Uiu+TLN8WXgbkCpLDJIsQMLinhBT4tZ27MmmUmNO5ZnuSuMzx95+hQtzCuUNVLLfzXXtvSRkYB2Z39ve1NzconI0Nzd3dvPniDNrGlIj7ecgTg27yGLs2iw1fJegxtWCNmxWoqTGYf9U5VBFMeR55bQfPFeal4sm6qtrugcnSxN99v/9l4lX3CyzFHIZjo1x3gPjS/9mwtHTXIU1+X911ICDfAaDgc/bSf2BhAlScBlqwJQMBgNfeiD1Q4gkJpOJb52SxvnQAu7Y8qJxuVzirpBqWXh2Lpe7VKHEukMSwRUW/C8+FyOmxC3v2JPNpIZCNBIT6PE+qaK1OOLkscslfVIA5Lnx4dXdgj81OeFsbwtb51+jpNHD6lpmqDr2uN7Z9AZsrCGfbrM5cdTuY4nShCjM7abhXT+4YtGZF3KMYVLdhy10dnx7f+z41e88bKwBBqoZpw4HpMHxhZBte87poxI6ShOFka67aXs8w7JC3W/99bfe+yxsQDHakuf50r9v7t4u6WCDpdHpT2X9q/N7HalXRw14kwKFQsG/pUn9gYQJUnAZauCrhvh0htSTHRwc8HUNVTtwE1d13WQZZWBimIBUFp5r+UKJdV/KAjRFTIkb37Enm0kN4dAPEz39p+/ig9yZRw1uFHeMNX+P9gj4PC6Vd/xsrPwa9eCh1+A6Ni3lUuHPjMBD/xwK+9YoFktGO0uND+syA1KnhGLheK+v9fnTRi4do9Ni4UxZtJfuscs5jYNi0UxZDEt3v0F8aadYIh5uzD6tt8c1/NuMGLtVK9nvzu0XCfhnI+vN/QMnrgWHBBkZHNu7T/9lREYlN+uxpbFfbAmOutG2ArOLhkU9m3en1+qoAVc0iAsHpP5AwgQpqNrb4boG1IjNZhPXAkj9kFgQXAchjjWYTCbEDYPBoFKp+NQAVx8WTYwnLj0Qz0lZ8FJUCyW6tJQFaI2Ykmh/Z55vJjUUciE3JeKV/5uv5Y2VX+N8X/mFxWUMTs12sKRXDzw+V6ynFfobvwf4+/j6vfLzZxeUl8UGvfH18/X184/JKclNCvPx9X3l+yo8Jq3ka4Y/i+Xt4/0mLCo/JyPYH7vy6k14SWlxyFssi5/fq4zSZgBAU857I9Nnw3NIEI7wIoJ9Xvq+Ka5tLUyJ9PDw8PIOyCj7NXcd8701790V05d8fCCq6Y4AAA3YSURBVMKynvqol3dlasDeAhdBSTaJq5jwEpzP4+MFUhAOVYiTCBqNRgwS7ZO2Y6lUKoPB4CsPOATA4QX3bmFe6BK+L0s0CO86geCAMxS8aOgYvofCZrNhFZYplFQXogW4l4S7B13Cg0SXdub5ZlJjGYXlYw3WTJvU3IKS6lbSUsUyuTR9STrcaG1h+vWXcvKiVmGSKA9Lzxg4J1Irw/oTrUwNeIsBlUqFO6PEIkk3m+P3SsBtVFIQAABv2aBQKLBP4vdH4JTBjeOX8Nsu4J2dFAqFwWDAG7Tg5ivcvFC1qdpL2Ww2vvqguv0J90QpFArx0lKFqtYFkgKuuVCpVOL+Lq4SXhe8mjvzZItQQzbW+szhgdfbmPZhwVZqCAU34sXj1ynE0cQy7k12FDx44Nwyuo5Z1jLWl7i0MjWWyIiikQJrVGCLUAMAIJ6emBDM3Sy1xtpoIJug/+1zh8Ty3yuals8MvX/hGFPUvmLKjU2AqLGxeiJrKyuwdaixsq//UQrRcFtccuaYcIWZU+/PvNS8us1bBZ1TA1FjTgn0f7MUQNTYLKU1VQ6ihqaURXaXUgBRYylltCUeUUNbWmr7+LlaavB4PC6XW4IOjSnA5XLxO7DU+ZwhaqijEkqzkQqslhrv3r0zMDBgoENjChgYGISEhKjfxoga6muFUm6MAqulxsaUiqxsnAKIGhunJbKkngJblhqKlZ4JDoAaSdQTQXOp1HFRvnJNl3MQUWM5ddA1TSiwFakhE2REheQ1rPgDMNG36JC04vkn2mlCn7XblEykRrwvbR1ayYKiOiMqilO9wr7u0lYQNZbWBl3RjAJbjxrysvhApzeJ02rc+TDVV+ts96SIp/r7eo2INT3Y8uHNm6KWFUGA/eC28DPL822GOs82F090+Tg8UudGskVrhaixqCwoUoMKbDVqzPRWWJner+5X9ybRulRfS7ew6U35tVhnUeTe//u/LiF5K5Ym6Ph+x+Jh/ZC6t5b3lkebWb/sU+NNC6ofBUQNVU1QjGYV2GLUkH8LdrzPil7wgN9lBZCMtNjevpK+KY/3VUimf7fx+BMrDiCkKa+f2Pkkq/nrFax+Uv4LS8OQ753L1nXxi4gai+uCYjWnwJqoIR8b6usfHBqdEgGpsK/nT9/giLKHKPgDPd09/dP4M/0AkImm+rp//+npF87NOKZGB/509w4ODg6MjItmBPyhweGhwd7+YezJgMJepzs32VkL3z+ikAz19/b2DUyJZABIB/t6h0YJ7xpQTLNdmE5v89e8LgAAVp0BvDrdf/qGZqszPNDT3TtXHbkEc3lsfGpaBIBibHBgYHBwbEqokAr7ujEFpHMeyKa6XUzPfuD2LGg1uWiwv6e3f1AglgOFeLCvZ3iM+Ds9BSfY3tw1Rt3BCcE0ogZBDHS6KQqsiRqSirQwi6vnzlraR0V+jo0Ot7cyff42MTs9Niom2tv5/h0n/9/jGCRG/1Q/tbv34s2H934eT54FNHRjPzn/VZ7xwvkB/YCupX/KSFeV2QW6IfNh8OfscQmY+VPJvHY2p23+y1w8wnvPcnvi4mptdsPkgbMvy/3RQ2sTM+uMmt45eRT5bLc7TwKn5jrtXLz6/yUVqR/Mr547a/UEq87n8MdWpi/eJWWnxUbFfPZyumfpHPBnQgbEoymfXl81OO74L0cB5FVJERbXzhkyH4ZFxMR8DnvENH4amjWjZOdEV8Gt47eLe+dfdzAz+Ovfl45PXFzvmV43t3N/9cLtoa2tGfNeduP8Ekkj562xyRPl08XU9xxLiaixOr1Q6vUrsCZqYMUmPDc/oHcpuRrrvc2c17v2HfH69F0GwExXsSFdj/2tA3uqTebrPfuPpzbPACBi2xpedQidhn1b0PfyzvnbLmEDndWP7N2rZt8kAHp/pFw3uFE1NAsAhZgf7GDq+CZtSihpSPc9sOt/zpi7psa+oe/6yyYgaW7sAuoSvC5bOffPPYNvbZrEe5od0Gek1vRhbqf779qn5/O5UA7AdGfRZbreu3zlM8flI24Wl2z9UpRFy+Ke3tU9fDG5CnuoenOq16GjxjWDmBO9pZHHz9o0j82OGxTiIT/b225hXwUiaWWs18G//ueS5fPUj/6Hdu9+FPgVZ11PafSVW6b1c3VXvxaIGuprhVJujAJrpkYKy+LEDY8h5bdre36o7tHTeTxsjDDTW216St87AXv0pnRmnNfWPsTnd3bwPj03On7OsXtuxWLkV775OQNDE+vM+VED4HE/Xjp7t3lu/iET8guzc4eVvS83+Mne3ftc3uZUZAUb3rBIrph/dUDH14ATJg87xvEOiCmjkAr/tDcv9pTilqbmXwOj8wMBqGPSC/OTN58PK9c52/JCdI+eLujAVmRneqqMT+m/SvqJJZOOPLW6glMj+eldfaNnQ8p1W17eW309RkEH9uKE1uzXx687/p6cXdaQT/d9zeaOYxWXJr9+vPfvPa6fi8rj/a7fskgn1H20LunC9Zslv9VdBsabH1EDlwKdbJICa6WGIvml+QmTl0NKCrTlhRw6ZlDYiVFjuqfK5JS+TyLWzRQzwxkxwc9Z3uHR8c9tLp264Nw7v/2giPe+s1//VkX3fAfuKIq6fNaqaeEbiIQiiUIy7HXvyu79+mHcP6q68HICjt225Y3Nm8YeUC4cKUiPi41TeSFCXFxMXGJ1+/zUQGlQkfjc7KQpa1g5imjNfX/omAG3E+vA092Vt0/p+ybXY8mkfAI1pEnuVvpmnkPK6VT7N7a+/uXvnUpq5Lw5fs2ha44aSvsykVgiFw6+tDz1975TidXYiIZ0jNYlnbt2o7hrfnZGSrBUEFFjKWVQvKYUWCs1QArL/ITxS9jN2vNDldRQdrPeaowaSQ0ACKJe3jl1y76+D+tL3FCrk+edG3u6/gxhY4mRX4UvPJ45Mq/csGcrv4exCvb/TL9lcL16eHbUIBcNv3cxO3nlUXFloeX5fw6dvlOrpFRrUUZmcRM+tKhP9r5o6URYRliLVkkvzE6asPjK8UHbNwyC3C5skDPdU4VRI0X5XiUZHGukKtkiTXa30jd9PoyPNfQvF3ZhVeuvjD5xzq51rlZyYf9r+9tnTB+XVRUY0/85eNmumY8ZqOdmZJXNP8Knrzzm8i3T2kG8WurWAlFDXaVQuo1SYK3UUMQ/M6ZffzqoHGu05rL3652YnaH0VN48eoiV0ADA8JObR88/fo91PuHwm4eGJy46xH0OjMptGe1r9HhomVY3Nt1VeOWE/svoIvgG1unf5RbXzmb9mh19CIfrzPV2XbDyiHn/Uvev/zly3Yk3MtlZnW15+3ZiBf5wLUVusLPpo4CFE5TVyqP44n776I1nQ0oe/MoJ3q93YnaG0l1+4+ghOOECUr6rxYX7PolKtsjiXCwO3XQfVA4O2r6+OXTofL5yhjLR+f3WiVvF3bNbJJLekkuH/7lq4x0V7PLPX//vlJlL5+hEW3mKxQ3jtDrsNXTwqE8Punnb/s+qhxpoNXROQfR/0xRYEzXEZcmhj+6a3za7+yokpbw457mL3U1jYzfvwKKy8ghfNzNjo3v2HpyS9p6GPDfbex4+byKjv2RnJNjfNXX3eRcVFujy0OLM2atfuF2jnWX3DS9eMb7nExhU3zcDxP1OVreCs2ZfQaSQzmRHvrS89+CJu098bOQDc2Obx/a29o7phK9ooBAEuzJdQ7ir/o6el1hcmhT6yMrsttk939DU8uIcT2fbm8Ym7j5visrKw1+5mhnfuu/wIjXre9wHPwvTm+b3HZO+VhYlR9nfNTcys/IOT6ngZr5wsTG6beLsGVjXPSEX9ruZGoRyZ189qZBOct56Wt2/7+jh9yX2w10zY9vH9o/s3XJq5pdmAFBwgh8zn8YrqTXvmTpnaKyhjkoozUYqsCZqKITTU9NCkUQsnJqaFmKBGYlEMi2YFAqFgimBWCKZmRZMC5XjEJl4cmJcoDyXSUQiiUwimp6eEYpEIrFEKpOKhUKRWCyampwUYzc8yHODHK19vhA7j3BagN2oAYBMIhJMTYmkC9cvRlsfGV3jtMB3qq1NGYVQQKqOcJHqTM8IpqaEIrFoZnp6RiScFsxABQTzCgimpsSYe9KU1/aP/FJnl0MxpxQz0wIJoRbKyhK8lY143bkawsU2nlZ7IGqsVjGUfr0KrIka6y10mfyC7tJ7Zja1ar9MqT7tX0vXMAGhgy5jfNMuTbYVMJn2zXCZRI1S+yvjzaxZfYK1DJgQNdQQGCXZUAW2GjUAkFck+j0NTJpWAwTC/sZn9k9KlWuQG6rK+o3JCj/5ebzLxG54XemQTfYGOD9MrV54L+lKufDriBq4FOhkkxTYetQAQDGd8TGIU7nScF0uyIoMSilby283NkNc+URyWNBXwh0ZSxQqLkv+8DHzx1qGGUqLiBpLCIuiNabAVqQG9kNzsfLnHstXWyaYmr/XY/mk/81VmViA/Whl+UM+PbWmmcmcVUSNOSXQ/81SYItSY7Oqvw3KQdTYBo2oZVVA1NCyBlNxF1FDRRIUoWEFEDU0LLDGzSNqaFxiVABJAUQNkiBaF0TU0Lom03qHETW0vQkRNbS9BbXPf0QN7WuzhR4jaizUA4U0rwCihuY11mwJiBqa1RdZV1UAUUNVE+2KQdTQrvbaDt4iamh7KyJqaHsLap//iBra12YLPZ6lxhQ6kAJIAaSAegqgscZCiqKQ5hVAYw3Na6zZEhA1NKsvsq6qAKKGqibaFfP/AZkVNRP3sJBVAAAAAElFTkSuQmCC)"
      ]
    },
    {
      "cell_type": "markdown",
      "metadata": {
        "id": "twh_iSwAAsHn"
      },
      "source": [
        "Obtuvimos una mejor metrica de f1_score con los datos escalados con MinMaxScaler, por lo tanto, entrenaremos el clasificador con estos datos."
      ]
    },
    {
      "cell_type": "code",
      "execution_count": null,
      "metadata": {
        "id": "k622SP80ZXU3"
      },
      "outputs": [],
      "source": [
        "#Armo una version escalada con minmax (media=0 , var=1  )\n",
        "min_max_scaler = preprocessing.MinMaxScaler()\n",
        "x_train_minmax = min_max_scaler.fit_transform(x_train)\n",
        "x_test_minmax  = min_max_scaler.transform(x_test)"
      ]
    },
    {
      "cell_type": "markdown",
      "metadata": {
        "id": "S17T02c3jGEw"
      },
      "source": [
        "**Kernels**"
      ]
    },
    {
      "cell_type": "markdown",
      "metadata": {
        "id": "yAHdkvSAjl7D"
      },
      "source": [
        "Para el entrenamiento con los kernels, usamos 3 tipos de kernels:\n",
        "\n",
        "*   **Lineal**\n",
        "\n",
        "*   **Polinomico**\n",
        "\n",
        "*   **Radial**\n",
        "\n",
        "En cada uno de estos entrenamientos, definimos el siguiente hiperparametro:\n",
        "\n",
        "\n",
        "*   **C** : Parámetro de regularización, debe ser estrictamente positiva. Evita el overfitting. Mientras mas grande sea este valor, menor regularizacion, y viceversa.\n",
        "\n",
        "Entre los 3 kernels, vimos que el que menos tardaba y mejor prediccion tenia, era con el kerner **lineal**. Por lo cual, usaremos este kernel para hacer el entrenamiento y buscar los mejores hiperparametros.\n"
      ]
    },
    {
      "cell_type": "markdown",
      "metadata": {
        "id": "lyxG1fm44XHt"
      },
      "source": [
        "**Hiperparametros**"
      ]
    },
    {
      "cell_type": "markdown",
      "metadata": {
        "id": "rItTN5Ko4c11"
      },
      "source": [
        "Elegiremos el Random SearchCV para buscar algunos hiperparametros de interes:\n",
        "\n",
        "*   **loss**: Puede tomar uno de los valores: 'hinge' o 'squared_hinge'. 'Hinge' se utiliza para la pérdida hinge, que es la pérdida de máquina de vectores de soporte tradicional. 'squared_hinge' se utiliza para la pérdida de bisagra cuadrada, que es más suave que la pérdida hinge y puede ser útil en algunos casos. No se admite la combinación de penalización='l1' y pérdida='hinge'.\n",
        "\n",
        "*   **penalty**: Controla el tipo de regularización. Puede ser 'l1' para regularización L1 o 'l2' para regularización L2.\n",
        "\n",
        "*   **dual**: Este parámetro controla si se utiliza la formulación \"dual\" o \"primal\" para el problema de optimización. El valor predeterminado es True, lo que significa que se utiliza la formulación dual. Puedes establecerlo en False para utilizar la formulación primal, que es más eficiente cuando el número de características es grande.\n",
        "\n",
        "*   **multi_class**: Indica cómo manejar la clasificación multiclase. Puede ser 'ovr' (uno contra el resto) o 'crammer_singer' (una formulación más compleja para la clasificación multiclase). El valor predeterminado es 'ovr'.\n",
        "\n"
      ]
    },
    {
      "cell_type": "code",
      "execution_count": null,
      "metadata": {
        "colab": {
          "base_uri": "https://localhost:8080/"
        },
        "id": "2UQ2-fTN48Lc",
        "outputId": "40c01dcc-91cd-4d6d-d4c7-0aadd4f5fce9"
      },
      "outputs": [
        {
          "output_type": "stream",
          "name": "stderr",
          "text": [
            "/usr/local/lib/python3.10/dist-packages/sklearn/svm/_base.py:1244: ConvergenceWarning: Liblinear failed to converge, increase the number of iterations.\n",
            "  warnings.warn(\n",
            "/usr/local/lib/python3.10/dist-packages/sklearn/svm/_base.py:1244: ConvergenceWarning: Liblinear failed to converge, increase the number of iterations.\n",
            "  warnings.warn(\n",
            "/usr/local/lib/python3.10/dist-packages/sklearn/svm/_base.py:1244: ConvergenceWarning: Liblinear failed to converge, increase the number of iterations.\n",
            "  warnings.warn(\n",
            "/usr/local/lib/python3.10/dist-packages/sklearn/svm/_base.py:1244: ConvergenceWarning: Liblinear failed to converge, increase the number of iterations.\n",
            "  warnings.warn(\n",
            "/usr/local/lib/python3.10/dist-packages/sklearn/svm/_base.py:1244: ConvergenceWarning: Liblinear failed to converge, increase the number of iterations.\n",
            "  warnings.warn(\n",
            "/usr/local/lib/python3.10/dist-packages/sklearn/svm/_base.py:1244: ConvergenceWarning: Liblinear failed to converge, increase the number of iterations.\n",
            "  warnings.warn(\n",
            "/usr/local/lib/python3.10/dist-packages/sklearn/svm/_base.py:1244: ConvergenceWarning: Liblinear failed to converge, increase the number of iterations.\n",
            "  warnings.warn(\n",
            "/usr/local/lib/python3.10/dist-packages/sklearn/svm/_base.py:1244: ConvergenceWarning: Liblinear failed to converge, increase the number of iterations.\n",
            "  warnings.warn(\n",
            "/usr/local/lib/python3.10/dist-packages/sklearn/svm/_base.py:1244: ConvergenceWarning: Liblinear failed to converge, increase the number of iterations.\n",
            "  warnings.warn(\n",
            "/usr/local/lib/python3.10/dist-packages/sklearn/svm/_base.py:1244: ConvergenceWarning: Liblinear failed to converge, increase the number of iterations.\n",
            "  warnings.warn(\n",
            "/usr/local/lib/python3.10/dist-packages/sklearn/svm/_base.py:1244: ConvergenceWarning: Liblinear failed to converge, increase the number of iterations.\n",
            "  warnings.warn(\n",
            "/usr/local/lib/python3.10/dist-packages/sklearn/svm/_base.py:1244: ConvergenceWarning: Liblinear failed to converge, increase the number of iterations.\n",
            "  warnings.warn(\n",
            "/usr/local/lib/python3.10/dist-packages/sklearn/svm/_base.py:1244: ConvergenceWarning: Liblinear failed to converge, increase the number of iterations.\n",
            "  warnings.warn(\n",
            "/usr/local/lib/python3.10/dist-packages/sklearn/svm/_base.py:1244: ConvergenceWarning: Liblinear failed to converge, increase the number of iterations.\n",
            "  warnings.warn(\n",
            "/usr/local/lib/python3.10/dist-packages/sklearn/svm/_base.py:1244: ConvergenceWarning: Liblinear failed to converge, increase the number of iterations.\n",
            "  warnings.warn(\n",
            "/usr/local/lib/python3.10/dist-packages/sklearn/svm/_base.py:1244: ConvergenceWarning: Liblinear failed to converge, increase the number of iterations.\n",
            "  warnings.warn(\n",
            "/usr/local/lib/python3.10/dist-packages/sklearn/svm/_base.py:1244: ConvergenceWarning: Liblinear failed to converge, increase the number of iterations.\n",
            "  warnings.warn(\n",
            "/usr/local/lib/python3.10/dist-packages/sklearn/svm/_base.py:1244: ConvergenceWarning: Liblinear failed to converge, increase the number of iterations.\n",
            "  warnings.warn(\n",
            "/usr/local/lib/python3.10/dist-packages/sklearn/svm/_base.py:1244: ConvergenceWarning: Liblinear failed to converge, increase the number of iterations.\n",
            "  warnings.warn(\n",
            "/usr/local/lib/python3.10/dist-packages/sklearn/svm/_base.py:1244: ConvergenceWarning: Liblinear failed to converge, increase the number of iterations.\n",
            "  warnings.warn(\n",
            "/usr/local/lib/python3.10/dist-packages/sklearn/svm/_base.py:1244: ConvergenceWarning: Liblinear failed to converge, increase the number of iterations.\n",
            "  warnings.warn(\n",
            "/usr/local/lib/python3.10/dist-packages/sklearn/svm/_base.py:1244: ConvergenceWarning: Liblinear failed to converge, increase the number of iterations.\n",
            "  warnings.warn(\n",
            "/usr/local/lib/python3.10/dist-packages/sklearn/svm/_base.py:1244: ConvergenceWarning: Liblinear failed to converge, increase the number of iterations.\n",
            "  warnings.warn(\n",
            "/usr/local/lib/python3.10/dist-packages/sklearn/svm/_base.py:1244: ConvergenceWarning: Liblinear failed to converge, increase the number of iterations.\n",
            "  warnings.warn(\n",
            "/usr/local/lib/python3.10/dist-packages/sklearn/svm/_base.py:1244: ConvergenceWarning: Liblinear failed to converge, increase the number of iterations.\n",
            "  warnings.warn(\n",
            "/usr/local/lib/python3.10/dist-packages/sklearn/svm/_base.py:1244: ConvergenceWarning: Liblinear failed to converge, increase the number of iterations.\n",
            "  warnings.warn(\n",
            "/usr/local/lib/python3.10/dist-packages/sklearn/svm/_base.py:1244: ConvergenceWarning: Liblinear failed to converge, increase the number of iterations.\n",
            "  warnings.warn(\n",
            "/usr/local/lib/python3.10/dist-packages/sklearn/svm/_base.py:1244: ConvergenceWarning: Liblinear failed to converge, increase the number of iterations.\n",
            "  warnings.warn(\n",
            "/usr/local/lib/python3.10/dist-packages/sklearn/svm/_base.py:1244: ConvergenceWarning: Liblinear failed to converge, increase the number of iterations.\n",
            "  warnings.warn(\n",
            "/usr/local/lib/python3.10/dist-packages/sklearn/svm/_base.py:1244: ConvergenceWarning: Liblinear failed to converge, increase the number of iterations.\n",
            "  warnings.warn(\n",
            "/usr/local/lib/python3.10/dist-packages/sklearn/svm/_base.py:1244: ConvergenceWarning: Liblinear failed to converge, increase the number of iterations.\n",
            "  warnings.warn(\n",
            "/usr/local/lib/python3.10/dist-packages/sklearn/svm/_base.py:1244: ConvergenceWarning: Liblinear failed to converge, increase the number of iterations.\n",
            "  warnings.warn(\n",
            "/usr/local/lib/python3.10/dist-packages/sklearn/svm/_base.py:1244: ConvergenceWarning: Liblinear failed to converge, increase the number of iterations.\n",
            "  warnings.warn(\n",
            "/usr/local/lib/python3.10/dist-packages/sklearn/svm/_base.py:1244: ConvergenceWarning: Liblinear failed to converge, increase the number of iterations.\n",
            "  warnings.warn(\n",
            "/usr/local/lib/python3.10/dist-packages/sklearn/svm/_base.py:1244: ConvergenceWarning: Liblinear failed to converge, increase the number of iterations.\n",
            "  warnings.warn(\n",
            "/usr/local/lib/python3.10/dist-packages/sklearn/model_selection/_validation.py:378: FitFailedWarning: \n",
            "10 fits failed out of a total of 50.\n",
            "The score on these train-test partitions for these parameters will be set to nan.\n",
            "If these failures are not expected, you can try to debug them by setting error_score='raise'.\n",
            "\n",
            "Below are more details about the failures:\n",
            "--------------------------------------------------------------------------------\n",
            "5 fits failed with the following error:\n",
            "Traceback (most recent call last):\n",
            "  File \"/usr/local/lib/python3.10/dist-packages/sklearn/model_selection/_validation.py\", line 686, in _fit_and_score\n",
            "    estimator.fit(X_train, y_train, **fit_params)\n",
            "  File \"/usr/local/lib/python3.10/dist-packages/sklearn/svm/_classes.py\", line 274, in fit\n",
            "    self.coef_, self.intercept_, n_iter_ = _fit_liblinear(\n",
            "  File \"/usr/local/lib/python3.10/dist-packages/sklearn/svm/_base.py\", line 1223, in _fit_liblinear\n",
            "    solver_type = _get_liblinear_solver_type(multi_class, penalty, loss, dual)\n",
            "  File \"/usr/local/lib/python3.10/dist-packages/sklearn/svm/_base.py\", line 1062, in _get_liblinear_solver_type\n",
            "    raise ValueError(\n",
            "ValueError: Unsupported set of arguments: The combination of penalty='l1' and loss='squared_hinge' are not supported when dual=True, Parameters: penalty='l1', loss='squared_hinge', dual=True\n",
            "\n",
            "--------------------------------------------------------------------------------\n",
            "5 fits failed with the following error:\n",
            "Traceback (most recent call last):\n",
            "  File \"/usr/local/lib/python3.10/dist-packages/sklearn/model_selection/_validation.py\", line 686, in _fit_and_score\n",
            "    estimator.fit(X_train, y_train, **fit_params)\n",
            "  File \"/usr/local/lib/python3.10/dist-packages/sklearn/svm/_classes.py\", line 274, in fit\n",
            "    self.coef_, self.intercept_, n_iter_ = _fit_liblinear(\n",
            "  File \"/usr/local/lib/python3.10/dist-packages/sklearn/svm/_base.py\", line 1223, in _fit_liblinear\n",
            "    solver_type = _get_liblinear_solver_type(multi_class, penalty, loss, dual)\n",
            "  File \"/usr/local/lib/python3.10/dist-packages/sklearn/svm/_base.py\", line 1062, in _get_liblinear_solver_type\n",
            "    raise ValueError(\n",
            "ValueError: Unsupported set of arguments: The combination of penalty='l1' and loss='hinge' is not supported, Parameters: penalty='l1', loss='hinge', dual=True\n",
            "\n",
            "  warnings.warn(some_fits_failed_message, FitFailedWarning)\n",
            "/usr/local/lib/python3.10/dist-packages/sklearn/model_selection/_search.py:952: UserWarning: One or more of the test scores are non-finite: [0.79202928 0.79928577        nan 0.79910042 0.79920106 0.79913594\n",
            " 0.79900567        nan 0.79870313 0.79876248]\n",
            "  warnings.warn(\n",
            "/usr/local/lib/python3.10/dist-packages/sklearn/svm/_base.py:1244: ConvergenceWarning: Liblinear failed to converge, increase the number of iterations.\n",
            "  warnings.warn(\n"
          ]
        }
      ],
      "source": [
        "#Cantidad de combinaciones de parametros que quiero probar\n",
        "n=10\n",
        "\n",
        "#Conjunto de parámetros que quiero usar\n",
        "params_grid = {'C': [20, 40, 60, 80, 100],\n",
        "               'loss':['squared_hinge', 'hinge'],\n",
        "               'penalty': ['l1', 'l2'],\n",
        "               'dual': [True, False],\n",
        "               'multi_class': ['ovr', 'crammer_singer'],\n",
        "               }\n",
        "\n",
        "\n",
        "#Cantidad de splits para el Cross Validation\n",
        "folds=5\n",
        "\n",
        "#Kfold estratificado - arma los folds\n",
        "kfoldcv = StratifiedKFold(n_splits=folds)\n",
        "\n",
        "#Clasificador\n",
        "clf = LinearSVC()\n",
        "\n",
        "#Metrica que quiero optimizar F1 Score\n",
        "scorer_fn = make_scorer(f1_score)\n",
        "\n",
        "#Random Search Cross Validation\n",
        "randomcv = RandomizedSearchCV(estimator=clf,\n",
        "                              param_distributions = params_grid,\n",
        "                              scoring=scorer_fn,\n",
        "                              cv=kfoldcv,\n",
        "                              n_iter=n,\n",
        "                              )\n",
        "\n",
        "#Busco los hiperparamtros que optimizan F1 Score\n",
        "randomcv.fit(x_train_minmax,y_train);"
      ]
    },
    {
      "cell_type": "markdown",
      "metadata": {
        "id": "-vEun9XEClQR"
      },
      "source": [
        "Observamos los mejores hiperparametros y sus respectivos f1_score."
      ]
    },
    {
      "cell_type": "code",
      "execution_count": null,
      "metadata": {
        "colab": {
          "base_uri": "https://localhost:8080/"
        },
        "id": "uDa6W0aoCnBA",
        "outputId": "2a333509-823d-4a87-b125-3899d8e39351"
      },
      "outputs": [
        {
          "output_type": "stream",
          "name": "stdout",
          "text": [
            "{'penalty': 'l1', 'multi_class': 'crammer_singer', 'loss': 'squared_hinge', 'dual': False, 'C': 80}\n",
            "0.7992857662159525\n"
          ]
        }
      ],
      "source": [
        "#Mejores hiperparametros del clasificador\n",
        "print(randomcv.best_params_)\n",
        "#Mejor métrica\n",
        "print(randomcv.best_score_)"
      ]
    },
    {
      "cell_type": "code",
      "execution_count": null,
      "metadata": {
        "colab": {
          "base_uri": "https://localhost:8080/"
        },
        "id": "c_rmmvawUiwJ",
        "outputId": "e1ba17ab-0b1e-4a60-b181-29d1bc1b9763"
      },
      "outputs": [
        {
          "output_type": "execute_result",
          "data": {
            "text/plain": [
              "array([0.79202928, 0.79928577,        nan, 0.79910042, 0.79920106,\n",
              "       0.79913594, 0.79900567,        nan, 0.79870313, 0.79876248])"
            ]
          },
          "metadata": {},
          "execution_count": 11
        }
      ],
      "source": [
        "randomcv.cv_results_['mean_test_score']"
      ]
    },
    {
      "cell_type": "markdown",
      "metadata": {
        "id": "Mx4FtWV_U04D"
      },
      "source": [
        "Creamos el clasificador y lo entrenamos."
      ]
    },
    {
      "cell_type": "code",
      "execution_count": null,
      "metadata": {
        "colab": {
          "base_uri": "https://localhost:8080/",
          "height": 112
        },
        "id": "VE5WUeycU0K7",
        "outputId": "e2131de2-ffa2-4a0e-8005-11c2d9b72d1b"
      },
      "outputs": [
        {
          "output_type": "stream",
          "name": "stderr",
          "text": [
            "/usr/local/lib/python3.10/dist-packages/sklearn/svm/_base.py:1244: ConvergenceWarning: Liblinear failed to converge, increase the number of iterations.\n",
            "  warnings.warn(\n"
          ]
        },
        {
          "output_type": "execute_result",
          "data": {
            "text/plain": [
              "LinearSVC(C=80, dual=False, multi_class='crammer_singer', penalty='l1')"
            ],
            "text/html": [
              "<style>#sk-container-id-1 {color: black;background-color: white;}#sk-container-id-1 pre{padding: 0;}#sk-container-id-1 div.sk-toggleable {background-color: white;}#sk-container-id-1 label.sk-toggleable__label {cursor: pointer;display: block;width: 100%;margin-bottom: 0;padding: 0.3em;box-sizing: border-box;text-align: center;}#sk-container-id-1 label.sk-toggleable__label-arrow:before {content: \"▸\";float: left;margin-right: 0.25em;color: #696969;}#sk-container-id-1 label.sk-toggleable__label-arrow:hover:before {color: black;}#sk-container-id-1 div.sk-estimator:hover label.sk-toggleable__label-arrow:before {color: black;}#sk-container-id-1 div.sk-toggleable__content {max-height: 0;max-width: 0;overflow: hidden;text-align: left;background-color: #f0f8ff;}#sk-container-id-1 div.sk-toggleable__content pre {margin: 0.2em;color: black;border-radius: 0.25em;background-color: #f0f8ff;}#sk-container-id-1 input.sk-toggleable__control:checked~div.sk-toggleable__content {max-height: 200px;max-width: 100%;overflow: auto;}#sk-container-id-1 input.sk-toggleable__control:checked~label.sk-toggleable__label-arrow:before {content: \"▾\";}#sk-container-id-1 div.sk-estimator input.sk-toggleable__control:checked~label.sk-toggleable__label {background-color: #d4ebff;}#sk-container-id-1 div.sk-label input.sk-toggleable__control:checked~label.sk-toggleable__label {background-color: #d4ebff;}#sk-container-id-1 input.sk-hidden--visually {border: 0;clip: rect(1px 1px 1px 1px);clip: rect(1px, 1px, 1px, 1px);height: 1px;margin: -1px;overflow: hidden;padding: 0;position: absolute;width: 1px;}#sk-container-id-1 div.sk-estimator {font-family: monospace;background-color: #f0f8ff;border: 1px dotted black;border-radius: 0.25em;box-sizing: border-box;margin-bottom: 0.5em;}#sk-container-id-1 div.sk-estimator:hover {background-color: #d4ebff;}#sk-container-id-1 div.sk-parallel-item::after {content: \"\";width: 100%;border-bottom: 1px solid gray;flex-grow: 1;}#sk-container-id-1 div.sk-label:hover label.sk-toggleable__label {background-color: #d4ebff;}#sk-container-id-1 div.sk-serial::before {content: \"\";position: absolute;border-left: 1px solid gray;box-sizing: border-box;top: 0;bottom: 0;left: 50%;z-index: 0;}#sk-container-id-1 div.sk-serial {display: flex;flex-direction: column;align-items: center;background-color: white;padding-right: 0.2em;padding-left: 0.2em;position: relative;}#sk-container-id-1 div.sk-item {position: relative;z-index: 1;}#sk-container-id-1 div.sk-parallel {display: flex;align-items: stretch;justify-content: center;background-color: white;position: relative;}#sk-container-id-1 div.sk-item::before, #sk-container-id-1 div.sk-parallel-item::before {content: \"\";position: absolute;border-left: 1px solid gray;box-sizing: border-box;top: 0;bottom: 0;left: 50%;z-index: -1;}#sk-container-id-1 div.sk-parallel-item {display: flex;flex-direction: column;z-index: 1;position: relative;background-color: white;}#sk-container-id-1 div.sk-parallel-item:first-child::after {align-self: flex-end;width: 50%;}#sk-container-id-1 div.sk-parallel-item:last-child::after {align-self: flex-start;width: 50%;}#sk-container-id-1 div.sk-parallel-item:only-child::after {width: 0;}#sk-container-id-1 div.sk-dashed-wrapped {border: 1px dashed gray;margin: 0 0.4em 0.5em 0.4em;box-sizing: border-box;padding-bottom: 0.4em;background-color: white;}#sk-container-id-1 div.sk-label label {font-family: monospace;font-weight: bold;display: inline-block;line-height: 1.2em;}#sk-container-id-1 div.sk-label-container {text-align: center;}#sk-container-id-1 div.sk-container {/* jupyter's `normalize.less` sets `[hidden] { display: none; }` but bootstrap.min.css set `[hidden] { display: none !important; }` so we also need the `!important` here to be able to override the default hidden behavior on the sphinx rendered scikit-learn.org. See: https://github.com/scikit-learn/scikit-learn/issues/21755 */display: inline-block !important;position: relative;}#sk-container-id-1 div.sk-text-repr-fallback {display: none;}</style><div id=\"sk-container-id-1\" class=\"sk-top-container\"><div class=\"sk-text-repr-fallback\"><pre>LinearSVC(C=80, dual=False, multi_class=&#x27;crammer_singer&#x27;, penalty=&#x27;l1&#x27;)</pre><b>In a Jupyter environment, please rerun this cell to show the HTML representation or trust the notebook. <br />On GitHub, the HTML representation is unable to render, please try loading this page with nbviewer.org.</b></div><div class=\"sk-container\" hidden><div class=\"sk-item\"><div class=\"sk-estimator sk-toggleable\"><input class=\"sk-toggleable__control sk-hidden--visually\" id=\"sk-estimator-id-1\" type=\"checkbox\" checked><label for=\"sk-estimator-id-1\" class=\"sk-toggleable__label sk-toggleable__label-arrow\">LinearSVC</label><div class=\"sk-toggleable__content\"><pre>LinearSVC(C=80, dual=False, multi_class=&#x27;crammer_singer&#x27;, penalty=&#x27;l1&#x27;)</pre></div></div></div></div></div>"
            ]
          },
          "metadata": {},
          "execution_count": 12
        }
      ],
      "source": [
        "clf = LinearSVC().set_params(**randomcv.best_params_)\n",
        "\n",
        "#Entreno el clasificador\n",
        "clf.fit(x_train_minmax,y_train)"
      ]
    },
    {
      "cell_type": "markdown",
      "metadata": {
        "id": "CYuMbBunU_Tv"
      },
      "source": [
        "Predecimos."
      ]
    },
    {
      "cell_type": "code",
      "execution_count": null,
      "metadata": {
        "id": "PAgGih20VAPl"
      },
      "outputs": [],
      "source": [
        "y_pred = clf.predict(x_test_minmax)"
      ]
    },
    {
      "cell_type": "markdown",
      "metadata": {
        "id": "4EYNSDOBVC21"
      },
      "source": [
        "Calculamos las metricas de interes y su matriz de confusion."
      ]
    },
    {
      "cell_type": "code",
      "execution_count": null,
      "metadata": {
        "colab": {
          "base_uri": "https://localhost:8080/",
          "height": 638
        },
        "id": "kRHduixfVCsg",
        "outputId": "fb070a57-301d-46e6-9214-d40fc9faa73f"
      },
      "outputs": [
        {
          "output_type": "stream",
          "name": "stdout",
          "text": [
            "Accuracy: 0.7970731707317074\n",
            "Recall: 0.78656\n",
            "Precision: 0.8088186903586706\n",
            "f1 score: 0.7975340687865023\n"
          ]
        },
        {
          "output_type": "display_data",
          "data": {
            "text/plain": [
              "<Figure size 800x600 with 1 Axes>"
            ],
            "image/png": "[encoded data removed]"
          },
          "metadata": {}
        }
      ],
      "source": [
        "metricas_y_matriz_confusion(y_pred, y_test)"
      ]
    },
    {
      "cell_type": "markdown",
      "metadata": {
        "id": "raweSLvsYg2_"
      },
      "source": [
        "Aplicaamos la version escalada para el test real, asi al momento de predecir, usamos los datos escalados, ya que entrenamos el modelo de la misma forma."
      ]
    },
    {
      "cell_type": "code",
      "execution_count": null,
      "metadata": {
        "id": "2Wluho8cYjrJ"
      },
      "outputs": [],
      "source": [
        "x_submission  = min_max_scaler.transform(ds_test)"
      ]
    },
    {
      "cell_type": "markdown",
      "metadata": {
        "id": "mSM1Scda7R3N"
      },
      "source": [
        "### **RF - Random Forest Clasificación**"
      ]
    },
    {
      "cell_type": "code",
      "execution_count": null,
      "metadata": {
        "colab": {
          "base_uri": "https://localhost:8080/",
          "height": 693
        },
        "id": "0ES93cD-DY8E",
        "outputId": "6278d34e-ed9b-436a-bbe3-27d9017bf70d"
      },
      "outputs": [
        {
          "output_type": "stream",
          "name": "stdout",
          "text": [
            "Mejores hiperparámetros: {'n_estimators': 200, 'min_samples_split': 2, 'min_samples_leaf': 1, 'max_depth': None}\n",
            "Precisión promedio con k-fold Cross Validation: 0.8748199767711963\n",
            "Precisión en el conjunto de prueba: 0.8785907859078591\n",
            "Accuracy: 0.8785907859078591\n",
            "Recall: 0.86272\n",
            "Precision: 0.8945913062714301\n",
            "f1 score: 0.8783666377063423\n"
          ]
        },
        {
          "output_type": "display_data",
          "data": {
            "text/plain": [
              "<Figure size 800x600 with 1 Axes>"
            ],
            "image/png": "[encoded data removed]"
          },
          "metadata": {}
        }
      ],
      "source": [
        "#Cantidad de combinaciones de parametros que quiero probar\n",
        "n=10\n",
        "\n",
        "#Crear el clasificador Random Forest\n",
        "rf_classifier = RandomForestClassifier()\n",
        "\n",
        "#Definir un espacio de búsqueda de hiperparámetros\n",
        "param_grid = {\n",
        "    'n_estimators': [100, 200, 300],\n",
        "    'max_depth': [None, 10, 20, 30],\n",
        "    'min_samples_split': [2, 5, 10],\n",
        "    'min_samples_leaf': [1, 2, 4]\n",
        "}\n",
        "\n",
        "#Realizar k-fold Cross Validation para evaluar el rendimiento con diferentes hiperparámetros\n",
        "kf = KFold(n_splits=5, shuffle=True, random_state=42)\n",
        "\n",
        "#Realizar la búsqueda de hiperparámetros con GridSearchCV\n",
        "grid_search = RandomizedSearchCV(estimator=rf_classifier, param_distributions=param_grid, cv=kf, scoring='accuracy', n_iter=n)\n",
        "grid_search.fit(x_train, y_train)\n",
        "\n",
        "#Mostrar los mejores hiperparámetros encontrados\n",
        "print(\"Mejores hiperparámetros:\", grid_search.best_params_)\n",
        "\n",
        "#Entrenar un clasificador Random Forest con los mejores hiperparámetros en el conjunto de datos completo\n",
        "best_rf_classifier = grid_search.best_estimator_\n",
        "\n",
        "#Evaluar el rendimiento del clasificador con los mejores hiperparámetros utilizando k-fold Cross Validation\n",
        "k_fold_scores = cross_val_score(best_rf_classifier, x_train, y_train, cv=kf, scoring='accuracy')\n",
        "\n",
        "#Calcular y mostrar la precisión promedio con k-fold Cross Validation\n",
        "mean_accuracy = k_fold_scores.mean()\n",
        "print(\"Precisión promedio con k-fold Cross Validation:\", mean_accuracy)\n",
        "\n",
        "#Evaluar el rendimiento del modelo en el conjunto de prueba\n",
        "test_accuracy = best_rf_classifier.score(x_test, y_test)\n",
        "print(\"Precisión en el conjunto de prueba:\", test_accuracy)\n",
        "\n",
        "#Obtener predicciones en el conjunto de prueba\n",
        "y_pred = best_rf_classifier.predict(x_test)\n",
        "\n",
        "metricas_y_matriz_confusion(y_pred, y_test)"
      ]
    },
    {
      "cell_type": "markdown",
      "metadata": {
        "id": "m2erDiwy7Vks"
      },
      "source": [
        "### **XGBoost - Extreme Gradient Boosting**"
      ]
    },
    {
      "cell_type": "code",
      "execution_count": null,
      "metadata": {
        "id": "XQrbIOoWDdLK",
        "colab": {
          "base_uri": "https://localhost:8080/",
          "height": 675
        },
        "outputId": "ef2b4522-d480-497b-c4de-a75978a2c959"
      },
      "outputs": [
        {
          "output_type": "stream",
          "name": "stdout",
          "text": [
            "Mejores hiperparámetros: {'colsample_bytree': 0.8, 'learning_rate': 0.2, 'max_depth': 5, 'n_estimators': 300, 'subsample': 0.9}\n",
            "Precisión en el conjunto de prueba con los mejores hiperparámetros: 0.873929539295393\n",
            "Accuracy: 0.873929539295393\n",
            "Recall: 0.87776\n",
            "Precision: 0.87458816027208\n",
            "f1 score: 0.876171209540034\n"
          ]
        },
        {
          "output_type": "display_data",
          "data": {
            "text/plain": [
              "<Figure size 800x600 with 1 Axes>"
            ],
            "image/png": "[encoded data removed]"
          },
          "metadata": {}
        }
      ],
      "source": [
        "#Crear el clasificador XGBoost\n",
        "xgb_classifier = xgb.XGBClassifier()\n",
        "\n",
        "#Definir el espacio de búsqueda de hiperparámetros\n",
        "param_grid = {\n",
        "    'n_estimators': [100, 200, 300],\n",
        "    'max_depth': [3, 4, 5],\n",
        "    'learning_rate': [0.01, 0.1, 0.2],\n",
        "    'subsample': [0.8, 0.9, 1.0],\n",
        "    'colsample_bytree': [0.8, 0.9, 1.0],\n",
        "}\n",
        "\n",
        "#Realizar la búsqueda de hiperparámetros con GridSearchCV y StratifiedKFold\n",
        "skf = StratifiedKFold(n_splits=5, shuffle=True, random_state=42)\n",
        "grid_search = GridSearchCV(estimator=xgb_classifier, param_grid=param_grid, cv=skf, scoring='accuracy')\n",
        "grid_search.fit(x_train, y_train)\n",
        "\n",
        "#Mostrar los mejores hiperparámetros encontrados\n",
        "print(\"Mejores hiperparámetros:\", grid_search.best_params_)\n",
        "\n",
        "#Entrenar un clasificador XGBoost con los mejores hiperparámetros en el conjunto de datos completo\n",
        "best_xgb_classifier = grid_search.best_estimator_\n",
        "best_xgb_classifier.fit(x_train, y_train)\n",
        "\n",
        "#Evaluar el rendimiento del clasificador con los mejores hiperparámetros en el conjunto de prueba\n",
        "test_accuracy = best_xgb_classifier.score(x_test, y_test)\n",
        "print(\"Precisión en el conjunto de prueba con los mejores hiperparámetros:\", test_accuracy)\n",
        "\n",
        "# Obtener predicciones en el conjunto de prueba\n",
        "y_pred = best_xgb_classifier.predict(x_test)\n",
        "\n",
        "metricas_y_matriz_confusion(y_pred, y_test)"
      ]
    },
    {
      "cell_type": "markdown",
      "metadata": {
        "id": "LivMFaVU7chQ"
      },
      "source": [
        "### **Ensambles híbridos**"
      ]
    },
    {
      "cell_type": "markdown",
      "metadata": {
        "id": "oVV9X1Ho7hhe"
      },
      "source": [
        "#### **Voting**"
      ]
    },
    {
      "cell_type": "code",
      "execution_count": null,
      "metadata": {
        "colab": {
          "base_uri": "https://localhost:8080/",
          "height": 656
        },
        "id": "gYJvtGHhDvCG",
        "outputId": "c82cf9ca-ded6-48e1-c92f-72dec86888c3"
      },
      "outputs": [
        {
          "output_type": "stream",
          "name": "stdout",
          "text": [
            "Precisión del ensamble tipo Voting en el conjunto de prueba: 0.7613550135501355\n",
            "Accuracy: 0.7613550135501355\n",
            "Recall: 0.7889066666666666\n",
            "Precision: 0.7531568228105906\n",
            "f1 score: 0.7706173482677782\n"
          ]
        },
        {
          "output_type": "display_data",
          "data": {
            "text/plain": [
              "<Figure size 800x600 with 1 Axes>"
            ],
            "image/png": "[encoded data removed]"
          },
          "metadata": {}
        }
      ],
      "source": [
        "#Crear el ensamble tipo Voting\n",
        "ensemble_v = VotingClassifier(estimators=[('rf', rf_classifier), ('knn', best_knn)], voting='soft')\n",
        "\n",
        "#Entrenar el ensamble en el conjunto de entrenamiento\n",
        "ensemble_v.fit(x_train, y_train)\n",
        "\n",
        "#Evaluar el rendimiento del ensamble en el conjunto de prueba\n",
        "y_pred = ensemble_v.predict(x_test)\n",
        "accuracy = accuracy_score(y_test, y_pred)\n",
        "print(\"Precisión del ensamble tipo Voting en el conjunto de prueba:\", accuracy)\n",
        "\n",
        "metricas_y_matriz_confusion(y_pred, y_test)"
      ]
    },
    {
      "cell_type": "markdown",
      "metadata": {
        "id": "lg0RmJJV7lkB"
      },
      "source": [
        "#### **Stacking**"
      ]
    },
    {
      "cell_type": "code",
      "execution_count": null,
      "metadata": {
        "id": "Dv4sZV_CDyEZ",
        "colab": {
          "base_uri": "https://localhost:8080/",
          "height": 656
        },
        "outputId": "9e91f396-5677-42ac-8a94-f4d8c6c3eac4"
      },
      "outputs": [
        {
          "output_type": "stream",
          "name": "stdout",
          "text": [
            "Precisión del ensamble tipo Stacking en el conjunto de prueba: 0.8715989159891598\n",
            "Accuracy: 0.8715989159891598\n",
            "Recall: 0.8705066666666667\n",
            "Precision: 0.8760197509660799\n",
            "f1 score: 0.8732545075169869\n"
          ]
        },
        {
          "output_type": "display_data",
          "data": {
            "text/plain": [
              "<Figure size 800x600 with 1 Axes>"
            ],
            "image/png": "[encoded data removed]"
          },
          "metadata": {}
        }
      ],
      "source": [
        "#Crear el ensamble tipo Stacking\n",
        "ensemble_s = StackingClassifier(estimators=[('rf', rf_classifier), ('knn', best_knn)], final_estimator=RandomForestClassifier())\n",
        "\n",
        "#Entrenar el ensamble en el conjunto de entrenamiento\n",
        "ensemble_s.fit(x_train, y_train)\n",
        "\n",
        "#Evaluar el rendimiento del ensamble en el conjunto de prueba\n",
        "y_pred = ensemble_s.predict(x_test)\n",
        "accuracy = accuracy_score(y_test, y_pred)\n",
        "print(\"Precisión del ensamble tipo Stacking en el conjunto de prueba:\", accuracy)\n",
        "\n",
        "metricas_y_matriz_confusion(y_pred, y_test)"
      ]
    },
    {
      "cell_type": "markdown",
      "metadata": {
        "id": "DhDBGrcg_wHi"
      },
      "source": [
        "## **Prediccion final**"
      ]
    },
    {
      "cell_type": "markdown",
      "metadata": {
        "id": "8ZNyetB5a1AL"
      },
      "source": [
        "Seleccionamos el dataset a predecir."
      ]
    },
    {
      "cell_type": "code",
      "execution_count": null,
      "metadata": {
        "id": "BkAzNnABa4iR"
      },
      "outputs": [],
      "source": [
        "x_submission = ds_test"
      ]
    },
    {
      "cell_type": "markdown",
      "metadata": {
        "id": "mboSwi_8Basb"
      },
      "source": [
        "Luego de entrenar estos modelos con el dataset de train, vamos a predecir con el test."
      ]
    },
    {
      "cell_type": "code",
      "execution_count": null,
      "metadata": {
        "id": "QsjsClOvBoZL"
      },
      "outputs": [],
      "source": [
        "y_pred_final = clf.predict(x_submission)"
      ]
    },
    {
      "cell_type": "markdown",
      "metadata": {
        "id": "s63C_7K6ByAb"
      },
      "source": [
        "## **Submission**"
      ]
    },
    {
      "cell_type": "markdown",
      "metadata": {
        "id": "lWruH0jQB1it"
      },
      "source": [
        "Haremos la exportacion de esta prediccion para subirla a la competencia de **kaggle**."
      ]
    },
    {
      "cell_type": "markdown",
      "metadata": {
        "id": "_LJd6A_pCFrb"
      },
      "source": [
        "Cargamos el dataset final con las predicciones hechas."
      ]
    },
    {
      "cell_type": "code",
      "execution_count": null,
      "metadata": {
        "id": "9JVJDZ5iB8uB"
      },
      "outputs": [],
      "source": [
        "df_submissing = pd.DataFrame({'id': ds_test_orig['id'], 'is_canceled': y_pred_final.astype(int)})"
      ]
    },
    {
      "cell_type": "markdown",
      "metadata": {
        "id": "72y3mOCqCAvV"
      },
      "source": [
        "Finalmente, exportamos."
      ]
    },
    {
      "cell_type": "code",
      "execution_count": null,
      "metadata": {
        "id": "i8pNdsQuCAaS"
      },
      "outputs": [],
      "source": [
        "df_submissing.to_csv('./submission_chp3_svm_datos_escalados.csv', index=False)"
      ]
    }
  ],
  "metadata": {
    "colab": {
      "provenance": [],
      "toc_visible": true,
      "include_colab_link": true
    },
    "kernelspec": {
      "display_name": "Python 3",
      "name": "python3"
    },
    "language_info": {
      "name": "python"
    }
  },
  "nbformat": 4,
  "nbformat_minor": 0
}